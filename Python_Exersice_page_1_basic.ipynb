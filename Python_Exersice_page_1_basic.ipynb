{
  "nbformat": 4,
  "nbformat_minor": 0,
  "metadata": {
    "colab": {
      "provenance": [],
      "collapsed_sections": [],
      "authorship_tag": "ABX9TyN7o6KtJg9PH2hU39Pli57j",
      "include_colab_link": true
    },
    "kernelspec": {
      "name": "python3",
      "display_name": "Python 3"
    },
    "language_info": {
      "name": "python"
    }
  },
  "cells": [
    {
      "cell_type": "markdown",
      "metadata": {
        "id": "view-in-github",
        "colab_type": "text"
      },
      "source": [
        "<a href=\"https://colab.research.google.com/github/dannyonin/Python_exp/blob/main/Python_Exersice_page_1_basic.ipynb\" target=\"_parent\"><img src=\"https://colab.research.google.com/assets/colab-badge.svg\" alt=\"Open In Colab\"/></a>"
      ]
    },
    {
      "cell_type": "markdown",
      "source": [
        "#Intro 📚 😎\n",
        "\n",
        "##Welcome to the BASICS section!\n",
        "\n",
        "\n",
        "\n",
        "We'll start with simple exercises to warm up a bit 💪 🔽"
      ],
      "metadata": {
        "id": "mbyFwboswVRl"
      }
    },
    {
      "cell_type": "markdown",
      "source": [
        "---\n",
        "####Exercise 0\n",
        "Print the Python version to the console.\n",
        "\n",
        "\n",
        "\n",
        "**Expected result:**\n",
        "\n",
        "\n",
        "\n",
        "`3.8.10`"
      ],
      "metadata": {
        "id": "GjCxxWu6xc4h"
      }
    },
    {
      "cell_type": "code",
      "source": [
        "import sys\n",
        "\n",
        "print(sys.version.split()[0])"
      ],
      "metadata": {
        "id": "1fsYRQijxm0e"
      },
      "execution_count": null,
      "outputs": []
    },
    {
      "cell_type": "markdown",
      "source": [
        "---\n",
        "#### Exercise 1\n",
        "Using the `print()` function, print string: `'Learn Python!'` to the console."
      ],
      "metadata": {
        "id": "MLVM4XEHsfqa"
      }
    },
    {
      "cell_type": "code",
      "source": [
        "print('Learn Python!')"
      ],
      "metadata": {
        "id": "Pqb9n4MdsiLh"
      },
      "execution_count": null,
      "outputs": []
    },
    {
      "cell_type": "markdown",
      "source": [
        "---\n",
        "#### Exercise 2\n",
        "Assign to the variable age number 20. Using the age variable and the `print()` function print to the console the following text:\n",
        "\n",
        "\n",
        "\n",
        "`I am 20 years old.`\n"
      ],
      "metadata": {
        "id": "x1pl1lEbsjpo"
      }
    },
    {
      "cell_type": "code",
      "source": [
        "age = 20\n",
        "print(\"I am {} years old.\".format(age))"
      ],
      "metadata": {
        "id": "QXUxCBmTs8_d"
      },
      "execution_count": null,
      "outputs": []
    },
    {
      "cell_type": "markdown",
      "source": [
        "---\n",
        "#### Exercise 3\n",
        "Create two variables (you can freely choose the names) and assign to them following values:\n",
        "\n",
        "*  'Python'\n",
        "*  '3.8'\n",
        "\n",
        "Using these variables and the print() function, print to the console the following text:\n",
        "\n",
        "\n",
        "`I am learning Python version 3.8`\n",
        "\n"
      ],
      "metadata": {
        "id": "orJ0Qzdbuw7Z"
      }
    },
    {
      "cell_type": "code",
      "source": [
        "b = 3.8\n",
        "a = \"Python\"\n",
        "\n",
        "print(\"I am learning {} version {}\".format(a, b))"
      ],
      "metadata": {
        "id": "hn6nWtnYvYyK"
      },
      "execution_count": null,
      "outputs": []
    },
    {
      "cell_type": "markdown",
      "source": [
        "---\n",
        "#### Exercise 4\n",
        "Assign 199.99 to the price variable and check the solution.\n",
        "\n",
        "\n",
        "\n",
        "Expected result:\n",
        "\n",
        "\n",
        "\n",
        "`This costs 199.99`\n"
      ],
      "metadata": {
        "id": "i6js3JqCv6-A"
      }
    },
    {
      "cell_type": "code",
      "source": [
        "price = 199.99\n",
        "print('This costs', price)"
      ],
      "metadata": {
        "id": "BFedZFrIwDCB"
      },
      "execution_count": null,
      "outputs": []
    },
    {
      "cell_type": "markdown",
      "source": [
        "---\n",
        "####Exercise 5\n",
        "Assign 69.99 to the price variable and check the solution.\n",
        "\n",
        "\n",
        "\n",
        "Expected result:\n",
        "\n",
        "\n",
        "\n",
        "This costs 69.99\n"
      ],
      "metadata": {
        "id": "1VLz-zBowI_-"
      }
    },
    {
      "cell_type": "code",
      "source": [
        "price = 69.99\n",
        "print(f'This costs {price}')\n"
      ],
      "metadata": {
        "id": "P4q2UVe9wIXE"
      },
      "execution_count": null,
      "outputs": []
    },
    {
      "cell_type": "markdown",
      "source": [
        "---\n",
        "####Exercise 6\n",
        "Assign two variables that store the following values:\n",
        "\n",
        "- $ 34.99 - product price *(float)*\n",
        "\n",
        "- 20 lbs - product weight *(int)*\n",
        "\n",
        "\n",
        "\n",
        "Using the f-string formatting style print to the console the following message:\n",
        "\n",
        "\n",
        "\n",
        "`Price: $34.99. Weight: 20 lbs.`\n"
      ],
      "metadata": {
        "id": "6EBpCqdAzBeU"
      }
    },
    {
      "cell_type": "code",
      "source": [
        "price = 34.99\n",
        "weight = 20\n",
        "\n",
        "print(\"Price: ${}. Weight: {} lbs.\".format(price , weight))"
      ],
      "metadata": {
        "id": "ZMoTkfBxzQnd"
      },
      "execution_count": null,
      "outputs": []
    },
    {
      "cell_type": "markdown",
      "source": [
        "---\n",
        "####Exercise 7\n",
        "Below is an approximation of pi:\n",
        "\n",
        "\n",
        "\n",
        "`pi = 3.1415926535`\n",
        "\n",
        "\n",
        "Using f-string formatting, print the approximation of pi to two decimal places as shown below.\n",
        "\n",
        "\n",
        "**Expected result:**\n",
        "\n",
        "\n",
        "\n",
        "`Pi: 3.14`\n",
        "\n",
        "\n"
      ],
      "metadata": {
        "id": "J6ThCR6-zRVM"
      }
    },
    {
      "cell_type": "code",
      "source": [
        "pi = 3.1415926535\n",
        "\n",
        "print(f'Pi: {pi:.2f}')"
      ],
      "metadata": {
        "id": "mlE04cMFzh6s"
      },
      "execution_count": null,
      "outputs": []
    },
    {
      "cell_type": "markdown",
      "source": [
        "---\n",
        "####Exercise 8\n",
        "Using three print() function (one line - one function) print the following text:\n",
        "\n",
        "\n",
        "\n",
        "\n",
        "```\n",
        "----------------------------------------\n",
        "VERSION: 1.0.1\n",
        "----------------------------------------\n",
        "\n",
        "```\n",
        "\n",
        "\n",
        "\n",
        "**Tip:** The lines consist of 40 dash characters: `'-'`.\n",
        "\n"
      ],
      "metadata": {
        "id": "_JFh_j4SzoVq"
      }
    },
    {
      "cell_type": "code",
      "source": [
        "print('-'*40)\n",
        "print(\"VERSION: 1.0.1\")\n",
        "print('-'*40)"
      ],
      "metadata": {
        "id": "3nkqEtUXz1RQ"
      },
      "execution_count": null,
      "outputs": []
    }
  ]
}