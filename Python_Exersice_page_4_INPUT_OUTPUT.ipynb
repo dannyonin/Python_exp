{
  "nbformat": 4,
  "nbformat_minor": 0,
  "metadata": {
    "colab": {
      "provenance": [],
      "authorship_tag": "ABX9TyM5+JirM7GPp7I3SJOlQq9W"
    },
    "kernelspec": {
      "name": "python3",
      "display_name": "Python 3"
    },
    "language_info": {
      "name": "python"
    }
  },
  "cells": [
    {
      "cell_type": "markdown",
      "source": [
        "#Intro 📚 📓 #4\n",
        "##Welcome to the INPUT/OUTPUT section! ⤴\n",
        "💽 🖱 👆"
      ],
      "metadata": {
        "id": "__IVoPpmn6Tl"
      }
    },
    {
      "cell_type": "markdown",
      "source": [
        "---\n",
        "## Reading files"
      ],
      "metadata": {
        "id": "I9lH9Xbmoioo"
      }
    },
    {
      "cell_type": "markdown",
      "source": [
        "---\n",
        "### Exercise 110\n",
        "Write a program that reads playway.txt file containing Playway stock data, and then calculates the average closing price (3-day average).\n",
        "\n",
        "Print the result to the console as shown below.\n",
        "\n",
        "\n",
        "\n",
        "Expected result:\n",
        "\n",
        "\n",
        "```\n",
        "3-day average closing price: xxx.xx\n",
        "```\n",
        "***solution:***"
      ],
      "metadata": {
        "id": "usx8XV-Xot54"
      }
    },
    {
      "cell_type": "code",
      "execution_count": null,
      "metadata": {
        "id": "jat77OUpnwcx"
      },
      "outputs": [],
      "source": [
        "#"
      ]
    },
    {
      "cell_type": "markdown",
      "source": [
        "---\n",
        "### Exercise 111\n",
        "Read the currencies.txt file. Each line has a different currency pair. Create a list with the names of currency pairs containing the 'USD' symbol.\n",
        "\n",
        "\n",
        "\n",
        "Expected result:\n",
        "\n",
        "\n",
        "```\n",
        "['ARSUSD', 'AUDUSD']\n",
        "```"
      ],
      "metadata": {
        "id": "sd3yoCuUo8Uk"
      }
    },
    {
      "cell_type": "code",
      "source": [],
      "metadata": {
        "id": "lMoJEL14pNfX"
      },
      "execution_count": null,
      "outputs": []
    },
    {
      "cell_type": "markdown",
      "source": [
        "---\n",
        "### Exercise 112\n",
        "The playway.csv file contains Playway's listing for March 2020. This file was loaded as follows to the content variable:\n",
        "\n",
        "\n",
        "```\n",
        "with open('playway.csv', 'r') as file:\n",
        "    content = file.read().splitlines()\n",
        "```\n",
        "\n",
        "content:\n",
        "\n",
        "\n",
        "```\n",
        "['Date,Open,High,Low,Close,Volume',\n",
        " '2020-03-02,305,324.5,283.5,310,64081',\n",
        " '2020-03-03,325.5,340.5,320,340.5,55496',\n",
        " '2020-03-04,324,340.5,315,330,36152',\n",
        " '2020-03-05,344,344,310,315,35992',\n",
        " '2020-03-06,306.5,307,291,305,32539',\n",
        " '2020-03-09,274,291,250,258,79402',\n",
        " '2020-03-10,278,284.5,256,264,35700',\n",
        " '2020-03-11,270,270,238.5,245,60445',\n",
        " '2020-03-12,218,228,196,197,94031',\n",
        " '2020-03-13,210,229,198.8,211,100412',\n",
        " '2020-03-16,205,248,197.8,240.5,50659',\n",
        " '2020-03-17,245,269,232.5,264,99480',\n",
        " '2020-03-18,264,280,251,270,70136',\n",
        " '2020-03-19,267,280,267,279.5,30732',\n",
        " '2020-03-20,297.5,307,280,280.5,43426',\n",
        " '2020-03-23,274,289,258,285,37098',\n",
        " '2020-03-24,305,309,296.5,309,31939',\n",
        " '2020-03-25,313,330,295,304,46724',\n",
        " '2020-03-26,300,309,295.5,300,27213',\n",
        " '2020-03-27,302,306.5,290,296,13466',\n",
        " '2020-03-30,299,300,287,300,10316',\n",
        " '2020-03-31,302.5,309,302,306.5,15698']\n",
        "```\n",
        "\n",
        "Transform the content of the file to get a dictionary containing two keys: 'Date' and 'Close'. The values for these keys will be, respectively, lists consisting of all dates and closing prices. Convert closing prices to float type and print this dictionary to the console as shown below.\n",
        "\n",
        "Formatted result:\n",
        "\n",
        "\n",
        "```\n",
        "{'Close': [310.0,\n",
        "  340.5,\n",
        "  330.0,\n",
        "  315.0,\n",
        "  305.0,\n",
        "  258.0,\n",
        "  264.0,\n",
        "  245.0,\n",
        "  197.0,\n",
        "  211.0,\n",
        "  240.5,\n",
        "  264.0,\n",
        "  270.0,\n",
        "  279.5,\n",
        "  280.5,\n",
        "  285.0,\n",
        "  309.0,\n",
        "  304.0,\n",
        "  300.0,\n",
        "  296.0,\n",
        "  300.0,\n",
        "  306.5],\n",
        " 'Date': ['2020-03-02',\n",
        "  '2020-03-03',\n",
        "  '2020-03-04',\n",
        "  '2020-03-05',\n",
        "  '2020-03-06',\n",
        "  '2020-03-09',\n",
        "  '2020-03-10',\n",
        "  '2020-03-11',\n",
        "  '2020-03-12',\n",
        "  '2020-03-13',\n",
        "  '2020-03-16',\n",
        "  '2020-03-17',\n",
        "  '2020-03-18',\n",
        "  '2020-03-19',\n",
        "  '2020-03-20',\n",
        "  '2020-03-23',\n",
        "  '2020-03-24',\n",
        "  '2020-03-25',\n",
        "  '2020-03-26',\n",
        "  '2020-03-27',\n",
        "  '2020-03-30',\n",
        "  '2020-03-31']}\n",
        "```\n",
        "\n",
        "Expected result:\n",
        "\n",
        "\n",
        "```\n",
        "{'Date': ['2020-03-02', '2020-03-03', '2020-03-04', '2020-03-05', '2020-03-06', '2020-03-09', '2020-03-10', '2020-03-11', '2020-03-12', '2020-03-13', '2020-03-16', '2020-03-17', '2020-03-18', '2020-03-19', '2020-03-20', '2020-03-23', '2020-03-24', '2020-03-25', '2020-03-26', '2020-03-27', '2020-03-30', '2020-03-31'], 'Close': [310.0, 340.5, 330.0, 315.0, 305.0, 258.0, 264.0, 245.0, 197.0, 211.0, 240.5, 264.0, 270.0, 279.5, 280.5, 285.0, 309.0, 304.0, 300.0, 296.0, 300.0, 306.5]}\n",
        "```\n",
        "***solution:***"
      ],
      "metadata": {
        "id": "b2RyC2bXpN5J"
      }
    },
    {
      "cell_type": "code",
      "source": [],
      "metadata": {
        "id": "kiuO7r8zpWiU"
      },
      "execution_count": null,
      "outputs": []
    },
    {
      "cell_type": "markdown",
      "source": [
        "---\n",
        "### Exercise 113\n",
        "The playway.csv file contains Playway's listing for March 2020. This file was loaded as follows to the content variable:\n",
        "\n",
        "\n",
        "```\n",
        "with open('playway.csv', 'r') as file:\n",
        "    content = file.read().splitlines()\n",
        "```\n",
        "\n",
        "content:\n",
        "\n",
        "\n",
        "```\n",
        "['Date,Open,High,Low,Close,Volume',\n",
        " '2020-03-02,305,324.5,283.5,310,64081',\n",
        " '2020-03-03,325.5,340.5,320,340.5,55496',\n",
        " '2020-03-04,324,340.5,315,330,36152',\n",
        " '2020-03-05,344,344,310,315,35992',\n",
        " '2020-03-06,306.5,307,291,305,32539',\n",
        " '2020-03-09,274,291,250,258,79402',\n",
        " '2020-03-10,278,284.5,256,264,35700',\n",
        " '2020-03-11,270,270,238.5,245,60445',\n",
        " '2020-03-12,218,228,196,197,94031',\n",
        " '2020-03-13,210,229,198.8,211,100412',\n",
        " '2020-03-16,205,248,197.8,240.5,50659',\n",
        " '2020-03-17,245,269,232.5,264,99480',\n",
        " '2020-03-18,264,280,251,270,70136',\n",
        " '2020-03-19,267,280,267,279.5,30732',\n",
        " '2020-03-20,297.5,307,280,280.5,43426',\n",
        " '2020-03-23,274,289,258,285,37098',\n",
        " '2020-03-24,305,309,296.5,309,31939',\n",
        " '2020-03-25,313,330,295,304,46724',\n",
        " '2020-03-26,300,309,295.5,300,27213',\n",
        " '2020-03-27,302,306.5,290,296,13466',\n",
        " '2020-03-30,299,300,287,300,10316',\n",
        " '2020-03-31,302.5,309,302,306.5,15698']\n",
        "```\n",
        "\n",
        "Find the highest volume for a given month and print the result to the console as shown below.\n",
        "\n",
        "\n",
        "\n",
        "Expected result:\n",
        "\n",
        "\n",
        "```\n",
        "Max Vol: 100412\n",
        "```\n",
        "***solution:***"
      ],
      "metadata": {
        "id": "-UrMcVt1pYz4"
      }
    },
    {
      "cell_type": "code",
      "source": [],
      "metadata": {
        "id": "prlsTjO1pg-a"
      },
      "execution_count": null,
      "outputs": []
    },
    {
      "cell_type": "markdown",
      "source": [
        "---\n",
        "###Exercise 114\n",
        "The playway.csv file contains Playway's listing for March 2020. This file was loaded as follows to the content variable:\n",
        "\n",
        "\n",
        "```\n",
        "with open('playway.csv', 'r') as file:\n",
        "    content = file.read().splitlines()\n",
        "```\n",
        "\n",
        "content:\n",
        "\n",
        "\n",
        "```\n",
        "['Date,Open,High,Low,Close,Volume',\n",
        " '2020-03-02,305,324.5,283.5,310,64081',\n",
        " '2020-03-03,325.5,340.5,320,340.5,55496',\n",
        " '2020-03-04,324,340.5,315,330,36152',\n",
        " '2020-03-05,344,344,310,315,35992',\n",
        " '2020-03-06,306.5,307,291,305,32539',\n",
        " '2020-03-09,274,291,250,258,79402',\n",
        " '2020-03-10,278,284.5,256,264,35700',\n",
        " '2020-03-11,270,270,238.5,245,60445',\n",
        " '2020-03-12,218,228,196,197,94031',\n",
        " '2020-03-13,210,229,198.8,211,100412',\n",
        " '2020-03-16,205,248,197.8,240.5,50659',\n",
        " '2020-03-17,245,269,232.5,264,99480',\n",
        " '2020-03-18,264,280,251,270,70136',\n",
        " '2020-03-19,267,280,267,279.5,30732',\n",
        " '2020-03-20,297.5,307,280,280.5,43426',\n",
        " '2020-03-23,274,289,258,285,37098',\n",
        " '2020-03-24,305,309,296.5,309,31939',\n",
        " '2020-03-25,313,330,295,304,46724',\n",
        " '2020-03-26,300,309,295.5,300,27213',\n",
        " '2020-03-27,302,306.5,290,296,13466',\n",
        " '2020-03-30,299,300,287,300,10316',\n",
        " '2020-03-31,302.5,309,302,306.5,15698']\n",
        "```\n",
        "\n",
        "Find the day with the highest volume value for the given month and print the result to the console as shown below.\n",
        "\n",
        "\n",
        "\n",
        "Expected result:\n",
        "\n",
        "\n",
        "```\n",
        "Date: 2020-03-13\n",
        "```\n",
        "***solution:***"
      ],
      "metadata": {
        "id": "bWEOyzjiphM0"
      }
    },
    {
      "cell_type": "code",
      "source": [],
      "metadata": {
        "id": "VQJdK2mVpoxe"
      },
      "execution_count": null,
      "outputs": []
    },
    {
      "cell_type": "markdown",
      "source": [
        "---\n",
        "## Saving file"
      ],
      "metadata": {
        "id": "v06J0qd3ppBT"
      }
    },
    {
      "cell_type": "markdown",
      "source": [
        "---\n",
        "### Exercise 115\n",
        "Generate all even numbers from 2 to 18 inclusive. Then write each number on a separate line to the file called num.txt.\n",
        "\n",
        "\n",
        "\n",
        "File num.txt after saving:\n",
        "\n",
        "\n",
        "```\n",
        "2\n",
        "4\n",
        "6\n",
        "8\n",
        "10\n",
        "12\n",
        "14\n",
        "16\n",
        "18\n",
        "```\n",
        "***solution:***"
      ],
      "metadata": {
        "id": "GDSY_z7Apt8C"
      }
    },
    {
      "cell_type": "code",
      "source": [],
      "metadata": {
        "id": "2rHmxrCQp1AO"
      },
      "execution_count": null,
      "outputs": []
    },
    {
      "cell_type": "markdown",
      "source": [
        "---\n",
        "### Exercise 116\n",
        "The following dictionary:\n",
        "\n",
        "\n",
        "```\n",
        "stocks = {'PLW': ['Playway', 350], 'BBT': ['Boombit', 22]}\n",
        "```\n",
        "\n",
        "save to stocks.json using the json package. Set the indent to 4.\n",
        "\n",
        "\n",
        "\n",
        "File stocks.json after saving:\n",
        "\n",
        "\n",
        "```\n",
        "{\n",
        "    \"PLW\": [\n",
        "        \"Playway\",\n",
        "        350\n",
        "    ],\n",
        "    \"BBT\": [\n",
        "        \"Boombit\",\n",
        "        22\n",
        "    ]\n",
        "}\n",
        "```\n",
        "***solution:***"
      ],
      "metadata": {
        "id": "pYX6VBaKp1dB"
      }
    },
    {
      "cell_type": "code",
      "source": [],
      "metadata": {
        "id": "shm-y4PHp9WK"
      },
      "execution_count": null,
      "outputs": []
    },
    {
      "cell_type": "markdown",
      "source": [
        "---\n",
        "### Exercise 117\n",
        "Two following lists are given:\n",
        "\n",
        "\n",
        "```\n",
        "headers = ['user_id', 'amount']\n",
        "users = [['001', '1400'], ['004', '1300'], ['007', '900']]\n",
        "```\n",
        "\n",
        "Save the above data to the users.csv file (file in csv format - comma-separated values) as shown below.\n",
        "\n",
        "\n",
        "\n",
        "File users.csv after saving:\n",
        "\n",
        "\n",
        "```\n",
        "user_id,amount\n",
        "001,1400\n",
        "004,1300\n",
        "007,900\n",
        "```\n",
        "***solution:***\n"
      ],
      "metadata": {
        "id": "IGm4mt5Ep9ip"
      }
    },
    {
      "cell_type": "code",
      "source": [],
      "metadata": {
        "id": "lNm4rFILqETr"
      },
      "execution_count": null,
      "outputs": []
    }
  ]
}