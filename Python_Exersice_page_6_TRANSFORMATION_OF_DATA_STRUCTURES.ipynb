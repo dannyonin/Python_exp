{
  "nbformat": 4,
  "nbformat_minor": 0,
  "metadata": {
    "colab": {
      "provenance": [],
      "collapsed_sections": [],
      "authorship_tag": "ABX9TyOR6QpMY+Kgx4P1PsIpBsVr"
    },
    "kernelspec": {
      "name": "python3",
      "display_name": "Python 3"
    },
    "language_info": {
      "name": "python"
    }
  },
  "cells": [
    {
      "cell_type": "markdown",
      "source": [
        "# Intro 📚 📓  #\n",
        "## Welcome to the TRANSFORMATION OF DATA STRUCTURES section! 🏗 🏢 📔 🚧 🎛\n"
      ],
      "metadata": {
        "id": "MoXN1yoyuynP"
      }
    },
    {
      "cell_type": "markdown",
      "source": [
        "---\n",
        "## set comprehension"
      ],
      "metadata": {
        "id": "LdqL973Mve80"
      }
    },
    {
      "cell_type": "markdown",
      "source": [
        "---\n",
        "### Exercise 150\n",
        "Consider the two-roll of the dice. Create the probability space (omega) and count the probability of getting a sum of points higher than 10. Use set comprehension.\n",
        "\n",
        "\n",
        "\n",
        "Expected result:\n",
        "\n",
        "\n",
        "```\n",
        "Probability: 0.08\n",
        "```\n",
        "***solution:***"
      ],
      "metadata": {
        "id": "UMAkxql0vl5r"
      }
    },
    {
      "cell_type": "code",
      "execution_count": null,
      "metadata": {
        "id": "67Ud9kVEuk7c"
      },
      "outputs": [],
      "source": []
    },
    {
      "cell_type": "markdown",
      "source": [
        "---\n",
        "### Exercise 151\n",
        "The following text is given:\n",
        "\n",
        "\n",
        "```\n",
        "desc = \"Playway: Playway is a producer of computer games.\"\n",
        "```\n",
        "\n",
        "Change all characters to lowercase, remove the colon, period and then split the text into words.\n",
        "\n",
        "Create a set of unique words and print the length of this set to the console.\n",
        "\n",
        "\n",
        "\n",
        "Expected result:\n",
        "\n",
        "\n",
        "```\n",
        "7\n",
        "```\n",
        "***solution:***"
      ],
      "metadata": {
        "id": "tNX6GJI7vsfS"
      }
    },
    {
      "cell_type": "code",
      "source": [],
      "metadata": {
        "id": "gf-Mswb9v1ZE"
      },
      "execution_count": null,
      "outputs": []
    },
    {
      "cell_type": "markdown",
      "source": [
        "---\n",
        "### Exercise 152\n",
        "Consider the two-roll of the dice. Create the probability space (omega) and calculate the probability of getting a sum of squares higher or equal to 45. Use set comprehension. Round the result to two decimal places and print the result to the console as shown below.\n",
        "\n",
        "\n",
        "\n",
        "Expected result:\n",
        "\n",
        "\n",
        "```\n",
        "Probability: 0.22\n",
        "```\n",
        "***solution:***"
      ],
      "metadata": {
        "id": "sHnqPnyLv1jc"
      }
    },
    {
      "cell_type": "code",
      "source": [],
      "metadata": {
        "id": "XY9rviotv4pU"
      },
      "execution_count": null,
      "outputs": []
    },
    {
      "cell_type": "markdown",
      "source": [
        "---\n",
        "### Exercise 153\n",
        "Consider a three-roll of the dice. Create the probability space (omega) and calculate the probability of obtaining three values which the sum is divisible by 7. Use set comprehension. Round the result to two decimal places and print the result to the console as shown below.\n",
        "\n",
        "\n",
        "\n",
        "Expected result:\n",
        "\n",
        "\n",
        "```\n",
        "Probability: 0.14\n",
        "```\n",
        "***solution:***"
      ],
      "metadata": {
        "id": "opWbP8Udv44i"
      }
    },
    {
      "cell_type": "code",
      "source": [],
      "metadata": {
        "id": "hErR5bAFv-Hm"
      },
      "execution_count": null,
      "outputs": []
    },
    {
      "cell_type": "markdown",
      "source": [
        "---\n",
        "### Exercise 154\n",
        "Calculate the probability that in three throws of symmetrical cubic dice, the sum of the squares of points will be divisible by 3. Use set comprehension. Round the result to the fourth decimal place and print the result to the console as shown below.\n",
        "\n",
        "\n",
        "\n",
        "Expected result:\n",
        "\n",
        "\n",
        "```\n",
        "Probability: x.xxxx\n",
        "```"
      ],
      "metadata": {
        "id": "OcwFvsCLv-Xv"
      }
    },
    {
      "cell_type": "code",
      "source": [],
      "metadata": {
        "id": "ICGYgAQrwDzh"
      },
      "execution_count": null,
      "outputs": []
    },
    {
      "cell_type": "markdown",
      "source": [
        "---\n",
        "### Exercise 155\n",
        "We roll the symmetrical dice three times. Calculate the probability of the following:\n",
        "\n",
        " - A - odd number of points in each roll\n",
        "\n",
        "Use set comprehension. Round the result to three decimal places and print to the console as shown below.\n",
        "\n",
        "\n",
        "\n",
        "Expected result:\n",
        "\n",
        "\n",
        "```\n",
        "Probability: 0.125\n",
        "```\n",
        "***solution:***"
      ],
      "metadata": {
        "id": "cF5OG34vwEDn"
      }
    },
    {
      "cell_type": "code",
      "source": [],
      "metadata": {
        "id": "XHS242-UwQiM"
      },
      "execution_count": null,
      "outputs": []
    },
    {
      "cell_type": "markdown",
      "source": [
        "---\n",
        "## list comprehension\n",
        "\n"
      ],
      "metadata": {
        "id": "xs-1oOS2wQ51"
      }
    },
    {
      "cell_type": "markdown",
      "source": [
        "---\n",
        "### Exercise 156\n",
        "The gaming.txt file is attached to this exercise. This file has been loaded into the text variable. From the text list delete all newline characters. Then delete empty lines and print the text to the console.\n",
        "\n",
        "\n",
        "\n",
        "text before:\n",
        "\n",
        "\n",
        "```\n",
        "['Activision Blizzard\\n',\n",
        " '\\n',\n",
        " 'Activision Blizzard, Inc. is a developer and publisher of interactive entertainment content and services. The Company develops and distributes content and services across various gaming platforms,\\n',\n",
        " 'including video game consoles, personal computers (PC) and mobile devices. Its segments include Activision Publishing, Inc. (Activision), Blizzard Entertainment, Inc. (Blizzard),\\n',\n",
        " 'King Digital Entertainment (King) and Other. Activision is a developer and publisher of interactive software products and content. Blizzard is engaged in developing and publishing of interactive\\n',\n",
        " 'software products and entertainment content, particularly in PC gaming. King is a mobile entertainment company. It is engaged in other businesses, including The Major League Gaming (MLG) business;\\n',\n",
        " 'The Activision Blizzard Studios (Studios) business, and The Activision Blizzard Distribution (Distribution) business. It also develops products spanning other genres, including action/adventure,\\n',\n",
        " 'role-playing and simulation.']\n",
        "```\n",
        "\n",
        "text after:\n",
        "\n",
        "\n",
        "```\n",
        "['Activision Blizzard',\n",
        " 'Activision Blizzard, Inc. is a developer and publisher of interactive entertainment content and services. The Company develops and distributes content and services across various gaming platforms,',\n",
        " 'including video game consoles, personal computers (PC) and mobile devices. Its segments include Activision Publishing, Inc. (Activision), Blizzard Entertainment, Inc. (Blizzard),',\n",
        " 'King Digital Entertainment (King) and Other. Activision is a developer and publisher of interactive software products and content. Blizzard is engaged in developing and publishing of interactive',\n",
        " 'software products and entertainment content, particularly in PC gaming. King is a mobile entertainment company. It is engaged in other businesses, including The Major League Gaming (MLG) business;',\n",
        " 'The Activision Blizzard Studios (Studios) business, and The Activision Blizzard Distribution (Distribution) business. It also develops products spanning other genres, including action/adventure,',\n",
        " 'role-playing and simulation.']\n",
        "```\n",
        "\n",
        "Expected result:\n",
        "\n",
        "\n",
        "```\n",
        "['Activision Blizzard', 'Activision Blizzard, Inc. is a developer and publisher of interactive entertainment content and services. The Company develops and distributes content and services across various gaming platforms,', 'including video game consoles, personal computers (PC) and mobile devices. Its segments include Activision Publishing, Inc. (Activision), Blizzard Entertainment, Inc. (Blizzard),', 'King Digital Entertainment (King) and Other. Activision is a developer and publisher of interactive software products and content. Blizzard is engaged in developing and publishing of interactive', 'software products and entertainment content, particularly in PC gaming. King is a mobile entertainment company. It is engaged in other businesses, including The Major League Gaming (MLG) business;', 'The Activision Blizzard Studios (Studios) business, and The Activision Blizzard Distribution (Distribution) business. It also develops products spanning other genres, including action/adventure,', 'role-playing and simulation.']\n",
        "```\n",
        "\n",
        "***solution:***"
      ],
      "metadata": {
        "id": "0A4qyVpIweDe"
      }
    },
    {
      "cell_type": "code",
      "source": [],
      "metadata": {
        "id": "QZiaEFOHwrxY"
      },
      "execution_count": null,
      "outputs": []
    },
    {
      "cell_type": "markdown",
      "source": [
        "---\n",
        "### Exercise 157\n",
        "The list of product prices is given:\n",
        "\n",
        "\n",
        "```\n",
        "net_price = [5.5, 4.0, 9.0, 10.0]\n",
        "```\n",
        "\n",
        "The VAT for these products is equal to 23%:\n",
        "\n",
        "\n",
        "```\n",
        "tax = 0.23\n",
        "```\n",
        "Using the list comprehension, calculate the gross price for each product. Round the price to two decimal places and print result to the console.\n",
        "\n",
        "\n",
        "\n",
        "Expected result:\n",
        "\n",
        "\n",
        "```\n",
        "[6.76, 4.92, 11.07, 12.3]\n",
        "```\n",
        "***solution:***"
      ],
      "metadata": {
        "id": "5BRTycd2wv5V"
      }
    },
    {
      "cell_type": "code",
      "source": [],
      "metadata": {
        "id": "Sh4_CYKKw4Sh"
      },
      "execution_count": null,
      "outputs": []
    },
    {
      "cell_type": "markdown",
      "source": [
        "---\n",
        "### Exercise 158\n",
        "The present value - pv and the investment period - n are given below:\n",
        "\n",
        "\n",
        "```\n",
        "pv = 1000\n",
        "n = 10\n",
        "```\n",
        "\n",
        "Depending on the interest rates given below, calculate the future value fv of your investment:\n",
        "\n",
        "\n",
        "```\n",
        "rate = [0.01, 0.02, 0.03, 0.04, 0.05, 0.06, 0.07]\n",
        "```\n",
        "\n",
        "Round the result to the full cent and print the result to the console.\n",
        "\n",
        "\n",
        "\n",
        "Expected result:\n",
        "\n",
        "\n",
        "```\n",
        "[1104.62, 1218.99, 1343.92, 1480.24, 1628.89, 1790.85, 1967.15]\n",
        "```\n",
        "***solution:***\n"
      ],
      "metadata": {
        "id": "JNfNJlKSw4wZ"
      }
    },
    {
      "cell_type": "code",
      "source": [],
      "metadata": {
        "id": "cp-5rxi0-tK2"
      },
      "execution_count": null,
      "outputs": []
    },
    {
      "cell_type": "markdown",
      "source": [
        "---\n",
        "### Exercise 159\n",
        "The present value - pv and the investment period - n are given below:\n",
        "\n",
        "\n",
        "```\n",
        "pv = 1000\n",
        "n = 10\n",
        "```\n",
        "\n",
        "Depending on the interest rates given below, calculate the value of interest on investments:\n",
        "\n",
        "\n",
        "```\n",
        "rate = [0.01, 0.02, 0.03, 0.04, 0.05, 0.06, 0.07]\n",
        "```\n",
        "\n",
        "Round the result to the full cent and print the result to the console.\n",
        "\n",
        "\n",
        "\n",
        "Expected result:\n",
        "\n",
        "\n",
        "```\n",
        "[104.62, 218.99, 343.92, 480.24, 628.89, 790.85, 967.15]\n",
        "```\n",
        "***solution:***"
      ],
      "metadata": {
        "id": "v3gGppHj-ujF"
      }
    },
    {
      "cell_type": "code",
      "source": [],
      "metadata": {
        "id": "4z-KDHuy-3rE"
      },
      "execution_count": null,
      "outputs": []
    },
    {
      "cell_type": "markdown",
      "source": [
        "---\n",
        "### Exercise 160\n",
        "The contents of the file plw.txt were loaded as follows:\n",
        "\n",
        "\n",
        "```\n",
        "with open('plw.txt', 'r') as file:\n",
        "    lines = file.read().splitlines()\n",
        "```\n",
        "\n",
        "lines variable:\n",
        "\n",
        "\n",
        "```\n",
        "['PLAYWAY',\n",
        " '',\n",
        " 'PlayWay is a producer and publisher of computer and mobile games. The company is characterized by a very large number of development teams and a large number of games produced simultaneously.',\n",
        " \"PlayWay sells, among others via the STEAM portal, AppStore and GooglePlay. The US and German markets are the two largest markets for the Group's sales.\",\n",
        " 'In addition, the company has PlayWay Campus - a campus for cooperating development teams.']\n",
        "```\n",
        "\n",
        "Tasks to perform:\n",
        "\n",
        "1. Get rid of blank lines.\n",
        "\n",
        "2. Split each line into tokens/words as shown below and print result to the console.\n",
        "\n",
        "\n",
        "\n",
        "Formatted result:\n",
        "\n",
        "\n",
        "```\n",
        "[['PLAYWAY'],\n",
        " ['PlayWay',\n",
        "  'is',\n",
        "  'a',\n",
        "  'producer',\n",
        "  'and',\n",
        "  'publisher',\n",
        "  'of',\n",
        "  'computer',\n",
        "  'and',\n",
        "  'mobile',\n",
        "  'games.',\n",
        "  'The',\n",
        "  'company',\n",
        "  'is',\n",
        "  'characterized',\n",
        "  'by',\n",
        "  'a',\n",
        "  'very',\n",
        "  'large',\n",
        "  'number',\n",
        "  'of',\n",
        "  'development',\n",
        "  'teams',\n",
        "  'and',\n",
        "  'a',\n",
        "  'large',\n",
        "  'number',\n",
        "  'of',\n",
        "  'games',\n",
        "  'produced',\n",
        "  'simultaneously.'],\n",
        " ['PlayWay',\n",
        "  'sells,',\n",
        "  'among',\n",
        "  'others',\n",
        "  'via',\n",
        "  'the',\n",
        "  'STEAM',\n",
        "  'portal,',\n",
        "  'AppStore',\n",
        "  'and',\n",
        "  'GooglePlay.',\n",
        "  'The',\n",
        "  'US',\n",
        "  'and',\n",
        "  'German',\n",
        "  'markets',\n",
        "  'are',\n",
        "  'the',\n",
        "  'two',\n",
        "  'largest',\n",
        "  'markets',\n",
        "  'for',\n",
        "  'the',\n",
        "  \"Group's\",\n",
        "  'sales.'],\n",
        " ['In',\n",
        "  'addition,',\n",
        "  'the',\n",
        "  'company',\n",
        "  'has',\n",
        "  'PlayWay',\n",
        "  'Campus',\n",
        "  '-',\n",
        "  'a',\n",
        "  'campus',\n",
        "  'for',\n",
        "  'cooperating',\n",
        "  'development',\n",
        "  'teams.']]\n",
        "```\n",
        "\n",
        "Expected result:\n",
        "\n",
        "\n",
        "```\n",
        "[['PLAYWAY'], ['PlayWay', 'is', 'a', 'producer', 'and', 'publisher', 'of', 'computer', 'and', 'mobile', 'games.', 'The', 'company', 'is', 'characterized', 'by', 'a', 'very', 'large', 'number', 'of', 'development', 'teams', 'and', 'a', 'large', 'number', 'of', 'games', 'produced', 'simultaneously.'], ['PlayWay', 'sells,', 'among', 'others', 'via', 'the', 'STEAM', 'portal,', 'AppStore', 'and', 'GooglePlay.', 'The', 'US', 'and', 'German', 'markets', 'are', 'the', 'two', 'largest', 'markets', 'for', 'the', \"Group's\", 'sales.'], ['In', 'addition,', 'the', 'company', 'has', 'PlayWay', 'Campus', '-', 'a', 'campus', 'for', 'cooperating', 'development', 'teams.']]\n",
        "```\n",
        "***solution:***"
      ],
      "metadata": {
        "id": "d6IOScTw-35d"
      }
    },
    {
      "cell_type": "code",
      "source": [],
      "metadata": {
        "id": "3eZ-95TX_EnJ"
      },
      "execution_count": null,
      "outputs": []
    },
    {
      "cell_type": "markdown",
      "source": [
        "---\n",
        "### Exercise 161\n",
        "The contents of the file plw.txt were loaded as follows:\n",
        "\n",
        "\n",
        "```\n",
        "with open('plw.txt', 'r') as file:\n",
        "    lines = file.read()\n",
        "```\n",
        "\n",
        "lines variable:\n",
        "\n",
        "\n",
        "```\n",
        "\"PLAYWAY\\n\\nPlayWay is a producer and publisher of computer and mobile games. The company is characterized by a very large number of development teams and a large number of games produced simultaneously.\\nPlayWay sells, among others via the STEAM portal, AppStore and GooglePlay. The US and German markets are the two largest markets for the Group's sales.\\nIn addition, the company has PlayWay Campus - a campus for cooperating development teams.\"\n",
        "```\n",
        "\n",
        "Tasks to perform:\n",
        "\n",
        "1. Change uppercase letters to lowercase\n",
        "\n",
        "2. Remove commas and periods\n",
        "\n",
        "3. Split the text into tokens\n",
        "\n",
        "4. Extract words with minimum 8 characters length\n",
        "\n",
        "5. Sort the words alphabetically\n",
        "\n",
        "\n",
        "\n",
        "Print the result to the console.\n",
        "\n",
        "\n",
        "\n",
        "Expected result:\n",
        "\n",
        "\n",
        "```\n",
        "['addition', 'appstore', 'characterized', 'computer', 'cooperating', 'development', 'development', 'googleplay', 'produced', 'producer', 'publisher', 'simultaneously']\n",
        "```\n",
        "***solution:***"
      ],
      "metadata": {
        "id": "8y4bP-Ek_JGs"
      }
    },
    {
      "cell_type": "code",
      "source": [],
      "metadata": {
        "id": "51NPxMjI_VrP"
      },
      "execution_count": null,
      "outputs": []
    },
    {
      "cell_type": "markdown",
      "source": [
        "---\n",
        "### Exercise 162\n",
        "The following dictionary is given:\n",
        "\n",
        "\n",
        "```\n",
        "data = dict(zip(('a', 'b', 'c', 'd', 'e', 'f'),(1, 2, 3, 4, 5, 6)))\n",
        "```\n",
        "\n",
        "Convert this dictionary into the following list and print the result to the console.\n",
        "\n",
        "\n",
        "\n",
        "Expected result:\n",
        "\n",
        "\n",
        "```\n",
        "[['a', 1], ['b', 2], ['c', 3], ['d', 4], ['e', 5], ['f', 6]]\n",
        "```\n",
        "\n",
        "***solution:***"
      ],
      "metadata": {
        "id": "v6TJ8oZJ_V-6"
      }
    },
    {
      "cell_type": "code",
      "source": [],
      "metadata": {
        "id": "HvPT5VFt_bpT"
      },
      "execution_count": null,
      "outputs": []
    },
    {
      "cell_type": "markdown",
      "source": [
        "---\n",
        "## dict comperhension"
      ],
      "metadata": {
        "id": "UD_RZWst_gEr"
      }
    },
    {
      "cell_type": "markdown",
      "source": [
        "---\n",
        "### Exercise 163\n",
        "Using dict comprehension, create a dictionary that maps the numbers 1 to 7 into squares and print the result to the console.\n",
        "\n",
        "\n",
        "\n",
        "Expected result:\n",
        "\n",
        "\n",
        "```\n",
        "{1: 1, 2: 4, 3: 9, 4: 16, 5: 25, 6: 36, 7: 49}\n",
        "```\n",
        "***solution:***"
      ],
      "metadata": {
        "id": "Z5o1Oy1k_mwp"
      }
    },
    {
      "cell_type": "code",
      "source": [],
      "metadata": {
        "id": "4uHLoQ3i_smE"
      },
      "execution_count": null,
      "outputs": []
    },
    {
      "cell_type": "markdown",
      "source": [
        "---\n",
        "### xercise 164\n",
        "The following list is given:\n",
        "\n",
        "\n",
        "```\n",
        "stocks = ['Playway', 'CD Projekt', 'Boombit']\n",
        "```\n",
        "\n",
        "Use dict comprehension to build a dictionary that maps company names to the number of characters of its name and print the result to the console.\n",
        "\n",
        "\n",
        "\n",
        "Expected result:\n",
        "\n",
        "\n",
        "```\n",
        "{'Playway': 7, 'CD Projekt': 10, 'Boombit': 7}\n",
        "```\n",
        "***solution:***"
      ],
      "metadata": {
        "id": "RRPBZ-DX_s1B"
      }
    },
    {
      "cell_type": "code",
      "source": [],
      "metadata": {
        "id": "kJCOm2MQ_1Gx"
      },
      "execution_count": null,
      "outputs": []
    },
    {
      "cell_type": "markdown",
      "source": [
        "---\n",
        "### Exercise 165\n",
        "The following dictionary is given:\n",
        "\n",
        "\n",
        "```\n",
        "stocks = {'Boombit': '001', 'CD Projekt': '002', 'Playway': '003'}\n",
        "```\n",
        "\n",
        "Use dict comprehension to replace values with keys and print the result to the console.\n",
        "\n",
        "\n",
        "\n",
        "Expected result:\n",
        "\n",
        "\n",
        "```\n",
        "{'001': 'Boombit', '002': 'CD Projekt', '003': 'Playway'}\n",
        "```\n",
        "***solution:***\n"
      ],
      "metadata": {
        "id": "kroSoxQX_1iJ"
      }
    },
    {
      "cell_type": "code",
      "source": [],
      "metadata": {
        "id": "09RoxV3N__iH"
      },
      "execution_count": null,
      "outputs": []
    },
    {
      "cell_type": "markdown",
      "source": [
        "Exercise 166\n",
        "The following dictionary is given:\n",
        "\n",
        "\n",
        "```\n",
        "stocks = {'Boombit': 22, 'CD Projekt': 295, 'Playway': 350}\n",
        "```\n",
        "\n",
        "Using dict comprehension, extract a key: value pair from the dictionary with a value greater than 100 and print the result to the console.\n",
        "\n",
        "\n",
        "\n",
        "Expected result:\n",
        "\n",
        "\n",
        "```\n",
        "{'CD Projekt': 295, 'Playway': 350}\n",
        "```\n",
        "***solution:***\n",
        "\n"
      ],
      "metadata": {
        "id": "3_8iJGMW__wJ"
      }
    },
    {
      "cell_type": "code",
      "source": [],
      "metadata": {
        "id": "LW-Gn0dRAjPP"
      },
      "execution_count": null,
      "outputs": []
    },
    {
      "cell_type": "markdown",
      "source": [
        "---\n",
        "### Exercise 167\n",
        "Create a list consisting of dictionaries mapping consecutive digits from 1 to 9 inclusive to their respective k-th powers, for k = 1, 2, 3.\n",
        "\n",
        "\n",
        "\n",
        "Print the result to the console as shown below.\n",
        "\n",
        "\n",
        "\n",
        "Formatted result:\n",
        "\n",
        "\n",
        "```\n",
        "[{1: 1, 2: 2, 3: 3, 4: 4, 5: 5, 6: 6, 7: 7, 8: 8, 9: 9},\n",
        " {1: 1, 2: 4, 3: 9, 4: 16, 5: 25, 6: 36, 7: 49, 8: 64, 9: 81},\n",
        " {1: 1, 2: 8, 3: 27, 4: 64, 5: 125, 6: 216, 7: 343, 8: 512, 9: 729}]\n",
        "```\n",
        "\n",
        "Expected result:\n",
        "\n",
        "\n",
        "```\n",
        "[{1: 1, 2: 2, 3: 3, 4: 4, 5: 5, 6: 6, 7: 7, 8: 8, 9: 9}, {1: 1, 2: 4, 3: 9, 4: 16, 5: 25, 6: 36, 7: 49, 8: 64, 9: 81}, {1: 1, 2: 8, 3: 27, 4: 64, 5: 125, 6: 216, 7: 343, 8: 512, 9: 729}]\n",
        "```\n",
        "\n",
        "***solution:***"
      ],
      "metadata": {
        "id": "XwIhCTSPAoUr"
      }
    },
    {
      "cell_type": "code",
      "source": [],
      "metadata": {
        "id": "NhXx2ca8AwlP"
      },
      "execution_count": null,
      "outputs": []
    },
    {
      "cell_type": "markdown",
      "source": [
        "---\n",
        "### Exercise 168\n",
        "The following list of indexes is given:\n",
        "\n",
        "\n",
        "```\n",
        "indeks = ['WIG20', 'mWIG40', 'sWIG80']\n",
        "```\n",
        "\n",
        "and a list of properties for each index:\n",
        "\n",
        "\n",
        "```\n",
        "properties = ['number of companies', 'companies', 'cap']\n",
        "```\n",
        "\n",
        "Using dict comprehension, create the following dictionary:\n",
        "\n",
        "\n",
        "```\n",
        "{'WIG20': {'cap': None, 'companies': None, 'number of companies': None},\n",
        " 'mWIG40': {'cap': None, 'companies': None, 'number of companies': None},\n",
        " 'sWIG80': {'cap': None, 'companies': None, 'number of companies': None}}\n",
        "```\n",
        "\n",
        "Set the default value of each property to None and print the result to the console.\n",
        "\n",
        "\n",
        "\n",
        "Expected result:\n",
        "\n",
        "\n",
        "```\n",
        "{'WIG20': {'number of companies': None, 'companies': None, 'cap': None}, 'mWIG40': {'number of companies': None, 'companies': None, 'cap': None}, 'sWIG80': {'number of companies': None, 'companies': None, 'cap': None}}\n",
        "```\n",
        "***solution:***"
      ],
      "metadata": {
        "id": "6Mxm82M4A7Ft"
      }
    },
    {
      "cell_type": "code",
      "source": [],
      "metadata": {
        "id": "ueGKLYXVBG4K"
      },
      "execution_count": null,
      "outputs": []
    },
    {
      "cell_type": "markdown",
      "source": [
        "---\n",
        "### Exercise 169\n",
        "The following list is given:\n",
        "\n",
        "\n",
        "```\n",
        "indexes = ['WIG20', 'mWIG40', 'sWIG80']\n",
        "```\n",
        "\n",
        "Using dict comprehension, convert the above list into the following dictionary:\n",
        "\n",
        "\n",
        "```\n",
        "{0: 'WIG20', 1: 'mWIG40', 2: 'sWIG80'}\n",
        "```\n",
        "\n",
        "Print the result to the console.\n",
        "\n",
        "***solution:***"
      ],
      "metadata": {
        "id": "1fc9PUAyBHI1"
      }
    },
    {
      "cell_type": "code",
      "source": [],
      "metadata": {
        "id": "gwShHzx9BQFq"
      },
      "execution_count": null,
      "outputs": []
    }
  ]
}