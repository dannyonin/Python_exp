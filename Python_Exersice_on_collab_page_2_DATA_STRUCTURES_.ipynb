{
  "nbformat": 4,
  "nbformat_minor": 0,
  "metadata": {
    "colab": {
      "provenance": [],
      "collapsed_sections": [],
      "authorship_tag": "ABX9TyO4/CTnxsyfCp8/qCbhDmIm"
    },
    "kernelspec": {
      "name": "python3",
      "display_name": "Python 3"
    },
    "language_info": {
      "name": "python"
    }
  },
  "cells": [
    {
      "cell_type": "markdown",
      "source": [
        "# Intro 🔖📖\n",
        "Welcome to the DATA STRUCTURES section! ⏰🏬🌄\n",
        "---\n",
        "---\n",
        "### this page is about Sets, Tuples, Lists and Dictionaries \n",
        "\n",
        "# Page 2"
      ],
      "metadata": {
        "id": "HFwh_sg_AJ63"
      }
    },
    {
      "cell_type": "markdown",
      "source": [
        "---\n",
        "###Exercise 45\n",
        "The following set is given:\n",
        "\n",
        "`subjects = {'mathematics', 'biology'}`\n",
        "\n",
        "Using the appropriate method add `'english'` to this set. In response print subjects set to the console.\n",
        "\n",
        "**Expected result:**\n",
        "\n",
        "`{'biology', 'mathematics', 'english'}`"
      ],
      "metadata": {
        "id": "8jPNiUkjBNH8"
      }
    },
    {
      "cell_type": "code",
      "execution_count": null,
      "metadata": {
        "id": "iEaKojvB_83P"
      },
      "outputs": [],
      "source": []
    }
  ]
}