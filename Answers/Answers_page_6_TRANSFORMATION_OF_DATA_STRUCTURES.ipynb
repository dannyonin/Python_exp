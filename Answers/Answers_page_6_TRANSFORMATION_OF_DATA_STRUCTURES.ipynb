{
  "nbformat": 4,
  "nbformat_minor": 0,
  "metadata": {
    "colab": {
      "provenance": [],
      "collapsed_sections": [],
      "authorship_tag": "ABX9TyO4xLrsdSQ+wgoi2n6ldYgA"
    },
    "kernelspec": {
      "name": "python3",
      "display_name": "Python 3"
    },
    "language_info": {
      "name": "python"
    }
  },
  "cells": [
    {
      "cell_type": "markdown",
      "source": [
        "# Intro 📚 📓  #\n",
        "## Welcome to the TRANSFORMATION OF DATA STRUCTURES section! 🏗 🏢 📔 🚧 🎛\n"
      ],
      "metadata": {
        "id": "MoXN1yoyuynP"
      }
    },
    {
      "cell_type": "markdown",
      "source": [
        "---\n",
        "## set comprehension"
      ],
      "metadata": {
        "id": "LdqL973Mve80"
      }
    },
    {
      "cell_type": "markdown",
      "source": [
        "---\n",
        "### Exercise 150\n",
        "Consider the two-roll of the dice. Create the probability space (omega) and count the probability of getting a sum of points higher than 10. Use set comprehension.\n",
        "\n",
        "\n",
        "\n",
        "Expected result:\n",
        "\n",
        "\n",
        "```\n",
        "Probability: 0.08\n",
        "```\n",
        "***solution:***"
      ],
      "metadata": {
        "id": "UMAkxql0vl5r"
      }
    },
    {
      "cell_type": "code",
      "execution_count": null,
      "metadata": {
        "id": "67Ud9kVEuk7c"
      },
      "outputs": [],
      "source": []
    },
    {
      "cell_type": "markdown",
      "source": [
        "---\n",
        "### Exercise 151\n",
        "The following text is given:\n",
        "\n",
        "\n",
        "```\n",
        "desc = \"Playway: Playway is a producer of computer games.\"\n",
        "```\n",
        "\n",
        "Change all characters to lowercase, remove the colon, period and then split the text into words.\n",
        "\n",
        "Create a set of unique words and print the length of this set to the console.\n",
        "\n",
        "\n",
        "\n",
        "Expected result:\n",
        "\n",
        "\n",
        "```\n",
        "7\n",
        "```\n",
        "***solution:***"
      ],
      "metadata": {
        "id": "tNX6GJI7vsfS"
      }
    },
    {
      "cell_type": "code",
      "source": [],
      "metadata": {
        "id": "gf-Mswb9v1ZE"
      },
      "execution_count": null,
      "outputs": []
    },
    {
      "cell_type": "markdown",
      "source": [
        "---\n",
        "### Exercise 152\n",
        "Consider the two-roll of the dice. Create the probability space (omega) and calculate the probability of getting a sum of squares higher or equal to 45. Use set comprehension. Round the result to two decimal places and print the result to the console as shown below.\n",
        "\n",
        "\n",
        "\n",
        "Expected result:\n",
        "\n",
        "\n",
        "```\n",
        "Probability: 0.22\n",
        "```\n",
        "***solution:***"
      ],
      "metadata": {
        "id": "sHnqPnyLv1jc"
      }
    },
    {
      "cell_type": "code",
      "source": [],
      "metadata": {
        "id": "XY9rviotv4pU"
      },
      "execution_count": null,
      "outputs": []
    },
    {
      "cell_type": "markdown",
      "source": [
        "---\n",
        "### Exercise 153\n",
        "Consider a three-roll of the dice. Create the probability space (omega) and calculate the probability of obtaining three values which the sum is divisible by 7. Use set comprehension. Round the result to two decimal places and print the result to the console as shown below.\n",
        "\n",
        "\n",
        "\n",
        "Expected result:\n",
        "\n",
        "\n",
        "```\n",
        "Probability: 0.14\n",
        "```\n",
        "***solution:***"
      ],
      "metadata": {
        "id": "opWbP8Udv44i"
      }
    },
    {
      "cell_type": "code",
      "source": [],
      "metadata": {
        "id": "hErR5bAFv-Hm"
      },
      "execution_count": null,
      "outputs": []
    },
    {
      "cell_type": "markdown",
      "source": [
        "---\n",
        "### Exercise 154\n",
        "Calculate the probability that in three throws of symmetrical cubic dice, the sum of the squares of points will be divisible by 3. Use set comprehension. Round the result to the fourth decimal place and print the result to the console as shown below.\n",
        "\n",
        "\n",
        "\n",
        "Expected result:\n",
        "\n",
        "\n",
        "```\n",
        "Probability: x.xxxx\n",
        "```"
      ],
      "metadata": {
        "id": "OcwFvsCLv-Xv"
      }
    },
    {
      "cell_type": "code",
      "source": [],
      "metadata": {
        "id": "ICGYgAQrwDzh"
      },
      "execution_count": null,
      "outputs": []
    },
    {
      "cell_type": "markdown",
      "source": [
        "---\n",
        "### Exercise 155\n",
        "We roll the symmetrical dice three times. Calculate the probability of the following:\n",
        "\n",
        " - A - odd number of points in each roll\n",
        "\n",
        "Use set comprehension. Round the result to three decimal places and print to the console as shown below.\n",
        "\n",
        "\n",
        "\n",
        "Expected result:\n",
        "\n",
        "\n",
        "```\n",
        "Probability: 0.125\n",
        "```\n",
        "***solution:***"
      ],
      "metadata": {
        "id": "cF5OG34vwEDn"
      }
    },
    {
      "cell_type": "code",
      "source": [],
      "metadata": {
        "id": "XHS242-UwQiM"
      },
      "execution_count": null,
      "outputs": []
    },
    {
      "cell_type": "markdown",
      "source": [
        "---\n",
        "## list comprehension\n",
        "\n"
      ],
      "metadata": {
        "id": "xs-1oOS2wQ51"
      }
    },
    {
      "cell_type": "markdown",
      "source": [
        "---\n",
        "### Exercise 156\n",
        "The gaming.txt file is attached to this exercise. This file has been loaded into the text variable. From the text list delete all newline characters. Then delete empty lines and print the text to the console.\n",
        "\n",
        "\n",
        "\n",
        "text before:\n",
        "\n",
        "\n",
        "```\n",
        "['Activision Blizzard\\n',\n",
        " '\\n',\n",
        " 'Activision Blizzard, Inc. is a developer and publisher of interactive entertainment content and services. The Company develops and distributes content and services across various gaming platforms,\\n',\n",
        " 'including video game consoles, personal computers (PC) and mobile devices. Its segments include Activision Publishing, Inc. (Activision), Blizzard Entertainment, Inc. (Blizzard),\\n',\n",
        " 'King Digital Entertainment (King) and Other. Activision is a developer and publisher of interactive software products and content. Blizzard is engaged in developing and publishing of interactive\\n',\n",
        " 'software products and entertainment content, particularly in PC gaming. King is a mobile entertainment company. It is engaged in other businesses, including The Major League Gaming (MLG) business;\\n',\n",
        " 'The Activision Blizzard Studios (Studios) business, and The Activision Blizzard Distribution (Distribution) business. It also develops products spanning other genres, including action/adventure,\\n',\n",
        " 'role-playing and simulation.']\n",
        "```\n",
        "\n",
        "text after:\n",
        "\n",
        "\n",
        "```\n",
        "['Activision Blizzard',\n",
        " 'Activision Blizzard, Inc. is a developer and publisher of interactive entertainment content and services. The Company develops and distributes content and services across various gaming platforms,',\n",
        " 'including video game consoles, personal computers (PC) and mobile devices. Its segments include Activision Publishing, Inc. (Activision), Blizzard Entertainment, Inc. (Blizzard),',\n",
        " 'King Digital Entertainment (King) and Other. Activision is a developer and publisher of interactive software products and content. Blizzard is engaged in developing and publishing of interactive',\n",
        " 'software products and entertainment content, particularly in PC gaming. King is a mobile entertainment company. It is engaged in other businesses, including The Major League Gaming (MLG) business;',\n",
        " 'The Activision Blizzard Studios (Studios) business, and The Activision Blizzard Distribution (Distribution) business. It also develops products spanning other genres, including action/adventure,',\n",
        " 'role-playing and simulation.']\n",
        "```\n",
        "\n",
        "Expected result:\n",
        "\n",
        "\n",
        "```\n",
        "['Activision Blizzard', 'Activision Blizzard, Inc. is a developer and publisher of interactive entertainment content and services. The Company develops and distributes content and services across various gaming platforms,', 'including video game consoles, personal computers (PC) and mobile devices. Its segments include Activision Publishing, Inc. (Activision), Blizzard Entertainment, Inc. (Blizzard),', 'King Digital Entertainment (King) and Other. Activision is a developer and publisher of interactive software products and content. Blizzard is engaged in developing and publishing of interactive', 'software products and entertainment content, particularly in PC gaming. King is a mobile entertainment company. It is engaged in other businesses, including The Major League Gaming (MLG) business;', 'The Activision Blizzard Studios (Studios) business, and The Activision Blizzard Distribution (Distribution) business. It also develops products spanning other genres, including action/adventure,', 'role-playing and simulation.']\n",
        "```\n",
        "\n",
        "***solution:***"
      ],
      "metadata": {
        "id": "0A4qyVpIweDe"
      }
    },
    {
      "cell_type": "code",
      "source": [],
      "metadata": {
        "id": "QZiaEFOHwrxY"
      },
      "execution_count": null,
      "outputs": []
    },
    {
      "cell_type": "markdown",
      "source": [
        "---\n",
        "### Exercise 157\n",
        "The list of product prices is given:\n",
        "\n",
        "\n",
        "```\n",
        "net_price = [5.5, 4.0, 9.0, 10.0]\n",
        "```\n",
        "\n",
        "The VAT for these products is equal to 23%:\n",
        "\n",
        "\n",
        "```\n",
        "tax = 0.23\n",
        "```\n",
        "Using the list comprehension, calculate the gross price for each product. Round the price to two decimal places and print result to the console.\n",
        "\n",
        "\n",
        "\n",
        "Expected result:\n",
        "\n",
        "\n",
        "```\n",
        "[6.76, 4.92, 11.07, 12.3]\n",
        "```\n",
        "***solution:***"
      ],
      "metadata": {
        "id": "5BRTycd2wv5V"
      }
    },
    {
      "cell_type": "code",
      "source": [],
      "metadata": {
        "id": "Sh4_CYKKw4Sh"
      },
      "execution_count": null,
      "outputs": []
    },
    {
      "cell_type": "markdown",
      "source": [],
      "metadata": {
        "id": "JNfNJlKSw4wZ"
      }
    }
  ]
}