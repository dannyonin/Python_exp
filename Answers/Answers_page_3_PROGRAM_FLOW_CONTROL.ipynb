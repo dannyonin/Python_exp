{
  "nbformat": 4,
  "nbformat_minor": 0,
  "metadata": {
    "colab": {
      "provenance": [],
      "authorship_tag": "ABX9TyNeO4ZMVul/O2Q6xF72cTFx"
    },
    "kernelspec": {
      "name": "python3",
      "display_name": "Python 3"
    },
    "language_info": {
      "name": "python"
    }
  },
  "cells": [
    {
      "cell_type": "markdown",
      "source": [
        "# Intro 📃 #3\n",
        "\n",
        "\n",
        "\n",
        "## 🚧 🚧 🚧 🚧\n",
        "\n",
        "## Welcome to the PROGRAM FLOW CONTROL section! 🎛 \n",
        "## ✏ 📔"
      ],
      "metadata": {
        "id": "7cOui1R1n447"
      }
    },
    {
      "cell_type": "markdown",
      "source": [
        "---\n",
        "## if statement"
      ],
      "metadata": {
        "id": "EYUoJ2Y4oxpA"
      }
    },
    {
      "cell_type": "markdown",
      "source": [
        "---\n",
        "###Exercise 78\n",
        "The following filename is given:\n",
        "\n",
        "\n",
        "`filename = '01012020_sales.xlsx'`\n",
        "\n",
        "\n",
        "Check if the file has the` 'xlsx'` extension. Print to the console `'YES'` if true, `'NO'` if false.\n",
        "\n",
        "Expected result:\n",
        "\n",
        "`YES`\n",
        "\n",
        "***solution:***"
      ],
      "metadata": {
        "id": "E1aR72ylo7hc"
      }
    },
    {
      "cell_type": "code",
      "execution_count": 1,
      "metadata": {
        "id": "htuvXCXOnojI",
        "colab": {
          "base_uri": "https://localhost:8080/"
        },
        "outputId": "ce960025-23a2-4953-de92-d5b6e20171b3"
      },
      "outputs": [
        {
          "output_type": "stream",
          "name": "stdout",
          "text": [
            "YES\n"
          ]
        }
      ],
      "source": [
        "filename = '01012020_sales.xlsx'\n",
        "if '.xlsx' in filename:\n",
        "  print('YES')\n",
        "else:\n",
        "  print('NO')"
      ]
    },
    {
      "cell_type": "markdown",
      "source": [
        "---\n",
        "###Exercise 79\n",
        "The following code is given:\n",
        "\n",
        "\n",
        "```\n",
        "code = 'DSVNDOICSN'\n",
        "```\n",
        "\n",
        "Check if the code variable has only uppercase letters. If so, print `'YES'` to the console.\n",
        "\n",
        "\n",
        "\n",
        "Expected result:\n",
        "\n",
        "\n",
        "```\n",
        "YES\n",
        "```\n",
        "***solution:***"
      ],
      "metadata": {
        "id": "zclM__dapM1T"
      }
    },
    {
      "cell_type": "code",
      "source": [
        "code = 'DSVNDOICSN'\n",
        "if code.isupper():\n",
        "  print('YES')\n",
        "else:\n",
        "  print('NO')"
      ],
      "metadata": {
        "id": "vJ_AqS2IpfL4",
        "colab": {
          "base_uri": "https://localhost:8080/"
        },
        "outputId": "6e30f3cd-56c3-4aaf-cef4-25337dc1c835"
      },
      "execution_count": 7,
      "outputs": [
        {
          "output_type": "stream",
          "name": "stdout",
          "text": [
            "YES\n"
          ]
        }
      ]
    },
    {
      "cell_type": "markdown",
      "source": [
        "---\n",
        "### Exercise 80\n",
        "The following variable is given:\n",
        "\n",
        "\n",
        "```\n",
        "number = 1.0\n",
        "```\n",
        "\n",
        "Test whether the variable is an instance of the built-in class int. Print `'YES'` if true, `'NO'` if false.\n",
        "\n",
        "\n",
        "Expected result:\n",
        "\n",
        "\n",
        "`NO`\n",
        "\n",
        "***solution:***"
      ],
      "metadata": {
        "id": "WfaSRmfHpfda"
      }
    },
    {
      "cell_type": "code",
      "source": [
        "number = 1.0\n",
        "if isinstance(number, int):\n",
        "  print('YES')\n",
        "else:\n",
        "  print('NO')"
      ],
      "metadata": {
        "colab": {
          "base_uri": "https://localhost:8080/"
        },
        "id": "BGlOtiLbnThb",
        "outputId": "0c179830-b379-4374-9a68-038a08cd5e59"
      },
      "execution_count": 10,
      "outputs": [
        {
          "output_type": "stream",
          "name": "stdout",
          "text": [
            "NO\n"
          ]
        }
      ]
    },
    {
      "cell_type": "markdown",
      "source": [
        "---\n",
        "###Exercise 81\n",
        "The following password is given:\n",
        "\n",
        "\n",
        "```\n",
        "password = 'cskdnjcasa#!'\n",
        "```\n",
        "\n",
        "Check if the password is at least 11 characters long. If so, print `'Password correct'`, otherwise `'Password too short'`.\n",
        "\n",
        "\n",
        "\n",
        "Expected result:\n",
        "\n",
        "\n",
        "```\n",
        "Password correct\n",
        "```\n",
        "\n",
        "***solution:***"
      ],
      "metadata": {
        "id": "wsWQS0eSp1_D"
      }
    },
    {
      "cell_type": "code",
      "source": [
        "password = 'cskdnjcasa#!'\n",
        "\n",
        "if len(password) >= 11 :\n",
        "  print('Password correct')\n",
        "else:\n",
        "  print('Password too short')"
      ],
      "metadata": {
        "id": "Zp9AZKDlp1eW",
        "colab": {
          "base_uri": "https://localhost:8080/"
        },
        "outputId": "0d9c1763-3cdf-4159-e941-3cba4d40153d"
      },
      "execution_count": 12,
      "outputs": [
        {
          "output_type": "stream",
          "name": "stdout",
          "text": [
            "Password correct\n"
          ]
        }
      ]
    },
    {
      "cell_type": "markdown",
      "source": [
        "---\n",
        "###Exercise 82\n",
        "The following password is given:\n",
        "\n",
        "\n",
        "\n",
        "`password = 'cskdnjcasa#!'`\n",
        "\n",
        "\n",
        "Check if the password has at least 11 characters and contains the special character `'!'`.\n",
        "\n",
        "If so, print `'Password correct'`, otherwise `'Password incorrect'`.\n",
        "\n",
        "\n",
        "\n",
        "Expected result:\n",
        "\n",
        "`Password correct`\n",
        "\n",
        "***solution:***"
      ],
      "metadata": {
        "id": "ajFxV0IOqFW9"
      }
    },
    {
      "cell_type": "code",
      "source": [
        "password = 'cskdnjcasa#!'\n",
        "\n",
        "if len(password) >= 11 and '!' in password:\n",
        "  print('Password correct')\n",
        "else:\n",
        "  print('Password too short')"
      ],
      "metadata": {
        "id": "YD_M7nTcqU-B",
        "colab": {
          "base_uri": "https://localhost:8080/"
        },
        "outputId": "883b362d-9e9a-49f2-df63-95767c5630c8"
      },
      "execution_count": 13,
      "outputs": [
        {
          "output_type": "stream",
          "name": "stdout",
          "text": [
            "Password correct\n"
          ]
        }
      ]
    },
    {
      "cell_type": "markdown",
      "source": [
        "---\n",
        "###Exercise 83\n",
        "The following list is given:\n",
        "\n",
        "\n",
        "```\n",
        "project_ids = ['02134', '24253']\n",
        "\n",
        "```\n",
        "Check if the following project id:\n",
        "\n",
        "\n",
        "```\n",
        "project_id = '02135'\n",
        "```\n",
        "\n",
        "is in the project_ids list. If not, add this project_id to the list and print this list to the console.\n",
        "\n",
        "Expected result:\n",
        "\n",
        "\n",
        "```\n",
        "['02134', '24253', '02135']\n",
        "```\n",
        "\n",
        "***solution:***"
      ],
      "metadata": {
        "id": "xaqV4HX1qVRv"
      }
    },
    {
      "cell_type": "code",
      "source": [
        "project_ids = ['02134', '24253']\n",
        "\n",
        "project_id = '02135'\n",
        "\n",
        "if project_id not in project_ids:\n",
        "  project_ids.append(project_id)\n",
        "\n",
        "print(project_ids)"
      ],
      "metadata": {
        "id": "0fwkvhmKqZ7v",
        "colab": {
          "base_uri": "https://localhost:8080/"
        },
        "outputId": "eb91b525-2cac-4c68-b41c-c093a3157633"
      },
      "execution_count": 15,
      "outputs": [
        {
          "output_type": "stream",
          "name": "stdout",
          "text": [
            "['02134', '24253', '02135']\n"
          ]
        }
      ]
    },
    {
      "cell_type": "markdown",
      "source": [
        "---\n",
        "### Exercise 84\n",
        "The following dictionary is given:\n",
        "\n",
        "\n",
        "```\n",
        "project_ids = {\n",
        "    '01': 'open', \n",
        "    '02': 'new',\n",
        "    '03': 'in progress',\n",
        "    '04': 'completed'\n",
        "}\n",
        "```\n",
        "\n",
        "Using the conditional statement, check if the project status with `id = '02'` is set to `'new'`. If so, change its status to `'open'` and print the dictionary to the console.\n",
        "\n",
        "\n",
        "\n",
        "Expected result:\n",
        "\n",
        "\n",
        "```\n",
        "{'01': 'open', '02': 'open', '03': 'in progress', '04': 'completed'}\n",
        "```\n",
        "***solution:***"
      ],
      "metadata": {
        "id": "2J9KnbcfqfLz"
      }
    },
    {
      "cell_type": "code",
      "source": [
        "project_ids = {\n",
        "    '01': 'open', \n",
        "    '02': 'new',\n",
        "    '03': 'in progress',\n",
        "    '04': 'completed'\n",
        "}\n",
        "\n",
        "id = '02'\n",
        "\n",
        "if project_ids[id] is 'new':\n",
        "  project_ids[id] = 'open'\n",
        "\n",
        "print(project_ids)\n"
      ],
      "metadata": {
        "id": "0zwRjA_rqqdR",
        "colab": {
          "base_uri": "https://localhost:8080/"
        },
        "outputId": "05a80207-8a3f-4ec8-b1e0-ba5802f08527"
      },
      "execution_count": 16,
      "outputs": [
        {
          "output_type": "stream",
          "name": "stdout",
          "text": [
            "{'01': 'open', '02': 'open', '03': 'in progress', '04': 'completed'}\n"
          ]
        }
      ]
    },
    {
      "cell_type": "markdown",
      "source": [
        "---\n",
        "###Exercise 85\n",
        "Write a program that checks if the given item:\n",
        "\n",
        "\n",
        "```\n",
        "item = '001'\n",
        "```\n",
        "\n",
        "is in the list:\n",
        "\n",
        "\n",
        "```\n",
        "items = ['001', '000', '003', '005', '006']\n",
        "```\n",
        "\n",
        "If so, remove this item from the list and print this list to the console.\n",
        "\n",
        "\n",
        "\n",
        "Expected result:\n",
        "\n",
        "\n",
        "```\n",
        "['000', '003', '005', '006']\n",
        "```\n",
        "\n",
        "***solution:***"
      ],
      "metadata": {
        "id": "-DdhWx29qrdr"
      }
    },
    {
      "cell_type": "code",
      "source": [
        "item = '001'\n",
        "items = ['001', '000', '003', '005', '006']\n",
        "\n",
        "if item in items:\n",
        "  items.remove(item)\n",
        "\n",
        "  print(items)"
      ],
      "metadata": {
        "id": "BgVqEMGqq3bT",
        "colab": {
          "base_uri": "https://localhost:8080/"
        },
        "outputId": "f89f1afa-c6df-4c9a-99a6-054a13836a13"
      },
      "execution_count": 17,
      "outputs": [
        {
          "output_type": "stream",
          "name": "stdout",
          "text": [
            "['000', '003', '005', '006']\n"
          ]
        }
      ]
    },
    {
      "cell_type": "markdown",
      "source": [
        "---\n",
        "## for loop\n"
      ],
      "metadata": {
        "id": "wduwSsCCUIUV"
      }
    },
    {
      "cell_type": "markdown",
      "source": [
        "---\n",
        "###Exercise 86\n",
        "Write a program that finds all two-digit numbers divisible by 11 (use a for loop). Print the result to the console as comma-separated values as shown below.\n",
        "\n",
        "Expected result:\n",
        "\n",
        "`11,22,33,44,55,66,77,88,99`\n",
        "\n",
        "***solution:***"
      ],
      "metadata": {
        "id": "nFomBpQaUYNg"
      }
    },
    {
      "cell_type": "code",
      "source": [
        "result = []\n",
        "for num in range(10,100):\n",
        "  if num % 11 == 0:\n",
        "     result.append(str(num))\n",
        "print(','.join(result))"
      ],
      "metadata": {
        "colab": {
          "base_uri": "https://localhost:8080/"
        },
        "id": "WfIioslHUjye",
        "outputId": "07412834-b68f-44dd-c2e1-4da2810cbeb3"
      },
      "execution_count": 25,
      "outputs": [
        {
          "output_type": "stream",
          "name": "stdout",
          "text": [
            "11,22,33,44,55,66,77,88,99\n"
          ]
        }
      ]
    },
    {
      "cell_type": "markdown",
      "source": [
        "---\n",
        "###Exercise 87\n",
        "Write a program that finds all two-digit numbers divisible by 11 and indivisible by 3 (use a for loop). Print the result to the console as comma-separated values as shown below.\n",
        "\n",
        "\n",
        "\n",
        "Expected result:\n",
        "\n",
        "\n",
        "\n",
        "`11,22,44,55,77,88`\n",
        "\n",
        "***solution:***\n"
      ],
      "metadata": {
        "id": "zuFp6HhaUsK5"
      }
    },
    {
      "cell_type": "code",
      "source": [
        "result = []\n",
        "for num in range(10,100):\n",
        "  if num % 11 == 0 and num % 3 != 0:\n",
        "    result.append(str(num))\n",
        "print(','.join(result))"
      ],
      "metadata": {
        "colab": {
          "base_uri": "https://localhost:8080/"
        },
        "id": "wFGKVi7vUydB",
        "outputId": "d05921f8-4338-42d2-b5b1-34d0e52a2176"
      },
      "execution_count": 27,
      "outputs": [
        {
          "output_type": "stream",
          "name": "stdout",
          "text": [
            "11,22,44,55,77,88\n"
          ]
        }
      ]
    },
    {
      "cell_type": "markdown",
      "source": [
        "---\n",
        "### Exercise 88\n",
        "The following list of numbers is given:\n",
        "\n",
        "\n",
        "\n",
        "`items = [1, 3, 4, 5, 6, 9, 10, 17, 23, 24]`\n",
        "\n",
        "\n",
        "Write a program that removes odd numbers and returns the remaining ones. Print the result to the console.\n",
        "\n",
        "Expected results:\n",
        "\n",
        "\n",
        "`[4, 6, 10, 24]`\n",
        "\n",
        "***solution:***\n"
      ],
      "metadata": {
        "id": "7DDmXYtYUyqm"
      }
    },
    {
      "cell_type": "code",
      "source": [
        "\n",
        "items = [1, 3, 4, 5, 6, 9, 10, 17, 23, 24]\n",
        "odd = []\n",
        "for item in items:\n",
        "  if item % 2 == 0:\n",
        "    odd.append(item)\n",
        "print(odd)"
      ],
      "metadata": {
        "colab": {
          "base_uri": "https://localhost:8080/"
        },
        "id": "Jh-jRmjYVIHP",
        "outputId": "57c4b988-671d-4275-991c-325ad08eb436"
      },
      "execution_count": 74,
      "outputs": [
        {
          "output_type": "stream",
          "name": "stdout",
          "text": [
            "[4, 6, 10, 24]\n"
          ]
        }
      ]
    },
    {
      "cell_type": "markdown",
      "source": [
        "---\n",
        "### Exercise 89\n",
        "The following list is given:\n",
        "\n",
        "\n",
        "\n",
        "`items = [1, 5, 3, 2, 2, 4, 2, 4]`\n",
        "\n",
        "\n",
        "Write a program that removes duplicates from the list (the order must be kept) and print the list to the console.\n",
        "\n",
        "\n",
        "\n",
        "Expected result:\n",
        "\n",
        "\n",
        "\n",
        "`[1, 5, 3, 2, 4]`\n",
        "\n",
        "***solution:***\n"
      ],
      "metadata": {
        "id": "gTl9RIWnVIbD"
      }
    },
    {
      "cell_type": "code",
      "source": [
        "items = [1, 5, 3, 2, 2, 4, 2, 4]\n",
        "result = []\n",
        "\n",
        "for item in items:\n",
        "  if not item in result:\n",
        "    result.append(item)\n",
        "\n",
        "print(result)\n"
      ],
      "metadata": {
        "colab": {
          "base_uri": "https://localhost:8080/"
        },
        "id": "nym2z4WAVTqi",
        "outputId": "ff1283c0-5d5b-48ba-9b22-c1ec990eb9d8"
      },
      "execution_count": 84,
      "outputs": [
        {
          "output_type": "stream",
          "name": "stdout",
          "text": [
            "[1, 5, 3, 2, 4]\n"
          ]
        }
      ]
    },
    {
      "cell_type": "markdown",
      "source": [
        "----\n",
        "### Exercise 90\n",
        "The following text is given:\n",
        "\n",
        "\n",
        "\n",
        "`text = 'Python is a very popular programming language'`\n",
        "\n",
        "\n",
        "Write a program which extracts exactly the first four words as a list. Standardize each word, i.e. replace uppercase letters with lowercase. Present the result in a list and print to the console as shown below.\n",
        "\n",
        "\n",
        "\n",
        "Expected result:\n",
        "\n",
        "\n",
        "\n",
        "`['python', 'is', 'a', 'very']`\n",
        "\n",
        "***solution:***"
      ],
      "metadata": {
        "id": "w7HoHY3hVV38"
      }
    },
    {
      "cell_type": "code",
      "source": [
        "text = 'Python is a very popular programming language'\n",
        "result = []\n",
        "num = 4\n",
        "\n",
        "words = text.split(' ')\n",
        "\n",
        "for id, word in enumerate(words):\n",
        "  if id < 4:\n",
        "    result.append(word.lower())\n",
        "print(result)\n",
        "  \n"
      ],
      "metadata": {
        "colab": {
          "base_uri": "https://localhost:8080/"
        },
        "id": "foOrAO8JVcoB",
        "outputId": "5d3a68e3-4cfe-438f-f83b-8b11664c59de"
      },
      "execution_count": 91,
      "outputs": [
        {
          "output_type": "stream",
          "name": "stdout",
          "text": [
            "['python', 'is', 'a', 'very']\n"
          ]
        }
      ]
    },
    {
      "cell_type": "markdown",
      "source": [
        "---\n",
        "###Exercise 91\n",
        "Write a program that returns a list of values above the given threshold = 0.5 from the following list:\n",
        "\n",
        "\n",
        "\n",
        "`probabilities = [0.21, 0.91, 0.34, 0.55, 0.76, 0.02]`\n",
        "\n",
        "\n",
        "Expected result:\n",
        "\n",
        "\n",
        "\n",
        "`[0.91, 0.55, 0.76]`\n",
        "\n",
        "***solution:***\n"
      ],
      "metadata": {
        "id": "5Rs0CCvSfIcO"
      }
    },
    {
      "cell_type": "code",
      "source": [
        "probabilities = [0.21, 0.91, 0.34, 0.55, 0.76, 0.02]\n",
        "result = []\n",
        "\n",
        "for threshold in probabilities:\n",
        "  if threshold >= 0.5:\n",
        "    result.append(threshold)\n",
        "print(result)\n"
      ],
      "metadata": {
        "colab": {
          "base_uri": "https://localhost:8080/"
        },
        "id": "7IS9k8RKfOR0",
        "outputId": "aa7ec965-96c0-45fe-8568-9bf078033efd"
      },
      "execution_count": 92,
      "outputs": [
        {
          "output_type": "stream",
          "name": "stdout",
          "text": [
            "[0.91, 0.55, 0.76]\n"
          ]
        }
      ]
    },
    {
      "cell_type": "markdown",
      "source": [
        "---\n",
        "###Exercise 92\n",
        "Consider the problem of binary classification in machine learning. The machine learning model returns the probability of belonging to the class. If it's less than 0.5, the sample is assigned to class 0, otherwise to class 1.\n",
        "\n",
        "\n",
        "\n",
        "A list of probabilities from the machine learning model is given:\n",
        "\n",
        "\n",
        "\n",
        "`probabilities = [0.21, 0.91, 0.34, 0.55, 0.76, 0.02]`\n",
        "\n",
        "\n",
        "Write a program that assigns class 0 for values less than 0.5 and 1 for values greater than or equal to 0.5. Print the result to the console as shown below.\n",
        "\n",
        "\n",
        "\n",
        "Expected result:\n",
        "\n",
        "\n",
        "\n",
        "`[0, 1, 0, 1, 1, 0]`\n",
        "\n",
        "***solution:***"
      ],
      "metadata": {
        "id": "N-h-Urn9fOgs"
      }
    },
    {
      "cell_type": "code",
      "source": [
        "probabilities = [0.21, 0.91, 0.34, 0.55, 0.76, 0.02]\n",
        "result = [] \n",
        "for item in probabilities:\n",
        "  if item >= 0.5:\n",
        "    result.append(1)\n",
        "  else:\n",
        "    result.append(0)\n",
        "\n",
        "print(result)"
      ],
      "metadata": {
        "colab": {
          "base_uri": "https://localhost:8080/"
        },
        "id": "zVE3_TjdfYlC",
        "outputId": "fc0bce7e-38ae-4c3b-d13b-3d1436506d0f"
      },
      "execution_count": 93,
      "outputs": [
        {
          "output_type": "stream",
          "name": "stdout",
          "text": [
            "[0, 1, 0, 1, 1, 0]\n"
          ]
        }
      ]
    },
    {
      "cell_type": "markdown",
      "source": [
        "---\n",
        "### Exercise 93\n",
        "Write a program that creates a histogram as a dictionary of the following values:\n",
        "\n",
        "\n",
        "\n",
        "`items = ['x', 'y', 'z', 'y', 'x', 'y', 'y', 'z', 'x']`\n",
        "\n",
        "\n",
        "In response print histogram to the console.\n",
        "\n",
        "\n",
        "\n",
        "Expected result:\n",
        "\n",
        "\n",
        "\n",
        "`{'x': 3, 'y': 4, 'z': 2}`\n",
        "\n",
        "***solution:***\n"
      ],
      "metadata": {
        "id": "yFHL4qRNfYwa"
      }
    },
    {
      "cell_type": "code",
      "source": [
        "items = ['x', 'y', 'z', 'y', 'x', 'y', 'y', 'z', 'x']\n",
        "result = {}\n",
        "\n",
        "for item in items:\n",
        "  result[item] = items.count(item)\n",
        "\n",
        "print(result)\n"
      ],
      "metadata": {
        "colab": {
          "base_uri": "https://localhost:8080/"
        },
        "id": "b-6RtW0yffUz",
        "outputId": "ccb742e2-07d5-4f55-e38e-f66beca0334a"
      },
      "execution_count": 100,
      "outputs": [
        {
          "output_type": "stream",
          "name": "stdout",
          "text": [
            "{'x': 3, 'y': 4, 'z': 2}\n"
          ]
        }
      ]
    },
    {
      "cell_type": "markdown",
      "source": [
        "---\n",
        "###Exercise 94\n",
        "The following text is given:\n",
        "\n",
        "\n",
        "```\n",
        "text = \"\"\"Python is powerful... and fast\n",
        "plays well with others\n",
        "runs everywhere\n",
        "is friendly & easy to learn\n",
        "is Open\n",
        "These are some of the reasons people who use Python would rather not use anything else\"\"\"\n",
        "```\n",
        "\n",
        "Create a list of words from the given text. Then standardize this text (change uppercase letters to lowercase, remove punctuation marks). Extract words longer than six characters and print the result to the console.\n",
        "\n",
        "\n",
        "\n",
        "Expected result:\n",
        "\n",
        "\n",
        "```\n",
        "['powerful', 'everywhere', 'friendly', 'reasons', 'anything']\n",
        "```\n",
        "\n",
        "***solution:***"
      ],
      "metadata": {
        "id": "XHmuyBg2ffo_"
      }
    },
    {
      "cell_type": "code",
      "source": [
        "\n",
        "text = \"\"\"Python is powerful... and fast\n",
        "plays well with others\n",
        "runs everywhere\n",
        "is friendly & easy to learn\n",
        "is Open\n",
        "These are some of the reasons people who use Python would rather not use anything else\"\"\"\n",
        "\n",
        "result = []\n",
        "words = text.split()\n",
        "\n",
        "words = [word.lower() for word in words]\n",
        "words = [word.replace('.','').replace(',','') for word in words]\n",
        "words = [word for word in words if len(word) > 6]  \n",
        "words\n",
        "\n"
      ],
      "metadata": {
        "colab": {
          "base_uri": "https://localhost:8080/"
        },
        "id": "l1ELN8LkfpUF",
        "outputId": "274ba837-4c10-4e6e-8e05-79a66f933b97"
      },
      "execution_count": 136,
      "outputs": [
        {
          "output_type": "execute_result",
          "data": {
            "text/plain": [
              "['powerful', 'everywhere', 'friendly', 'reasons', 'anything']"
            ]
          },
          "metadata": {},
          "execution_count": 136
        }
      ]
    },
    {
      "cell_type": "markdown",
      "source": [
        "---\n",
        "###Exercise 95\n",
        "The list of stock indexes is given:\n",
        "\n",
        "\n",
        "```\n",
        "indexes = [\n",
        "    'BOVESPA',\n",
        "    'DOW JONES COMP',\n",
        "    'DOW JONES INDU',\n",
        "    'DOW JONES TRANS',\n",
        "    'DOW JONES UTIL',\n",
        "    'IPC',\n",
        "    'IPSA',\n",
        "    'MERVAL',\n",
        "    'NASDAQ COMP',\n",
        "    'NASDAQ100',\n",
        "    'S&P500',\n",
        "    'S&P/TSX COMP',\n",
        "]\n",
        "```\n",
        "\n",
        "Iterate through the indexes list and print to the console only those indexes containing 'DOW' or 'S&P'.\n",
        "\n",
        "\n",
        "\n",
        "Expected result:\n",
        "\n",
        "\n",
        "```\n",
        "DOW JONES COMP\n",
        "DOW JONES INDU\n",
        "DOW JONES TRANS\n",
        "DOW JONES UTIL\n",
        "S&P500\n",
        "S&P/TSX COMP\n",
        "```\n",
        "***solution:***"
      ],
      "metadata": {
        "id": "8OoS5P5SfrEk"
      }
    },
    {
      "cell_type": "code",
      "source": [
        "indexes = [\n",
        "    'BOVESPA',\n",
        "    'DOW JONES COMP',\n",
        "    'DOW JONES INDU',\n",
        "    'DOW JONES TRANS',\n",
        "    'DOW JONES UTIL',\n",
        "    'IPC',\n",
        "    'IPSA',\n",
        "    'MERVAL',\n",
        "    'NASDAQ COMP',\n",
        "    'NASDAQ100',\n",
        "    'S&P500',\n",
        "    'S&P/TSX COMP',\n",
        "]\n",
        "\n",
        "for idx in indexes:\n",
        "  if 'S&P' in idx or 'DOW' in idx:\n",
        "    print(idx)\n",
        "  "
      ],
      "metadata": {
        "colab": {
          "base_uri": "https://localhost:8080/"
        },
        "id": "17O04n-XjroS",
        "outputId": "6df7725f-28c1-4955-a674-d6a6e4a16498"
      },
      "execution_count": 149,
      "outputs": [
        {
          "output_type": "stream",
          "name": "stdout",
          "text": [
            "DOW JONES COMP\n",
            "DOW JONES INDU\n",
            "DOW JONES TRANS\n",
            "DOW JONES UTIL\n",
            "S&P500\n",
            "S&P/TSX COMP\n"
          ]
        }
      ]
    },
    {
      "cell_type": "markdown",
      "source": [
        "---\n",
        "###Exercise 96\n",
        "A dictionary of companies from the WIG.GAMES index is given. The key is the 3-letter company ticker and value - close price:\n",
        "\n",
        "\n",
        "```\n",
        "gaming = {\n",
        "    '11B': 362.5,\n",
        "    'CDR': 297.0,\n",
        "    'CIG': 0.85,\n",
        "    'PLW': 318.0,\n",
        "    'TEN': 300.0\n",
        "}\n",
        "```\n",
        "\n",
        "Iterate through this dictionary and print the tickers of those companies where closing price is greater than 100.00 PLN.\n",
        "\n",
        "\n",
        "\n",
        "Expected result:\n",
        "\n",
        "\n",
        "```\n",
        "11B\n",
        "CDR\n",
        "PLW\n",
        "TEN\n",
        "```\n",
        "\n",
        "***solution:***"
      ],
      "metadata": {
        "id": "AwMoMRuPjr3z"
      }
    },
    {
      "cell_type": "code",
      "source": [
        "gaming = {\n",
        "    '11B': 362.5,\n",
        "    'CDR': 297.0,\n",
        "    'CIG': 0.85,\n",
        "    'PLW': 318.0,\n",
        "    'TEN': 300.0\n",
        "}\n",
        "\n",
        "for keys in gaming:\n",
        "  if gaming[keys] > 100.00:\n",
        "    print(keys)"
      ],
      "metadata": {
        "colab": {
          "base_uri": "https://localhost:8080/"
        },
        "id": "RVx3AaM3j7W0",
        "outputId": "957646a6-af55-4cfc-fd03-63ca58487901"
      },
      "execution_count": 151,
      "outputs": [
        {
          "output_type": "stream",
          "name": "stdout",
          "text": [
            "11B\n",
            "CDR\n",
            "PLW\n",
            "TEN\n"
          ]
        }
      ]
    },
    {
      "cell_type": "markdown",
      "source": [
        "---\n",
        "###Exercise 97\n",
        "A list of names entered by users into the system is given below (without validation process):\n",
        "\n",
        "\n",
        "```\n",
        "names = ['Jack', 'Leon', 'Alice', '32-3c', 'Bob']\n",
        "```\n",
        "\n",
        "Iterate through the names list and check if each name is correct (contains only letters). If so, print to the console following message: f'Hello {name}!' otherwise do nothing.\n",
        "\n",
        "\n",
        "\n",
        "Tip: Use the str.isalpha() method.\n",
        "\n",
        "Expected result:\n",
        "\n",
        "\n",
        "```\n",
        "Hello Jack!\n",
        "Hello Leon!\n",
        "Hello Alice!\n",
        "Hello Bob!\n",
        "```\n",
        "***solution:***"
      ],
      "metadata": {
        "id": "07Z9G0_oj98Z"
      }
    },
    {
      "cell_type": "code",
      "source": [
        "names = ['Jack', 'Leon', 'Alice', '32-3c', 'Bob']\n",
        "\n",
        "for name in names:\n",
        "  if name.isalpha():\n",
        "    print(f'Hello {name}!')"
      ],
      "metadata": {
        "colab": {
          "base_uri": "https://localhost:8080/"
        },
        "id": "HCUnGgHpkFxO",
        "outputId": "ec2b9d99-04f1-4887-a4bf-a5d0adccb679"
      },
      "execution_count": 154,
      "outputs": [
        {
          "output_type": "stream",
          "name": "stdout",
          "text": [
            "Hello Jack\n",
            "Hello Leon\n",
            "Hello Alice\n",
            "Hello Bob\n"
          ]
        }
      ]
    },
    {
      "cell_type": "markdown",
      "source": [
        "---\n",
        "## break statement"
      ],
      "metadata": {
        "id": "U5UOxCDrkFEI"
      }
    },
    {
      "cell_type": "markdown",
      "source": [
        "---\n",
        "### Exercise 98\n",
        "Write a program that compares two lists and returns True if the lists contain at least one of the same element. Otherwise, it will return False.\n",
        "\n",
        "Use break statement in the solution and print result to the console.\n",
        "\n",
        "Lists:\n",
        "\n",
        "\n",
        "```\n",
        "list1 = [1, 2, 0]\n",
        "list2 = [4, 5, 6, 1]\n",
        "```\n",
        "\n",
        "Expected result:\n",
        "\n",
        "\n",
        "```\n",
        "True\n",
        "```\n",
        "\n",
        "***solution:***"
      ],
      "metadata": {
        "id": "SgLlHxMOkRE4"
      }
    },
    {
      "cell_type": "code",
      "source": [
        "list1 = [1, 2, 0]\n",
        "list2 = [4, 5, 6, 1]\n",
        "for index in list1:\n",
        "  if index in list2:\n",
        "    print(\"True\")\n",
        "    break"
      ],
      "metadata": {
        "colab": {
          "base_uri": "https://localhost:8080/"
        },
        "id": "jaAxh3eVkXJo",
        "outputId": "ccfdbd72-c593-4f67-a3d5-fef1fc568fd2"
      },
      "execution_count": 155,
      "outputs": [
        {
          "output_type": "stream",
          "name": "stdout",
          "text": [
            "True\n"
          ]
        }
      ]
    },
    {
      "cell_type": "markdown",
      "source": [
        "---\n",
        "###Exercise 99\n",
        "The following list of hashtags is given:\n",
        "\n",
        "\n",
        "```\n",
        "hashtags = ['holiday', 'sport', 'fit', None, 'fashion']\n",
        "```\n",
        "\n",
        "Check if all objects in the list are of str type. If so, print True, otherwise print False. Use the break statement in your solution.\n",
        "\n",
        "\n",
        "\n",
        "Expected result:\n",
        "\n",
        "\n",
        "```\n",
        "False\n",
        "```\n",
        "***solution:***"
      ],
      "metadata": {
        "id": "6xifelGwkXXb"
      }
    },
    {
      "cell_type": "code",
      "source": [
        "#Method I\n",
        "\n",
        "hashtags = ['holiday', 'sport', 'fit', None, 'fashion']\n",
        "result = True\n",
        "\n",
        "for obj in hashtags:\n",
        "  if obj is not type(str):\n",
        "    result = False\n",
        "    break\n",
        "\n",
        "print(result)\n",
        "\n",
        "# Method II\n",
        "\n",
        "hashtags = ['holiday', 'sport', 'fit', None, 'fashion']\n",
        "result = True\n",
        " \n",
        "for hashtag in hashtags:\n",
        "    if not isinstance(hashtag, str):\n",
        "        result = False\n",
        "        break\n",
        "    \n",
        "print(result)"
      ],
      "metadata": {
        "colab": {
          "base_uri": "https://localhost:8080/"
        },
        "id": "nHTTMMkQkeLa",
        "outputId": "2d0d5a62-8280-4d1c-9771-28fb2e7a281b"
      },
      "execution_count": 158,
      "outputs": [
        {
          "output_type": "stream",
          "name": "stdout",
          "text": [
            "False\n",
            "False\n"
          ]
        }
      ]
    },
    {
      "cell_type": "markdown",
      "source": [
        "---\n",
        "### Exercise 100\n",
        "Write a program that checks if the given number is a prime number (use the break statement):\n",
        "\n",
        "\n",
        "```\n",
        "number = 13\n",
        "```\n",
        "\n",
        "Print one of the following to the console depends on the result:\n",
        "\n",
        "\n",
        "```\n",
        "13 - prime number\n",
        "13 - not a prime number\n",
        "```\n",
        "\n",
        "Expected result:\n",
        "\n",
        "\n",
        "```\n",
        "13 - prime number\n",
        "```\n",
        "***solution:***"
      ],
      "metadata": {
        "id": "MigdydZikec3"
      }
    },
    {
      "cell_type": "code",
      "source": [
        "number = 13\n",
        " \n",
        "if number > 1:\n",
        "    for i in range(2, number):\n",
        "        if number % i == 0:\n",
        "            print(f'{number} - not a prime number')\n",
        "            break\n",
        "    else:\n",
        "        print(f'{number} - prime number')\n",
        "else:\n",
        "    print(f'{number} - not a prime number')\n"
      ],
      "metadata": {
        "colab": {
          "base_uri": "https://localhost:8080/"
        },
        "id": "KSuFelRVkmZo",
        "outputId": "e01536fa-82ba-4b33-cb77-6012dfd79dc3"
      },
      "execution_count": 159,
      "outputs": [
        {
          "output_type": "stream",
          "name": "stdout",
          "text": [
            "13 - prime number\n"
          ]
        }
      ]
    },
    {
      "cell_type": "markdown",
      "source": [
        "---\n",
        "## continue statement"
      ],
      "metadata": {
        "id": "xTfaI6x3kmwD"
      }
    },
    {
      "cell_type": "markdown",
      "source": [
        "---\n",
        "###Exercise 101\n",
        "The list of companies from the WIG.GAMES index is given with the closing price and currency:\n",
        "\n",
        "\n",
        "```\n",
        "gaming = {\n",
        "    '11B': [362.5, 'PLN'],\n",
        "    'CDR': [74.25, 'USD'],\n",
        "    'CIG': [0.85, 'PLN'],\n",
        "    'PLW': [79.5, 'USD'],\n",
        "    'TEN': [300.0, 'PLN']\n",
        "}\n",
        "```\n",
        "\n",
        "Using the continue statement, create a for loop that will change the closing price from USD to PLN in this dictionary. Take USDPLN = 4.0.\n",
        "\n",
        "In response, print the gaming dictionary to the console.\n",
        "\n",
        "\n",
        "\n",
        "Expected result:\n",
        "\n",
        "\n",
        "```\n",
        "{'11B': [362.5, 'PLN'], 'CDR': [297.0, 'PLN'], 'CIG': [0.85, 'PLN'], 'PLW': [318.0, 'PLN'], 'TEN': [300.0, 'PLN']}\n",
        "```\n",
        "***solution:***"
      ],
      "metadata": {
        "id": "V4XiuRltktIf"
      }
    },
    {
      "cell_type": "code",
      "source": [
        "gaming = {\n",
        "    '11B': [362.5, 'PLN'],\n",
        "    'CDR': [74.25, 'USD'],\n",
        "    'CIG': [0.85, 'PLN'],\n",
        "    'PLW': [79.5, 'USD'],\n",
        "    'TEN': [300.0, 'PLN']\n",
        "}\n",
        "\n",
        "USDPLN = 4.0\n",
        "\n",
        "for item, value in gaming.items():\n",
        "  if value[1] is 'PLN':\n",
        "    continue\n",
        "  else:\n",
        "    value[0] = value[0] * 4\n",
        "    value[1] = 'PLN'\n",
        "    \n",
        "print(gaming) "
      ],
      "metadata": {
        "colab": {
          "base_uri": "https://localhost:8080/"
        },
        "id": "FgujKNZukzkm",
        "outputId": "abe917e5-5056-492e-bfe9-58ed6b304aec"
      },
      "execution_count": 165,
      "outputs": [
        {
          "output_type": "stream",
          "name": "stdout",
          "text": [
            "{'11B': [362.5, 'PLN'], 'CDR': [297.0, 'PLN'], 'CIG': [0.85, 'PLN'], 'PLW': [318.0, 'PLN'], 'TEN': [300.0, 'PLN']}\n"
          ]
        }
      ]
    },
    {
      "cell_type": "markdown",
      "source": [
        "---\n",
        "###Exercise 102\n",
        "The list of names is given (one is missing):\n",
        "\n",
        "\n",
        "```\n",
        "names = ['Jack', 'Leon', 'Alice', None, 'Bob']\n",
        "```\n",
        "\n",
        "Using the continue statement, print only the correct names to the console as shown below.\n",
        "\n",
        "\n",
        "\n",
        "Expected result:\n",
        "\n",
        "\n",
        "```\n",
        "Jack\n",
        "Leon\n",
        "Alice\n",
        "Bob\n",
        "```"
      ],
      "metadata": {
        "id": "jS-RdcICk1Iv"
      }
    },
    {
      "cell_type": "code",
      "source": [
        "# Method I\n",
        "\n",
        "names = ['Jack', 'Leon', 'Alice', None, 'Bob']\n",
        "\n",
        "for name in names:\n",
        "  if not isinstance(name,str):\n",
        "    continue\n",
        "  print(name) \n",
        "\n",
        "# Method II\n",
        "\n",
        "names = ['Jack', 'Leon', 'Alice', None, 'Bob']\n",
        " \n",
        "for name in names:\n",
        "    if name is None:\n",
        "        continue\n",
        "    print(name)\n"
      ],
      "metadata": {
        "colab": {
          "base_uri": "https://localhost:8080/"
        },
        "id": "VteYo9ldk35o",
        "outputId": "137b0459-08bb-4d2e-b034-6c1cc33129d5"
      },
      "execution_count": 176,
      "outputs": [
        {
          "output_type": "stream",
          "name": "stdout",
          "text": [
            "Jack\n",
            "Leon\n",
            "Alice\n",
            "Bob\n"
          ]
        }
      ]
    },
    {
      "cell_type": "markdown",
      "source": [
        "---\n",
        "## while loop"
      ],
      "metadata": {
        "id": "VT2HmOBFk4K9"
      }
    },
    {
      "cell_type": "markdown",
      "source": [
        "---\n",
        "### Exercise 103\n",
        "Write a program that prints to the console the first ten prime numbers separated by a comma.\n",
        "\n",
        "\n",
        "\n",
        "Tip: Use a while loop with break statement.\n",
        "\n",
        "\n",
        "\n",
        "Expected result:\n",
        "\n",
        "\n",
        "```\n",
        "2,3,5,7,11,13,17,19,23,29\n",
        "```\n",
        "***solution:***"
      ],
      "metadata": {
        "id": "WW-TwXUIlhl6"
      }
    },
    {
      "cell_type": "code",
      "source": [],
      "metadata": {
        "colab": {
          "base_uri": "https://localhost:8080/"
        },
        "id": "89_SpF8xlqSR",
        "outputId": "94212bc9-2616-4ec4-8894-94d3581107ad"
      },
      "execution_count": 179,
      "outputs": [
        {
          "output_type": "stream",
          "name": "stdout",
          "text": [
            "3,4,4,5,5,5,6,6,6,6\n"
          ]
        }
      ]
    },
    {
      "cell_type": "markdown",
      "source": [
        "---\n",
        "### Exercise 104\n",
        "Using the while loop, calculate how many years you have to wait for the return on the investment described below to at least double your money (we only take into account full periods).\n",
        "\n",
        "\n",
        "\n",
        "Description:\n",
        "\n",
        "\n",
        "```\n",
        "n - number of periods (in years)\n",
        "pv - present value\n",
        "r - interest rate (annual)\n",
        "fv - future value\n",
        "```\n",
        "\n",
        "Investment parameters:\n",
        "\n",
        "\n",
        "```\n",
        "pv = 1000\n",
        "r = 0.04\n",
        "```\n",
        "\n",
        "Print result to the console as shown below.\n",
        "\n",
        "\n",
        "\n",
        "Expected result:\n",
        "\n",
        "\n",
        "```\n",
        "Future value: 2025.82 USD. Number of periods: 18 years\n",
        "```\n",
        "***solution:***"
      ],
      "metadata": {
        "id": "Kx5Oqa4vlqgI"
      }
    },
    {
      "cell_type": "code",
      "source": [],
      "metadata": {
        "id": "G0oZLBfRlynf"
      },
      "execution_count": null,
      "outputs": []
    },
    {
      "cell_type": "markdown",
      "source": [
        "---\n",
        "### Exercise 105\n",
        "Use the stochastic gradient descent algorithm to find the minimum of the loss function given by the formula: \n",
        "\n",
        "The derivative of function L: \n",
        "![image.png](data:image/png;base64,iVBORw0KGgoAAAANSUhEUgAAAF8AAAAWCAYAAACmG0BRAAACx0lEQVRoge2YO7LTMBSGvzBUDDOYFeAd4IaCBswKMCsgBQvw3YFZAbkrIDsgsIErVnDNDD1hhoIOV1CG4uhcK7KdKLFNIPif0UTR41g6j19Hgm5EQGGLIgZWtsQ75k4IwK0dfRViAOO0rZ229Yjr+q8RIZ7dpuANk9cPgtstbQW1t5deXwp8ZfL6QeDTToHQjUEUbbz+DOH7UyFFojIEf2N0KqO0onLqpmVgiRjAFzg25sAPhPI2wJuAOYbmWk+NEieBcT0/Ab7YekpT8THwkG3Pzxlf+akt94EZcGm/O+8Yb5C9GGSzObAYeY0haOjK5fwS4fMCUbDP9xnwkdpykS1jbyxlW9Gq+K7wXVB7fMafWeM+JPb3LM5KgxihDQm1t+fAS9oNFQPPEeP68xVz+ke2a3yDQztt2c7QSIGnAeNeB8qLEAV10c4K8fgMWCIbf0GT/yvgAolwTSyUGkrnf0W/JMO/qN5AlX8PeNzjA5+Bbzv6Zz1k+8ht6Qph9fIFosQuI7lZnc6bs53hLWnS7yHIrLxq16BH1JnEMeVVjwUegoRw/o7ZTxkpcG3rOdt3nIim4e6yXxffne+/Q6JeyzXw1tZvPDICngRuqg2fkMO6DUPRjlJNF9cfgxS4QmhJn04K6kN+2TLnzh6ZG+CXI7sLM6WdCvgQvuaDEAPPAsbtUn6EhHDutWlK2ReplZ0CD+y3uujmZ6BMQ5NuDd6h2wV9wUz2DRwZERKuV17pw8WubH1ABNnrhvEuZ8HZztouZohN9kEKvG9pH2JdFXVGozIvGO8JZUlArh8jinc5LwqoT+gBvRDESIjoaa//NS1bOe2nfGg7K7iPaYZtry4QYygVaZ9/Q5wQCJfzM4SP1tQ5sns5KBFF6+UksWMmzz8S/qumHgY5zSflClH+yqmf+jD+p+F6vqG+PVaI4v1rce6NP4tXulPhN0lzsW4vGi6BAAAAAElFTkSuQmCC)\n",
        "\n",
        "\n",
        "Algorithm:\n",
        "\n",
        "\n",
        "\n",
        "1. We start from the starting point, let's take:\n",
        "\n",
        "\n",
        "```\n",
        "w_0 = -1\n",
        "```\n",
        "\n",
        "2. We define in advance the maximum number of iterations:\n",
        "\n",
        "\n",
        "```\n",
        "max_iters = 10000 \n",
        "```\n",
        "\n",
        "3. We define a variable that will help us control the size of the step towards the minimum, let's set this value to 1:\n",
        "\n",
        "\n",
        "```\n",
        "previous_step_size = 1\n",
        "```\n",
        "\n",
        "4. We define the learning rate:\n",
        "\n",
        "\n",
        "```\n",
        "learning_rate = 0.01\n",
        "```\n",
        "\n",
        "5. We define the precision that is enough to find the minimum:\n",
        "\n",
        "\n",
        "```\n",
        "precision = 0.000001\n",
        "```\n",
        "\n",
        "6. We define the derivative of a function:\n",
        "\n",
        "\n",
        "```\n",
        "derivative = lambda w: 2 * w - 4\n",
        "```\n",
        "\n",
        "To find the minimum of the L function, move along the opposite direction to the direction of the gradient by updating the value w_0 as follows:\n",
        "\n",
        "\n",
        "```\n",
        "w_0 = w_0 - learning_rate * derivative(w_prev)\n",
        "```\n",
        "\n",
        "where w_prev is the point from the previous iteration. For the first point is just w_0.\n",
        "\n",
        "\n",
        "\n",
        "Create a while loop that will stop the algorithm when the minimum is found with the precision we assumed or if we exceed the maximum number of iterations. Print the result to the console as shown below.\n",
        "\n",
        "\n",
        "\n",
        "Tip: Conditions in a while loop:\n",
        "\n",
        "\n",
        "```\n",
        "while previous_step_size > precision and iters < max_iters:\n",
        "```\n",
        "\n",
        "Expected result:\n",
        "\n",
        "\n",
        "```\n",
        "A local minimum in point: 2.00\n",
        "```\n",
        "***solition:***"
      ],
      "metadata": {
        "id": "t3mhkjSfl1hk"
      }
    },
    {
      "cell_type": "code",
      "source": [],
      "metadata": {
        "id": "7JKQHfCqmnEK"
      },
      "execution_count": null,
      "outputs": []
    },
    {
      "cell_type": "markdown",
      "source": [
        "---\n",
        "### Exercise 106\n",
        "Write a program that checks if the given element (target) is in the sorted list (numbers). We have given:\n",
        "\n",
        "\n",
        "```\n",
        "numbers = [1, 2, 3, 4, 5, 6, 7, 8, 9]\n",
        "target = 7\n",
        "```\n",
        "\n",
        "Algorithm:\n",
        "\n",
        "\n",
        "\n",
        "1. We set the start and end index as well as the flag = None.\n",
        "\n",
        "2. As long as the start index is not greater than the end index, select the middle index (mid) of the list (arithmetic average of the start and end index -> remember to convert the result with the int() function). If the start index is greater than the end index, we end the algorithm.\n",
        "\n",
        "3. Check if the element for the index calculated in this way is our target. If so, we set the flag to True and terminate the algorithm. If not -> step 4.\n",
        "\n",
        "4. We check if the element of the list for the index mid is less than the target. If so, we increase the start index by 1. If not, we reduce the end index by 1 and go to step 2.\n",
        "\n",
        "After while loop, depending on the value of the flag, print to the console:\n",
        "\n",
        "'Found' or 'Not found'.\n",
        "\n",
        "\n",
        "\n",
        "Expected result:\n",
        "\n",
        "\n",
        "```\n",
        "Found\n",
        "```\n",
        "***solution:***"
      ],
      "metadata": {
        "id": "V1Dqc9CymnXL"
      }
    },
    {
      "cell_type": "code",
      "source": [],
      "metadata": {
        "id": "ZgOGtAvtmvId"
      },
      "execution_count": null,
      "outputs": []
    },
    {
      "cell_type": "markdown",
      "source": [
        "---\n",
        "## Exception handling"
      ],
      "metadata": {
        "id": "K1zlQlFBmxYU"
      }
    },
    {
      "cell_type": "markdown",
      "source": [
        "---\n",
        "###Exercise 107\n",
        "Two variables defined below are given:\n",
        "\n",
        "\n",
        "```\n",
        "sum = 3000\n",
        "counter = 0\n",
        "```\n",
        "\n",
        "We want to divide the variable sum by the counter variable. Using the `try... except...` clause handle the ZeroDivisionError. If the division is done correctly, print the result to the console, otherwise print to the console the following message:\n",
        "\n",
        "\n",
        "```\n",
        "'Division by zero.'\n",
        "```\n",
        "***solution:***"
      ],
      "metadata": {
        "id": "d-4osuKwm2F7"
      }
    },
    {
      "cell_type": "code",
      "source": [],
      "metadata": {
        "id": "xF18t3ysm_Kc"
      },
      "execution_count": null,
      "outputs": []
    },
    {
      "cell_type": "markdown",
      "source": [
        "---\n",
        "### Exercise 108\n",
        "Sometimes we need to open a file without knowing if such a file exists. When file doesn't exist the FileNotFoundError is raised.\n",
        "\n",
        "Using the `try... except...` clause, handle with this problem.\n",
        "\n",
        "\n",
        "\n",
        "Use this code snippet to read the content of the file:\n",
        "\n",
        "\n",
        "```\n",
        "with open('file.txt', 'r') as file:\n",
        "    content = file.read()\n",
        "```\n",
        "\n",
        "Try to open file.txt using the above code. If the file.txt does not exist, print to the console following message:\n",
        "\n",
        "\n",
        "```\n",
        "'File not found.'\n",
        "```\n",
        "***solution:***"
      ],
      "metadata": {
        "id": "8cBfrSA1m_a_"
      }
    },
    {
      "cell_type": "code",
      "source": [],
      "metadata": {
        "id": "LaDf_hnKnGON"
      },
      "execution_count": null,
      "outputs": []
    },
    {
      "cell_type": "markdown",
      "source": [
        "---\n",
        "### Exercise 109\n",
        "The following dictionary is given:\n",
        "\n",
        "\n",
        "```\n",
        "users = {'001': 'Mark', '002': 'Monica', '003': 'Jacob'}\n",
        "```\n",
        "\n",
        "Try printing the value for the key:\n",
        "\n",
        "\n",
        "```\n",
        "user_id = '004'\n",
        "```\n",
        "\n",
        "In case of a KeyError, print to the console the following message:\n",
        "\n",
        "\n",
        "```\n",
        "'The 004 key is not in the dictionary. Adding key ...'\n",
        "```\n",
        "\n",
        "Then add this key to the dictionary with the value None and print the users dictionary to the console.\n",
        "\n",
        "\n",
        "\n",
        "Expected result:\n",
        "\n",
        "\n",
        "```\n",
        "The 004 key is not in the dictionary. Adding key ...\n",
        "{'001': 'Mark', '002': 'Monica', '003': 'Jacob', '004': None}\n",
        "```\n",
        "***solution:***"
      ],
      "metadata": {
        "id": "tbGZRlNwnJkN"
      }
    },
    {
      "cell_type": "code",
      "source": [],
      "metadata": {
        "id": "E4RB3_8znaDx"
      },
      "execution_count": null,
      "outputs": []
    }
  ]
}