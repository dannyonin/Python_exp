{
  "nbformat": 4,
  "nbformat_minor": 0,
  "metadata": {
    "colab": {
      "provenance": [],
      "collapsed_sections": []
    },
    "kernelspec": {
      "name": "python3",
      "display_name": "Python 3"
    },
    "language_info": {
      "name": "python"
    }
  },
  "cells": [
    {
      "cell_type": "markdown",
      "source": [
        "# Intro 🔖📖\n",
        "Welcome to the DATA STRUCTURES section! ⏰🏬🌄\n",
        "---\n",
        "---\n",
        "### this page is about Sets, Tuples, Lists and Dictionaries \n",
        "\n",
        "# Page 2"
      ],
      "metadata": {
        "id": "HFwh_sg_AJ63"
      }
    },
    {
      "cell_type": "markdown",
      "source": [
        "# Sets"
      ],
      "metadata": {
        "id": "AEVA2mRvzaSW"
      }
    },
    {
      "cell_type": "markdown",
      "source": [
        "---\n",
        "###Exercise 45\n",
        "The following set is given:\n",
        "\n",
        "`subjects = {'mathematics', 'biology'}`\n",
        "\n",
        "Using the appropriate method add `'english'` to this set. In response print subjects set to the console.\n",
        "\n",
        "**Expected result:**\n",
        "\n",
        "`{'biology', 'mathematics', 'english'}`\n",
        "\n",
        "Note: Remember that the set is an unordered data structure. You may get a different order of items than the expected result.\n",
        "\n",
        "***solution:***"
      ],
      "metadata": {
        "id": "8jPNiUkjBNH8"
      }
    },
    {
      "cell_type": "code",
      "execution_count": null,
      "metadata": {
        "id": "iEaKojvB_83P",
        "colab": {
          "base_uri": "https://localhost:8080/"
        },
        "outputId": "61276fc2-6195-45d8-cd95-6db7127ba573"
      },
      "outputs": [
        {
          "output_type": "stream",
          "name": "stdout",
          "text": [
            "{'biology', 'mathematics', 'english'}\n"
          ]
        }
      ],
      "source": [
        "subjects = {'mathematics', 'biology'}\n",
        "\n",
        "subjects.add('english')\n",
        "print(subjects)"
      ]
    },
    {
      "cell_type": "markdown",
      "source": [
        "---\n",
        "###Exercise 46\n",
        "The following text is given:\n",
        "\n",
        "\n",
        "\n",
        "`text = 'Programming in python.'`\n",
        "\n",
        "\n",
        "Follow the next steps:\n",
        "\n",
        "\n",
        "\n",
        "\n",
        "\n",
        "> 1.   Change all letters to lowercase.\n",
        "> 2.   Delete spaces and period.\n",
        "> 3. Create a set consisting of all letters in the text and assign to letters variable\n",
        "> 4.Using the appropriate method for sets, remove all vowels from letters set:\n",
        "\n",
        "\n",
        "\n",
        "`vowels = {'a', 'e', 'i', 'o', 'u'}`\n",
        "  \n",
        "\n",
        "> 5. Print the number of items in the letters set as shown below.\n",
        "\n",
        "\n",
        "\n",
        "**Expected result:**\n",
        "\n",
        "\n",
        "\n",
        "`Number of items: 8`\n",
        "\n",
        "***solution:***"
      ],
      "metadata": {
        "id": "B89aittx0Cv1"
      }
    },
    {
      "cell_type": "code",
      "source": [
        "import re\n",
        "text = 'Programming in python.'\n",
        "vowels = {'a', 'e', 'i', 'o', 'u'}\n",
        "\n",
        "text =text.lower()\n",
        "letters  = set(re.sub(\"\\W+\",\"\",text))\n",
        "\n",
        "\n",
        "set_letters = letters.difference(vowels)\n",
        "print(f'Number of items: {len(set_letters)}')\n"
      ],
      "metadata": {
        "colab": {
          "base_uri": "https://localhost:8080/"
        },
        "id": "CJLpMwes0vo7",
        "outputId": "0c3e169f-94ee-400d-ac34-e9abcaee5254"
      },
      "execution_count": null,
      "outputs": [
        {
          "output_type": "stream",
          "name": "stdout",
          "text": [
            "Number of items: 8\n"
          ]
        }
      ]
    },
    {
      "cell_type": "markdown",
      "source": [
        "---\n",
        "###Exercise 47\n",
        "In mathematics, the symmetric difference of two sets is the set of elements which are in either of the sets, but not in their intersection.\n",
        "\n",
        "Two following sets are given:\n",
        "\n",
        "\n",
        "```\n",
        "A = {2, 4, 6, 8}\n",
        "B = {4, 10}\n",
        "```\n",
        "\n",
        "Using the appropriate method, extract the symmetrical difference of sets A and B and print the result to the console as shown below.\n",
        "\n",
        "\n",
        "\n",
        "Expected result:\n",
        "\n",
        "\n",
        "```\n",
        "Symmetric difference: {2, 6, 8, 10}\n",
        "```\n",
        "***solution:***\n"
      ],
      "metadata": {
        "id": "2xQ7iWdG0xcc"
      }
    },
    {
      "cell_type": "code",
      "source": [
        "A = {2, 4, 6, 8}\n",
        "B = {4, 10}\n",
        "\n",
        "c = A.symmetric_difference(B)\n",
        "\n",
        "print(f'Symmetric difference: {c}')"
      ],
      "metadata": {
        "colab": {
          "base_uri": "https://localhost:8080/"
        },
        "id": "085ShCPL03Iy",
        "outputId": "e6b056db-4206-4df4-8ce4-9d62c7c1c94e"
      },
      "execution_count": null,
      "outputs": [
        {
          "output_type": "stream",
          "name": "stdout",
          "text": [
            "Symmetric difference: {2, 6, 8, 10}\n"
          ]
        }
      ]
    },
    {
      "cell_type": "markdown",
      "source": [
        "---\n",
        "###Exercise 48\n",
        "We have two sets of customer IDs:\n",
        "\n",
        "\n",
        "```\n",
        "ad1_id = {'001', '002', '003'}\n",
        "ad2_id = {'002', '003', '007'}\n",
        "```\n",
        "\n",
        "Each set stores the id of the customers who made the purchase based on the specific ad. We have two ads. Each customer can use the offer only twice in campaign. Choose the ID of the customers to whom you can send another ad (or ids that only appeared once in both sets).\n",
        "\n",
        "\n",
        "\n",
        "**Expected result:**\n",
        "\n",
        "\n",
        "```\n",
        "Selected ID: { '007', '001'}\n",
        "```\n",
        "\n",
        "***Note:*** Remember that the set is an unordered data structure. You may get a different order of items than the expected result. You don't have to worry about it.\n",
        "\n",
        "***solution:***"
      ],
      "metadata": {
        "id": "RQDq3mQI1C9b"
      }
    },
    {
      "cell_type": "code",
      "source": [
        "ad1_id = {'001', '002', '003'}\n",
        "ad2_id = {'002', '003', '007'}\n",
        "selected = ad1_id.symmetric_difference(ad2_id)\n",
        "print(f'Selected ID: {selected}')"
      ],
      "metadata": {
        "id": "a9_ISK-21TpM",
        "colab": {
          "base_uri": "https://localhost:8080/"
        },
        "outputId": "c8a25c37-3df7-4e68-95fc-71d01f92b4ff"
      },
      "execution_count": null,
      "outputs": [
        {
          "output_type": "stream",
          "name": "stdout",
          "text": [
            "Selected ID: {'007', '001'}\n"
          ]
        }
      ]
    },
    {
      "cell_type": "markdown",
      "source": [
        "---\n",
        "###Exercise 49\n",
        "Two customer ID sets are given. The first one tells you whether a person clicked on the banner ad. Second, whether the person purchased the product:\n",
        "\n",
        "\n",
        "```\n",
        "is_clicked = {'9001', '9002', '9005'}\n",
        "is_bought = {'9002', '9004', '9005'}\n",
        "```\n",
        "\n",
        "Return the ID of those customers who clicked on the ad and bought the product.\n",
        "\n",
        "\n",
        "\n",
        "**Expected result:**\n",
        "\n",
        "\n",
        "```\n",
        "Customer ID: { '9002', '9005'}\n",
        "```\n",
        "\n",
        "***Note: ***Remember that the set is an unordered data structure. You may get a different order of items than the expected result. You don't have to worry about it.\n",
        "\n",
        "***solution:***"
      ],
      "metadata": {
        "id": "2n6dzkRj1kx2"
      }
    },
    {
      "cell_type": "code",
      "source": [
        "is_clicked = {'9001', '9002', '9005'}\n",
        "is_bought = {'9002', '9004', '9005'}\n",
        "selected = is_clicked.intersection(is_bought)\n",
        "print(f'Customer ID: {selected}')"
      ],
      "metadata": {
        "id": "ZnPjdUkU12bb",
        "colab": {
          "base_uri": "https://localhost:8080/"
        },
        "outputId": "2b01741b-c82e-4b3c-9ad8-7f53495cfd31"
      },
      "execution_count": null,
      "outputs": [
        {
          "output_type": "stream",
          "name": "stdout",
          "text": [
            "Customer ID: {'9002', '9005'}\n"
          ]
        }
      ]
    },
    {
      "cell_type": "markdown",
      "source": [
        "# Tuples"
      ],
      "metadata": {
        "id": "dy3mUcl7zdYy"
      }
    },
    {
      "cell_type": "markdown",
      "source": [
        "---\n",
        "###Exercise 50\n",
        "Two following tuples are given:\n",
        "\n",
        "\n",
        "```\n",
        "dji1 = ('AAPL.US', 'IBM.US', 'MSFT.US')\n",
        "dji2 = ('HD.US', 'GS.US', 'NKE.US')\n",
        "```\n",
        "\n",
        "Combine these tuples into one as shown below and print the result to the console.\n",
        "\n",
        "\n",
        "\n",
        "Expected result:\n",
        "\n",
        "\n",
        "```\n",
        "('AAPL.US', 'IBM.US', 'MSFT.US', 'HD.US', 'GS.US', 'NKE.US')\n",
        "```\n",
        "***solution:***"
      ],
      "metadata": {
        "id": "45NBdy481_x6"
      }
    },
    {
      "cell_type": "code",
      "source": [
        "dji1 = ('AAPL.US', 'IBM.US', 'MSFT.US')\n",
        "dji2 = ('HD.US', 'GS.US', 'NKE.US')\n",
        "\n",
        "dj = dji1 + dji2\n",
        "print(dj)"
      ],
      "metadata": {
        "id": "mZoMrB0_2JjH",
        "colab": {
          "base_uri": "https://localhost:8080/"
        },
        "outputId": "84c60698-3808-4e04-f1d3-ff0bec2628b9"
      },
      "execution_count": null,
      "outputs": [
        {
          "output_type": "stream",
          "name": "stdout",
          "text": [
            "('AAPL.US', 'IBM.US', 'MSFT.US', 'HD.US', 'GS.US', 'NKE.US')\n"
          ]
        }
      ]
    },
    {
      "cell_type": "markdown",
      "source": [
        "---\n",
        "###Exercise 51\n",
        "The following tuples are given:\n",
        "\n",
        "\n",
        "```\n",
        "dji1 = ('AAPL.US', 'IBM.US', 'MSFT.US')\n",
        "dji2 = ('HD.US', 'GS.US', 'NKE.US')\n",
        "```\n",
        "\n",
        "Nest these tuples into one tuple as shown below and print the result to the console.\n",
        "\n",
        "\n",
        "\n",
        "**Expected result:**\n",
        "\n",
        "\n",
        "```\n",
        "(('AAPL.US', 'IBM.US', 'MSFT.US'), ('HD.US', 'GS.US', 'NKE.US'))\n",
        "```\n",
        "***solution:***"
      ],
      "metadata": {
        "id": "6MZEZ0tvh0i-"
      }
    },
    {
      "cell_type": "code",
      "source": [
        "dji1 = ('AAPL.US', 'IBM.US', 'MSFT.US')\n",
        "dji2 = ('HD.US', 'GS.US', 'NKE.US')\n",
        "together = dji1 , dji2\n",
        "print(together)"
      ],
      "metadata": {
        "colab": {
          "base_uri": "https://localhost:8080/"
        },
        "id": "mTffJmOciE_c",
        "outputId": "4e1035f7-e507-4944-80be-88e0fdd44b05"
      },
      "execution_count": null,
      "outputs": [
        {
          "output_type": "stream",
          "name": "stdout",
          "text": [
            "(('AAPL.US', 'IBM.US', 'MSFT.US'), ('HD.US', 'GS.US', 'NKE.US'))\n"
          ]
        }
      ]
    },
    {
      "cell_type": "markdown",
      "source": [
        "---\n",
        "###Exercise 52\n",
        "Tuples are immutable. The following tuple is given:\n",
        "\n",
        "\n",
        "```\n",
        "members = (('Kate', 23), ('Tom', 19))\n",
        "```\n",
        "\n",
        "Insert a tuple `('John', 26)` between Kate and Tom as shown below. Print the result to the console.\n",
        "\n",
        "\n",
        "\n",
        "**Tip:** You have to create a new tuple.\n",
        "\n",
        "\n",
        "\n",
        "**Expected result:**\n",
        "\n",
        "\n",
        "```\n",
        "(('Kate', 23), ('John', 26), ('Tom', 19))\n",
        "```\n",
        "\n",
        "***solution:***\n"
      ],
      "metadata": {
        "id": "3e4jXALLzr-p"
      }
    },
    {
      "cell_type": "code",
      "source": [
        "members = (('Kate', 23), ('Tom', 19))\n",
        "new_member = (('John', 26))\n",
        "members_new = (members[0]) , new_member , (members[1])\n",
        "print(members_new)"
      ],
      "metadata": {
        "id": "HP2kxhIt2d-a",
        "colab": {
          "base_uri": "https://localhost:8080/"
        },
        "outputId": "790e12e3-c696-490d-977c-938f715ca88e"
      },
      "execution_count": null,
      "outputs": [
        {
          "output_type": "stream",
          "name": "stdout",
          "text": [
            "(('Kate', 23), ('John', 26), ('Tom', 19))\n"
          ]
        }
      ]
    },
    {
      "cell_type": "markdown",
      "source": [
        "---\n",
        "###Exercise 53\n",
        "The following tuple is given:\n",
        "\n",
        "\n",
        "```\n",
        "default = ('YES', 'NO', 'NO', 'YES', 'NO')\n",
        "```\n",
        "\n",
        "Using the appropriate method return the number of occurrences of the string 'YES' and print the result to the console as shown below.\n",
        "\n",
        "\n",
        "\n",
        "**Expected result:**\n",
        "\n",
        "\n",
        "```\n",
        "Number of occurrences: 2\n",
        "```\n",
        "\n",
        "***solution:***\n"
      ],
      "metadata": {
        "id": "RkSzlH6Z2ecl"
      }
    },
    {
      "cell_type": "code",
      "source": [
        "default = ('YES', 'NO', 'NO', 'YES', 'NO')\n",
        "count_yes = default.count(\"YES\")\n",
        "print(f'Number of occurrences: {count_yes}')"
      ],
      "metadata": {
        "id": "PVeVMe4H2wUT",
        "colab": {
          "base_uri": "https://localhost:8080/"
        },
        "outputId": "edd45bab-a29a-4d10-9919-db9063b07609"
      },
      "execution_count": null,
      "outputs": [
        {
          "output_type": "stream",
          "name": "stdout",
          "text": [
            "Number of occurrences: 2\n"
          ]
        }
      ]
    },
    {
      "cell_type": "markdown",
      "source": [
        "---\n",
        "###Exercise 54\n",
        "Sort the given tuple (from A to Z):\n",
        "\n",
        "\n",
        "```\n",
        "names = ('Monica', 'Tom', 'John', 'Michael')\n",
        "```\n",
        "\n",
        "Print the sorted tuple to the console as shown below.\n",
        "\n",
        "\n",
        "\n",
        "**Expected result:**\n",
        "\n",
        "\n",
        "```\n",
        "('John', 'Michael', 'Monica', 'Tom')\n",
        "```\n",
        "\n",
        "***solution:***"
      ],
      "metadata": {
        "id": "NgH1-QYp2yvb"
      }
    },
    {
      "cell_type": "code",
      "source": [
        "names = ('Monica', 'Tom', 'John', 'Michael')\n",
        "print(tuple(sorted(names)))\n"
      ],
      "metadata": {
        "id": "aLFiAgRi3N05",
        "colab": {
          "base_uri": "https://localhost:8080/"
        },
        "outputId": "f22a63f2-6908-4d98-b1f9-d99389ba1c20"
      },
      "execution_count": null,
      "outputs": [
        {
          "output_type": "stream",
          "name": "stdout",
          "text": [
            "('John', 'Michael', 'Monica', 'Tom')\n"
          ]
        }
      ]
    },
    {
      "cell_type": "markdown",
      "source": [
        "---\n",
        "###Exercise 55\n",
        "The following tuple is given (name, age):\n",
        "\n",
        "\n",
        "```\n",
        "info = (('Monica', 19), ('Tom', 21), ('John', 18))\n",
        "```\n",
        "\n",
        "Sort this tuple:\n",
        "\n",
        "* ascending by age\n",
        "\n",
        "\n",
        "\n",
        "\n",
        "* descending by age\n",
        "\n",
        "And print the result to the console as shown below.\n",
        "\n",
        "\n",
        "\n",
        "**Expected result:**\n",
        "\n",
        "\n",
        "```\n",
        "Ascending: (('John', 18), ('Monica', 19), ('Tom', 21))\n",
        "Descending: (('Tom', 21), ('Monica', 19), ('John', 18))\n",
        "```\n",
        "***solution:***"
      ],
      "metadata": {
        "id": "b28GsCJD9WLd"
      }
    },
    {
      "cell_type": "code",
      "source": [
        "info = (('Monica', 19), ('Tom', 21), ('John', 18))\n",
        "print(f'Ascending: {tuple((sorted(info)))}')\n",
        "print(f'Descending: {tuple((sorted(info,reverse=True)))}')\n"
      ],
      "metadata": {
        "id": "f1pjtu529idp",
        "colab": {
          "base_uri": "https://localhost:8080/"
        },
        "outputId": "49b1b359-03f5-4661-8679-77dc22256ce8"
      },
      "execution_count": null,
      "outputs": [
        {
          "output_type": "stream",
          "name": "stdout",
          "text": [
            "Ascending: (('John', 18), ('Monica', 19), ('Tom', 21))\n",
            "Descending: (('Tom', 21), ('Monica', 19), ('John', 18))\n"
          ]
        }
      ]
    },
    {
      "cell_type": "markdown",
      "source": [
        "---\n",
        "###Exercise 56\n",
        "The following tuple is given:\n",
        "\n",
        "\n",
        "```\n",
        "stocks = (\n",
        "    ('Apple Inc', ('AAPL.US', 310)),\n",
        "    ('Microsoft Corp', ('MSFT.US', 184)),\n",
        ")\n",
        "```\n",
        "\n",
        "Extract a ticker for Apple and print the result to the console.\n",
        "\n",
        "\n",
        "\n",
        "Expected result:\n",
        "\n",
        "\n",
        "```\n",
        "AAPL.US\n",
        "```\n",
        "***solution:***"
      ],
      "metadata": {
        "id": "m_a513G09khg"
      }
    },
    {
      "cell_type": "code",
      "source": [
        "stocks = (\n",
        "    ('Apple Inc', ('AAPL.US', 310)),\n",
        "    ('Microsoft Corp', ('MSFT.US', 184)),\n",
        ")\n",
        "\n",
        "print(stocks[0][1][0])"
      ],
      "metadata": {
        "id": "xLThgLfw-Giy",
        "colab": {
          "base_uri": "https://localhost:8080/"
        },
        "outputId": "e2cff81e-7eb7-4f5e-d2b7-a3d9bd7d36f4"
      },
      "execution_count": null,
      "outputs": [
        {
          "output_type": "stream",
          "name": "stdout",
          "text": [
            "AAPL.US\n"
          ]
        }
      ]
    },
    {
      "cell_type": "markdown",
      "source": [
        "# Lists"
      ],
      "metadata": {
        "id": "l_4i4q46zhCy"
      }
    },
    {
      "cell_type": "markdown",
      "source": [
        "---\n",
        "###Exercise 57\n",
        "To the given list:\n",
        "\n",
        "\n",
        "```\n",
        "cities = ['Los Angeles', 'New York', 'Chicago']\n",
        "```\n",
        "\n",
        "append the city: 'Houston' and print the list to the console.\n",
        "\n",
        "\n",
        "\n",
        "**Expected result:**\n",
        "\n",
        "\n",
        "```\n",
        "['Los Angeles', 'New York', 'Chicago', 'Houston']\n",
        "```\n",
        "***solution:***"
      ],
      "metadata": {
        "id": "w2gUnku3zs6o"
      }
    },
    {
      "cell_type": "code",
      "source": [],
      "metadata": {
        "id": "Fnod1kVv-ViL"
      },
      "execution_count": null,
      "outputs": []
    },
    {
      "cell_type": "markdown",
      "source": [
        "---\n",
        "###Exercise 58\n",
        "The following list is given:\n",
        "\n",
        "\n",
        "```\n",
        "idx = ['001', '002', '001', '003', '001']\n",
        "```\n",
        "\n",
        "Using the appropriate method count the occurrences of '001'. Print the result to the console as shown below.\n",
        "\n",
        "\n",
        "\n",
        "**Expected result:**\n",
        "\n",
        "```\n",
        "\n",
        "Number of occurrences: 3\n",
        "```\n",
        "***solution:***"
      ],
      "metadata": {
        "id": "z2Mbp9_h-WDR"
      }
    },
    {
      "cell_type": "code",
      "source": [],
      "metadata": {
        "id": "22aVYnNh-dkd"
      },
      "execution_count": null,
      "outputs": []
    },
    {
      "cell_type": "markdown",
      "source": [
        "---\n",
        "###Exercise 59\n",
        "The following text is given:\n",
        "\n",
        "\n",
        "\n",
        "text = 'Python programming'\n",
        "\n",
        "\n",
        "Standardize the text (replace uppercase letters with lowercase). Then create a list of unique characters in the text. Remove the space from this list and sort from a to z. After all print the list to the console.\n",
        "\n",
        "\n",
        "\n",
        "***Tip:*** You can use a set to generate unique characters.\n",
        "\n",
        "**Expected result:**\n",
        "\n",
        "\n",
        "```\n",
        "['a', 'g', 'h', 'i', 'm', 'n', 'o', 'p', 'r', 't', 'y']\n",
        "```"
      ],
      "metadata": {
        "id": "nTXAlTN6-d-1"
      }
    },
    {
      "cell_type": "code",
      "source": [],
      "metadata": {
        "id": "7EA41K2XFQ_E"
      },
      "execution_count": null,
      "outputs": []
    },
    {
      "cell_type": "markdown",
      "source": [
        "---\n",
        "###Exercise 59\n",
        "The following text is given:\n",
        "\n",
        "\n",
        "```\n",
        "text = 'Python programming'\n",
        "```\n",
        "\n",
        "Standardize the text (replace uppercase letters with lowercase). Then create a list of unique characters in the text. Remove the space from this list and sort from a to z. After all print the list to the console.\n",
        "\n",
        "\n",
        "\n",
        "Tip: You can use a set to generate unique characters.\n",
        "\n",
        "\n",
        "\n",
        "Expected result:\n",
        "\n",
        "\n",
        "```\n",
        "['a', 'g', 'h', 'i', 'm', 'n', 'o', 'p', 'r', 't', 'y']\n",
        "```\n",
        "***solution:***"
      ],
      "metadata": {
        "id": "QEYscUnSFRi9"
      }
    },
    {
      "cell_type": "code",
      "source": [],
      "metadata": {
        "id": "W60s5LMBFXR_"
      },
      "execution_count": null,
      "outputs": []
    },
    {
      "cell_type": "markdown",
      "source": [
        "---\n",
        "###Exercise 60\n",
        "The following list is given:\n",
        "\n",
        "\n",
        "```\n",
        "filenames = ['view.jpg', 'bear.jpg', 'ball.png']\n",
        "```\n",
        "\n",
        "Add the file 'phone.jpg' to this list at the beginning. Then delete the file 'ball.png'. In response, print the filenames list to the console.\n",
        "\n",
        "\n",
        "\n",
        "**Expected result:**\n",
        "\n",
        "\n",
        "```\n",
        "['phone.jpg', 'view.jpg', 'bear.jpg']\n",
        "```\n",
        "\n",
        "***solution:***\n"
      ],
      "metadata": {
        "id": "X_-qhasSFaoT"
      }
    },
    {
      "cell_type": "code",
      "source": [],
      "metadata": {
        "id": "6lz1S_XaFoLw"
      },
      "execution_count": null,
      "outputs": []
    },
    {
      "cell_type": "markdown",
      "source": [
        "---\n",
        "###Exercise 61\n",
        "The following list represents order ids for a given day:\n",
        "\n",
        "\n",
        "```\n",
        "day1 = ['3984', '9042', '4829', '2380']\n",
        "```\n",
        "\n",
        "Using the appropriate method, extend this list to the next day:\n",
        "\n",
        "\n",
        "```\n",
        "day2 = ['4231', '5234', '1345', '2455']\n",
        "```\n",
        "\n",
        "Print the result to the console.\n",
        "\n",
        "\n",
        "\n",
        "Expected result:\n",
        "\n",
        "\n",
        "```\n",
        "['3984', '9042', '4829', '2380', '4231', '5234', '1345', '2455']\n",
        "```\n",
        "***solution:***"
      ],
      "metadata": {
        "id": "K1UcBQlhFo_b"
      }
    },
    {
      "cell_type": "code",
      "source": [],
      "metadata": {
        "id": "zcjKy608Fw2w"
      },
      "execution_count": null,
      "outputs": []
    },
    {
      "cell_type": "markdown",
      "source": [
        "---\n",
        "###Exercise 62\n",
        "The following tuple is given:\n",
        "\n",
        "\n",
        "```\n",
        "techs = ('python', 'java', 'sql', 'aws')\n",
        "```\n",
        "\n",
        "Sort this tuple from a to z and print it to the console.\n",
        "\n",
        "\n",
        "\n",
        "Tip: Tuples are immutable. You have to create a new one.\n",
        "\n",
        "\n",
        "\n",
        "**Expected result:**\n",
        "\n",
        "\n",
        "```\n",
        "('aws', 'java', 'python', 'sql')\n",
        "```\n",
        "***solution:***"
      ],
      "metadata": {
        "id": "S3hnU5gAFxIV"
      }
    },
    {
      "cell_type": "code",
      "source": [],
      "metadata": {
        "id": "FAd8KDZqGIFR"
      },
      "execution_count": null,
      "outputs": []
    },
    {
      "cell_type": "markdown",
      "source": [
        "---\n",
        "###Exercise 63\n",
        "The following list is given:\n",
        "\n",
        "\n",
        "```\n",
        "hashtags = ['summer', 'time', 'vibes']\n",
        "```\n",
        "\n",
        "Using the appropriate method, combine the elements of the list with the '#' character. Also add this sign to the beginning of the text and print the result to the console as shown below.\n",
        "\n",
        "\n",
        "\n",
        "Expected result:\n",
        "\n",
        "\n",
        "```\n",
        "'#summer#time#vibes'\n",
        "```\n",
        "\n",
        "***solution:***"
      ],
      "metadata": {
        "id": "i70LZsvzGIr0"
      }
    },
    {
      "cell_type": "code",
      "source": [],
      "metadata": {
        "id": "YMrtrqM5GQnR"
      },
      "execution_count": null,
      "outputs": []
    },
    {
      "cell_type": "markdown",
      "source": [
        "# Dictionaries"
      ],
      "metadata": {
        "id": "jJfjbma9zjhX"
      }
    },
    {
      "cell_type": "markdown",
      "source": [
        "---\n",
        "###Exercise 64\n",
        "Create a dictionary from the following pairs (key, value):\n",
        "\n",
        "\n",
        "```\n",
        "'USA': 'Washington'\n",
        "'Germany': 'Berlin'\n",
        "'Austria': 'Vienna'\n",
        "```\n",
        "\n",
        "and print it to the console.\n",
        "\n",
        "\n",
        "\n",
        "**Expected result:**\n",
        "\n",
        "\n",
        "```\n",
        "{'USA': 'Washington', 'Germany': 'Berlin', 'Austria': 'Vienna'}\n",
        "```\n",
        "\n",
        "***solution:***\n"
      ],
      "metadata": {
        "id": "nrMnnVrtzo59"
      }
    },
    {
      "cell_type": "code",
      "source": [],
      "metadata": {
        "id": "ejWePgS0IZpA"
      },
      "execution_count": null,
      "outputs": []
    },
    {
      "cell_type": "markdown",
      "source": [
        "---\n",
        "###Exercise 65\n",
        "The following dictionary is given:\n",
        "\n",
        "\n",
        "```\n",
        "capitals = {\n",
        "    'USA': 'Washington',\n",
        "    'Germany': 'Berlin',\n",
        "    'Austria': 'Vienna'\n",
        "}\n",
        "```\n",
        "\n",
        "Use the appropriate method to extract all keys from the capitals dictionary and print to the console.\n",
        "\n",
        "\n",
        "\n",
        "Expected result:\n",
        "\n",
        "\n",
        "```\n",
        "dict_keys(['USA', 'Germany', 'Austria'])\n",
        "```\n",
        "\n",
        "***solution:***"
      ],
      "metadata": {
        "id": "eu_zvVbWIc2C"
      }
    },
    {
      "cell_type": "code",
      "source": [],
      "metadata": {
        "id": "l38No1EdIcM2"
      },
      "execution_count": null,
      "outputs": []
    },
    {
      "cell_type": "markdown",
      "source": [
        "---\n",
        "###Exercise 66\n",
        "The following dictionary is given:\n",
        "\n",
        "\n",
        "```\n",
        "capitals = {\n",
        "    'USA': 'Washington',\n",
        "    'Germany': 'Berlin',\n",
        "    'Austria': 'Vienna'\n",
        "}\n",
        "```\n",
        "\n",
        "Use the appropriate method to extract all values from the capitals dictionary and print to the console.\n",
        "\n",
        "**Expected result:**\n",
        "\n",
        "\n",
        "```\n",
        "dict_values(['Washington', 'Berlin', 'Vienna'])\n",
        "```\n",
        "\n",
        "***solution:***"
      ],
      "metadata": {
        "id": "XQQ1kwNTI-CF"
      }
    },
    {
      "cell_type": "code",
      "source": [],
      "metadata": {
        "id": "ZzMjdS68I9mx"
      },
      "execution_count": null,
      "outputs": []
    },
    {
      "cell_type": "markdown",
      "source": [
        "---\n",
        "###Exercise 67\n",
        "The following dictionary is given:\n",
        "\n",
        "\n",
        "```\n",
        "capitals = {\n",
        "    'USA': 'Washington',\n",
        "    'Germany': 'Berlin',\n",
        "    'Austria': 'Vienna'\n",
        "}\n",
        "```\n",
        "\n",
        "Using the appropriate method, extract the list containing tuple objects (key, value) from the capitals dictionary and print to the console as shown below.\n",
        "\n",
        "\n",
        "\n",
        "Expected result:\n",
        "\n",
        "\n",
        "```\n",
        "dict_items([('USA', 'Washington'), ('Germany', 'Berlin'), ('Austria', 'Vienna')])\n",
        "```\n",
        "***solution:***"
      ],
      "metadata": {
        "id": "pwcl6JmnJHF_"
      }
    },
    {
      "cell_type": "code",
      "source": [],
      "metadata": {
        "id": "8m0d_GrYJM63"
      },
      "execution_count": null,
      "outputs": []
    },
    {
      "cell_type": "markdown",
      "source": [
        "---\n",
        "###Exercise 68\n",
        "The following dictionary is given:\n",
        "\n",
        "\n",
        "```\n",
        "capitals = {\n",
        "    'USA': 'Washington',\n",
        "    'Germany': 'Berlin',\n",
        "    'Austria': 'Vienna'\n",
        "}\n",
        "```\n",
        "\n",
        "Using the dict.get() method, extract the value for the key `'Austria'` and print it to the console.\n",
        "\n",
        "\n",
        "\n",
        "**Expected result:**\n",
        "\n",
        "\n",
        "```\n",
        "Vienna\n",
        "```\n",
        "\n",
        "***solution:***"
      ],
      "metadata": {
        "id": "WrsrtM5lJNLl"
      }
    },
    {
      "cell_type": "code",
      "source": [],
      "metadata": {
        "id": "xT88_POFJWw_"
      },
      "execution_count": null,
      "outputs": []
    },
    {
      "cell_type": "markdown",
      "source": [
        "---\n",
        "###Exercise 69\n",
        "The following dictionary is given:\n",
        "\n",
        "\n",
        "```\n",
        "stocks = {\n",
        "    'MSFT.US': {'Microsoft Corp': 184},\n",
        "    'AAPL.US': {'Apple Inc': 310},\n",
        "    'MMM.US': {'3M Co': 148}\n",
        "}\n",
        "```\n",
        "\n",
        "Extract the value for the key `'AAPL.US'` and print it to the console.\n",
        "\n",
        "\n",
        "\n",
        "**Expected result:**\n",
        "\n",
        "\n",
        "```\n",
        "{'Apple Inc': 310}\n",
        "```\n",
        "***solution:***"
      ],
      "metadata": {
        "id": "15igfKBPJXNO"
      }
    },
    {
      "cell_type": "code",
      "source": [],
      "metadata": {
        "id": "54_A8maGJhCy"
      },
      "execution_count": null,
      "outputs": []
    },
    {
      "cell_type": "markdown",
      "source": [
        "---\n",
        "###Exercise 70\n",
        "The following dictionary is given:\n",
        "\n",
        "\n",
        "```\n",
        "stocks = {\n",
        "    'MSFT.US': {'Microsoft Corp': 184},\n",
        "    'AAPL.US': {'Apple Inc': 310},\n",
        "    'MMM.US': {'3M Co': 148}\n",
        "}\n",
        "```\n",
        "\n",
        "Get the price for Microsoft (value for the 'Microsoft Corp' key) and print it to the console.\n",
        "\n",
        "\n",
        "\n",
        "**Expected result:**\n",
        "\n",
        "\n",
        "```\n",
        "184\n",
        "```\n",
        "***solution:***"
      ],
      "metadata": {
        "id": "Hs4U-Vq-Jhih"
      }
    },
    {
      "cell_type": "code",
      "source": [],
      "metadata": {
        "id": "iGNgZw40JoV1"
      },
      "execution_count": null,
      "outputs": []
    },
    {
      "cell_type": "markdown",
      "source": [
        "---\n",
        "###Exercise 71\n",
        "The following dictionary is given:\n",
        "\n",
        "\n",
        "```\n",
        "stocks = {\n",
        "    'MSFT.US': {'Microsoft Corp': 184},\n",
        "    'AAPL.US': {'Apple Inc': 310},\n",
        "    'MMM.US': {'3M Co': 148}\n",
        "}\n",
        "```\n",
        "\n",
        "Update the price for Microsoft to 190 and print the value for the `'MSFT.US'` key to the console.\n",
        "\n",
        "\n",
        "\n",
        "**Expected result:**\n",
        "\n",
        "\n",
        "```\n",
        "{'Microsoft Corp': 190}\n",
        "```\n",
        "\n",
        "***solution:***"
      ],
      "metadata": {
        "id": "V5onphaudOHu"
      }
    },
    {
      "cell_type": "code",
      "source": [],
      "metadata": {
        "id": "C_PseDt4dgk5"
      },
      "execution_count": null,
      "outputs": []
    },
    {
      "cell_type": "markdown",
      "source": [
        "---\n",
        "###Exercise 72\n",
        "The following dictionary is given:\n",
        "\n",
        "\n",
        "```\n",
        "stocks = {\n",
        "    'MSFT.US': {'Microsoft Corp': 184},\n",
        "    'AAPL.US': {'Apple Inc': 310},\n",
        "    'MMM.US': {'3M Co': 148}\n",
        "}\n",
        "```\n",
        "\n",
        "Add a fourth pair to this dictionary with the key `'V.US'` and the value: `{'Visa Inc': 185}`. Print the values of the stocks dictionary to the console.\n",
        "\n",
        "\n",
        "\n",
        "Expected result:\n",
        "\n",
        "\n",
        "```\n",
        "dict_values([{'Microsoft Corp': 184}, {'Apple Inc': 310}, {'3M Co': 148}, {'Visa Inc': 185}])\n",
        "```"
      ],
      "metadata": {
        "id": "9SHhTZFCdg7p"
      }
    },
    {
      "cell_type": "markdown",
      "source": [
        "---\n",
        "###Exercise 73\n",
        "A list of tickers from the Dow Jones index is given:\n",
        "\n",
        "\n",
        "```\n",
        "tickers = [\n",
        "    'AAPL.US', 'AXP.US', 'BA.US', 'CAT.US',\n",
        "    'CSCO.US', 'CVX.US', 'DIS.US', 'DOW.US',\n",
        "    'GS.US', 'HD.US', 'IBM.US', 'INTC.US'\n",
        "]\n",
        "```\n",
        "\n",
        "Transform this list into a list of two-element tuple objects (index, ticker) and print it to the console.\n",
        "\n",
        "\n",
        "\n",
        "Formatted result for better view:\n",
        "\n",
        "\n",
        "```\n",
        "[(0, 'AAPL.US'),\n",
        " (1, 'AXP.US'),\n",
        " (2, 'BA.US'),\n",
        " (3, 'CAT.US'),\n",
        " (4, 'CSCO.US'),\n",
        " (5, 'CVX.US'),\n",
        " (6, 'DIS.US'),\n",
        " (7, 'DOW.US'),\n",
        " (8, 'GS.US'),\n",
        " (9, 'HD.US'),\n",
        " (10, 'IBM.US'),\n",
        " (11, 'INTC.US')]\n",
        "```\n",
        "\n",
        "Expected result:\n",
        "\n",
        "\n",
        "```\n",
        "[(0, 'AAPL.US'), (1, 'AXP.US'), (2, 'BA.US'), (3, 'CAT.US'), (4, 'CSCO.US'), (5, 'CVX.US'), (6, 'DIS.US'), (7, 'DOW.US'), (8, 'GS.US'), (9, 'HD.US'), (10, 'IBM.US'), (11, 'INTC.US')]\n",
        "```\n",
        "\n",
        "***solution:***"
      ],
      "metadata": {
        "id": "h6wji_emd5Id"
      }
    },
    {
      "cell_type": "code",
      "source": [],
      "metadata": {
        "id": "U3Z1aBhKeA2h"
      },
      "execution_count": null,
      "outputs": []
    },
    {
      "cell_type": "markdown",
      "source": [
        "---\n",
        "###Exercise 74\n",
        "A list of tickers from the Dow Jones index is given:\n",
        "\n",
        "\n",
        "```\n",
        "tickers = [\n",
        "    'AAPL.US', 'AXP.US', 'BA.US', 'CAT.US',\n",
        "    'CSCO.US', 'CVX.US', 'DIS.US', 'DOW.US',\n",
        "    'GS.US', 'HD.US', 'IBM.US', 'INTC.US'\n",
        "]\n",
        "```\n",
        "\n",
        "Transform this list into a dictionary (index, ticker) and print it to the console.\n",
        "\n",
        "\n",
        "\n",
        "Formatted result for better view:\n",
        "\n",
        "\n",
        "```\n",
        "{0: 'AAPL.US',\n",
        " 1: 'AXP.US',\n",
        " 2: 'BA.US',\n",
        " 3: 'CAT.US',\n",
        " 4: 'CSCO.US',\n",
        " 5: 'CVX.US',\n",
        " 6: 'DIS.US',\n",
        " 7: 'DOW.US',\n",
        " 8: 'GS.US',\n",
        " 9: 'HD.US',\n",
        " 10: 'IBM.US',\n",
        " 11: 'INTC.US'}\n",
        "```\n",
        "\n",
        "Expected result:\n",
        "\n",
        "\n",
        "```\n",
        "{0: 'AAPL.US', 1: 'AXP.US', 2: 'BA.US', 3: 'CAT.US', 4: 'CSCO.US', 5: 'CVX.US', 6: 'DIS.US', 7: 'DOW.US', 8: 'GS.US', 9: 'HD.US', 10: 'IBM.US', 11: 'INTC.US'}\n",
        "```\n",
        "***solution:***"
      ],
      "metadata": {
        "id": "vwCBJH1meUlm"
      }
    },
    {
      "cell_type": "code",
      "source": [],
      "metadata": {
        "id": "X7rWCn5peb_s"
      },
      "execution_count": null,
      "outputs": []
    },
    {
      "cell_type": "markdown",
      "source": [
        "---\n",
        "###Exercise 75\n",
        "The following dictionary is given:\n",
        "\n",
        "\n",
        "```\n",
        "project_ids = {\n",
        "    '01': 'open', \n",
        "    '03': 'in progress',\n",
        "    '05': 'in progress',\n",
        "    '04': 'completed'\n",
        "}\n",
        "```\n",
        "\n",
        "Extract a list of unique values (sorted alphabetically) from the project_ids dictionary and print it to the console.\n",
        "\n",
        "\n",
        "\n",
        "Expected result:\n",
        "\n",
        "\n",
        "```\n",
        "['completed', 'in progress', 'open']\n",
        "```\n",
        "***solution:***\n"
      ],
      "metadata": {
        "id": "cVKWBb02eeRY"
      }
    },
    {
      "cell_type": "code",
      "source": [],
      "metadata": {
        "id": "RTp7Y-isenLL"
      },
      "execution_count": null,
      "outputs": []
    },
    {
      "cell_type": "markdown",
      "source": [
        "---\n",
        "###Exercise 76\n",
        "The following dictionary is given:\n",
        "\n",
        "\n",
        "```\n",
        "stats = {'site': 'e-smartdata.org', 'traffic': 100, 'type': 'organic'}\n",
        "\n",
        "```\n",
        "Delete the 'traffic' key pair from this dictionary and print it to the console.\n",
        "\n",
        "\n",
        "\n",
        "Expected result:\n",
        "\n",
        "\n",
        "```\n",
        "{'site': 'e-smartdata.org', 'type': 'organic'}\n",
        "```\n",
        "***solution:***"
      ],
      "metadata": {
        "id": "JBCCJ8B0enb4"
      }
    },
    {
      "cell_type": "code",
      "source": [],
      "metadata": {
        "id": "mOnID7KZev4g"
      },
      "execution_count": null,
      "outputs": []
    },
    {
      "cell_type": "markdown",
      "source": [
        "---\n",
        "###Exercise 77\n",
        "The following dictionary is given:\n",
        "\n",
        "\n",
        "```\n",
        "users = {'001': 'Mark', '002': 'Monica', '003': 'Jacob'}\n",
        "```\n",
        "\n",
        "Try to print value for `key '004'`.\n",
        "\n",
        "\n",
        "\n",
        "In this exercise use the `dict.get())`. When the key is not in the dictionary set default value to the string 'indefinite'.\n",
        "\n",
        "\n",
        "\n",
        "Expected result:\n",
        "\n",
        "\n",
        "```\n",
        "'indefinite'\n",
        "```\n",
        "***solution:***"
      ],
      "metadata": {
        "id": "IVPgbTVwewKG"
      }
    },
    {
      "cell_type": "code",
      "source": [],
      "metadata": {
        "id": "tKGajtuge_w9"
      },
      "execution_count": null,
      "outputs": []
    }
  ]
}