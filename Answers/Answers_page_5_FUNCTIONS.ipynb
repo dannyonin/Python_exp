{
  "nbformat": 4,
  "nbformat_minor": 0,
  "metadata": {
    "colab": {
      "provenance": [],
      "collapsed_sections": [],
      "authorship_tag": "ABX9TyO+OjJ7l9u9CEAA8Rj/0My4"
    },
    "kernelspec": {
      "name": "python3",
      "display_name": "Python 3"
    },
    "language_info": {
      "name": "python"
    }
  },
  "cells": [
    {
      "cell_type": "markdown",
      "source": [
        "#Intro 📓 📃 #5\n",
        "##Welcome to the FUNCTIONS section! 🛸 🥠"
      ],
      "metadata": {
        "id": "tL8LkuB3q6Ba"
      }
    },
    {
      "cell_type": "markdown",
      "source": [
        "---\n",
        "## Built-in functions"
      ],
      "metadata": {
        "id": "Q4pA2sIArISu"
      }
    },
    {
      "cell_type": "markdown",
      "source": [
        "---\n",
        "###Exercise 118\n",
        "The variable x:\n",
        "\n",
        "\n",
        "```\n",
        "x = -1.5\n",
        "```\n",
        "\n",
        "and the following expression are given:\n",
        "\n",
        "\n",
        "```\n",
        "expression = 'x**2 + x'\n",
        "```\n",
        "\n",
        "Using the appropriate function, calculate the value of this expression and print the result to the console.\n",
        "\n",
        "\n",
        "\n",
        "Tip: Use the `eval()` function.\n",
        "\n",
        "\n",
        "\n",
        "Expected result:\n",
        "\n",
        "\n",
        "```\n",
        "0.75\n",
        "```\n",
        "***solution:***"
      ],
      "metadata": {
        "id": "cekYjH6yrOQ9"
      }
    },
    {
      "cell_type": "code",
      "execution_count": null,
      "metadata": {
        "id": "7ePagARRqx6p"
      },
      "outputs": [],
      "source": []
    },
    {
      "cell_type": "markdown",
      "source": [
        "---\n",
        "### Exercise 119\n",
        "The following variables are given:\n",
        "\n",
        "\n",
        "```\n",
        "var1 = 'Python'\n",
        "var2 = ('Python')\n",
        "var3 = ('Python',)\n",
        "var4 = ['Python']\n",
        "var5 = {'Python'}\n",
        "```\n",
        "\n",
        "Using the appropriate function, check if the variables are instances of tuple class. Print the result to the console as shown below.\n",
        "\n",
        "\n",
        "\n",
        "Tip: Use the `isinstance()` built-in function.\n",
        "\n",
        "\n",
        "\n",
        "Expected result:\n",
        "\n",
        "\n",
        "```\n",
        "False\n",
        "False\n",
        "True\n",
        "False\n",
        "False\n",
        "```\n",
        "\n",
        "***solution:***"
      ],
      "metadata": {
        "id": "igXGVmxbraf0"
      }
    },
    {
      "cell_type": "code",
      "source": [],
      "metadata": {
        "id": "TQiH3Y6KrYk2"
      },
      "execution_count": null,
      "outputs": []
    },
    {
      "cell_type": "markdown",
      "source": [
        "---\n",
        "###Exercise 120\n",
        "The following list is given:\n",
        "\n",
        "\n",
        "```\n",
        "characters = ['k', 'b', 'c', 'j', 'z', 'w']\n",
        "```\n",
        "\n",
        "Using the built-in functions, return the first and the last letter in alphabetical order from this list and print the result to the console as shown below.\n",
        "\n",
        "\n",
        "\n",
        "Tip: Use the `min()` and `max()` functions.\n",
        "\n",
        "Expected result:\n",
        "\n",
        "\n",
        "```\n",
        "First: b\n",
        "Last: z\n",
        "```\n",
        "***solution:***"
      ],
      "metadata": {
        "id": "DAVJGiAprZBq"
      }
    },
    {
      "cell_type": "code",
      "source": [],
      "metadata": {
        "id": "ehz3Lc4icq8C"
      },
      "execution_count": null,
      "outputs": []
    },
    {
      "cell_type": "markdown",
      "source": [
        "---\n",
        "### Exercise 121\n",
        "Two tuples are given:\n",
        "\n",
        "\n",
        "```\n",
        "ticker = ('TEN', 'PLW', 'CDR')\n",
        "full_name = ('Ten Square Games', 'Playway', 'CD Projekt')\n",
        "```\n",
        "\n",
        "Using the appropriate built-in function, create a list consisting of tuples (ticker, full_name) and print the result to the console as shown below.\n",
        "\n",
        "\n",
        "\n",
        "Tip: Use the `zip() `function.\n",
        "\n",
        "\n",
        "\n",
        "Expected result:\n",
        "\n",
        "\n",
        "```\n",
        "[('TEN', 'Ten Square Games'), ('PLW', 'Playway'), ('CDR', 'CD Projekt')]\n",
        "```\n",
        "***solution:***"
      ],
      "metadata": {
        "id": "BrIFC9eYcrj3"
      }
    },
    {
      "cell_type": "code",
      "source": [],
      "metadata": {
        "id": "_f8CoDnEc25u"
      },
      "execution_count": null,
      "outputs": []
    },
    {
      "cell_type": "markdown",
      "source": [
        "---\n",
        "### Exercise 122\n",
        "Using the appropriate built-in function, verify if all elements of the following tuple return the logical value True:\n",
        "\n",
        "\n",
        "```\n",
        "items = (' ', '0', 0.1, True)\n",
        "```\n",
        "\n",
        "Print the result to the console.\n",
        "\n",
        "\n",
        "\n",
        "Expected result:\n",
        "\n",
        "\n",
        "```\n",
        "True\n",
        "```\n",
        "***solution:***"
      ],
      "metadata": {
        "id": "hSLyXXegc3Jf"
      }
    },
    {
      "cell_type": "code",
      "source": [],
      "metadata": {
        "id": "OMLAXxhpc-A-"
      },
      "execution_count": null,
      "outputs": []
    },
    {
      "cell_type": "markdown",
      "source": [
        "---\n",
        "###Exercise 123\n",
        "Using the appropriate built-in function, verify if any element of the following tuple returns the boolean value True:\n",
        "\n",
        "\n",
        "```\n",
        "items = ('', 0.0, 0, False)\n",
        "```\n",
        "\n",
        "Print the result to the console.\n",
        "\n",
        "\n",
        "\n",
        "Expected result:\n",
        "\n",
        "\n",
        "```\n",
        "False\n",
        "```"
      ],
      "metadata": {
        "id": "7XXtdJeoc-Yx"
      }
    },
    {
      "cell_type": "code",
      "source": [],
      "metadata": {
        "id": "9skgf-WzdVB5"
      },
      "execution_count": null,
      "outputs": []
    },
    {
      "cell_type": "markdown",
      "source": [
        "---\n",
        "###Exercise 124\n",
        "Count the number of ones in the binary representation of number:\n",
        "\n",
        "\n",
        "```\n",
        "number = 234\n",
        "```\n",
        "\n",
        "Print the result to the console.\n",
        "\n",
        "\n",
        "\n",
        "Tip: Use the `bin()` built-in function.\n",
        "\n",
        "\n",
        "\n",
        "Expected result:\n",
        "\n",
        "\n",
        "`\n",
        "5\n",
        "`"
      ],
      "metadata": {
        "id": "hoLdZFytdVe5"
      }
    },
    {
      "cell_type": "markdown",
      "source": [
        "---\n",
        "## Defining your own functions"
      ],
      "metadata": {
        "id": "5Po-Mjwpdj-j"
      }
    },
    {
      "cell_type": "markdown",
      "source": [
        "---\n",
        "### Exercise 125\n",
        "Implement a function called `maximum()` that returns the maximum of two numbers. Use conditional statement.\n",
        "\n",
        "\n",
        "\n",
        "Example:\n",
        "\n",
        "```\n",
        "[IN]: maximum(4, 2)\n",
        "[OUT]: 4\n",
        "\n",
        "\n",
        "[IN]: maximum(-4, 2)\n",
        "[OUT]: 2\n",
        "```\n",
        "\n",
        "Note! You only need to define the function.\n",
        "\n",
        "***solution:***"
      ],
      "metadata": {
        "id": "x75zDWMiduP1"
      }
    },
    {
      "cell_type": "code",
      "source": [],
      "metadata": {
        "id": "w05Ss3m1d7UE"
      },
      "execution_count": null,
      "outputs": []
    },
    {
      "cell_type": "markdown",
      "source": [
        "---\n",
        "###Exercise 126\n",
        "Implement a function called `maximum()` that returns the maximum of three numbers. Use conditional statement.\n",
        "\n",
        "\n",
        "\n",
        "Example:\n",
        "\n",
        "\n",
        "```\n",
        "[IN]: maximum(4, 2, 1)\n",
        "[OUT]: 4\n",
        "\n",
        "\n",
        "[IN]: maximum(-3, 2, 5)\n",
        "[OUT]: 5\n",
        "```\n",
        "\n",
        "Note! You only need to define the function.\n",
        "\n",
        "***solution:***"
      ],
      "metadata": {
        "id": "bIMOnpCpd7ov"
      }
    },
    {
      "cell_type": "code",
      "source": [],
      "metadata": {
        "id": "vipLZsCXeIob"
      },
      "execution_count": null,
      "outputs": []
    },
    {
      "cell_type": "markdown",
      "source": [
        "---\n",
        "### Exercise 127\n",
        "Implement a function called `multi()`, which accepts an iterable object (list, tuple) as an argument and returns the product of all elements of this iterable object.\n",
        "\n",
        "\n",
        "\n",
        "Example:\n",
        "\n",
        "\n",
        "```\n",
        "[IN]: multi((-4, 6, 2))\n",
        "[OUT]: -48\n",
        "\n",
        "\n",
        "[IN]: multi([4, 2, -5])\n",
        "[OUT]: -40\n",
        "```\n",
        "\n",
        "Note! You only need to define the function.\n",
        "\n",
        "***solution:***"
      ],
      "metadata": {
        "id": "HcJDFmsxeI7m"
      }
    },
    {
      "cell_type": "code",
      "source": [],
      "metadata": {
        "id": "-yoK0nWUeU7K"
      },
      "execution_count": null,
      "outputs": []
    },
    {
      "cell_type": "markdown",
      "source": [
        "---\n",
        "### Exercise 128\n",
        "Implement a function `map_longest()` that accepts the list of words and return the length of the longest word in this list.\n",
        "\n",
        "\n",
        "\n",
        "Example:\n",
        "\n",
        "\n",
        "```\n",
        "[IN]: map_longest(['python', 'sql'])\n",
        "[OUT]: 6\n",
        "\n",
        "\n",
        "[IN]: map_longest(['java', 'sql', 'r'])\n",
        "[OUT]: 4\n",
        "```\n",
        "\n",
        "Note! You only need to define the function. \n",
        "\n",
        "***solution:***"
      ],
      "metadata": {
        "id": "CJJ1H1hgeVQ_"
      }
    },
    {
      "cell_type": "code",
      "source": [],
      "metadata": {
        "id": "duQOL3JPeesi"
      },
      "execution_count": null,
      "outputs": []
    },
    {
      "cell_type": "markdown",
      "source": [
        "---\n",
        "### Exercise 129\n",
        "Implement a function called `filter_ge_6()` that takes a list of words and returns list of words with the length greater than or equal to 6 characters.\n",
        "\n",
        "\n",
        "\n",
        "Example:\n",
        "\n",
        "\n",
        "```\n",
        "[IN]: filter_ge_6(['programming', 'python', 'java', 'sql'])\n",
        "[OUT]: ['programming', 'python']\n",
        "\n",
        "\n",
        "[IN]: filter_ge_6(['java', 'sql'])\n",
        "[OUT]: []\n",
        "```\n",
        "\n",
        "Note! You only need to define the function. \n",
        "\n",
        "***solution:***"
      ],
      "metadata": {
        "id": "pdF4seoQee77"
      }
    },
    {
      "cell_type": "code",
      "source": [],
      "metadata": {
        "id": "T6pip0y4en4m"
      },
      "execution_count": null,
      "outputs": []
    },
    {
      "cell_type": "markdown",
      "source": [
        "---\n",
        "### Exercise 130\n",
        "Implement a function `called factorial()` that calculates the factorial for a given number.\n",
        "\n",
        "\n",
        "\n",
        "Example:\n",
        "\n",
        "\n",
        "```\n",
        "[IN]: factorial(6)\n",
        "[OUT]: 720\n",
        "\n",
        "\n",
        "[IN]: factorial(10)\n",
        "[OUT]: 3628800\n",
        "```\n",
        "\n",
        "Note! You only need to define the function.\n",
        "\n",
        "***solution:***"
      ],
      "metadata": {
        "id": "rta5kwijeoJn"
      }
    },
    {
      "cell_type": "code",
      "source": [],
      "metadata": {
        "id": "8XG4V7Mtex_Q"
      },
      "execution_count": null,
      "outputs": []
    },
    {
      "cell_type": "markdown",
      "source": [
        "---\n",
        "### Exercise 131\n",
        "Implement a function `count_str()`, which returns the number of str objects in an iterable object (list, tuple, set).\n",
        "\n",
        "\n",
        "\n",
        "Example:\n",
        "\n",
        "\n",
        "```\n",
        "[IN]: count_str(['p', 2, 4.3, None])\n",
        "[OUT]: 1\n",
        "\n",
        "\n",
        "[IN]: count_str({'p', 2, 4.3, True, 'True', None})\n",
        "[OUT]: 2\n",
        "```\n",
        "\n",
        "Note! You only need to define the function.\n",
        "\n",
        "***solution:***"
      ],
      "metadata": {
        "id": "DznCzJFueyNO"
      }
    },
    {
      "cell_type": "code",
      "source": [],
      "metadata": {
        "id": "XPXN5kzkgoM6"
      },
      "execution_count": null,
      "outputs": []
    },
    {
      "cell_type": "markdown",
      "source": [
        "---\n",
        "### Exercise 132\n",
        "Implement a function `count_str()`, which returns the number of str objects with a length more than 2 characters from an iterable object (list, tuple, set).\n",
        "\n",
        "\n",
        "\n",
        "Example:\n",
        "\n",
        "\n",
        "```\n",
        "[IN]: count_str([1, '#hello', '', 'python', 'go'])\n",
        "[OUT]: 2\n",
        "\n",
        "\n",
        "[IN]: count_str([1, 2, 3, 'python'])\n",
        "[OUT]: 1\n",
        "```\n",
        "\n",
        "Note! You only need to define the function.\n",
        "\n",
        "***solution:***"
      ],
      "metadata": {
        "id": "tRNqFTVsgomC"
      }
    },
    {
      "cell_type": "code",
      "source": [],
      "metadata": {
        "id": "Rit1sxNBgwlk"
      },
      "execution_count": null,
      "outputs": []
    },
    {
      "cell_type": "markdown",
      "source": [
        "---\n",
        "### Exercise 133\n",
        "Implement a function `remove_duplicates()` that removes duplicates from the list (the order of the items in the list does not have to be kept).\n",
        "\n",
        "\n",
        "\n",
        "Example:\n",
        "```\n",
        "[IN]: remove_duplicates([1, 5, 3, 2, 2, 4, 2, 4])\n",
        "[OUT]: [1, 2, 3, 4, 5]\n",
        "\n",
        "\n",
        "[IN]: remove_duplicates([1, 1, 1, 1])\n",
        "[OUT]: [1]\n",
        "```\n",
        "\n",
        "Note! You only need to define the function. \n",
        "\n",
        "***solution:***"
      ],
      "metadata": {
        "id": "CywEz_H0gw1T"
      }
    },
    {
      "cell_type": "code",
      "source": [],
      "metadata": {
        "id": "xSujqgJLhA6C"
      },
      "execution_count": null,
      "outputs": []
    },
    {
      "cell_type": "markdown",
      "source": [
        "---\n",
        "### Exercise 134\n",
        "Implement a function `is_distinct()` to check if the list contains unique values.\n",
        "\n",
        "\n",
        "\n",
        "Example:\n",
        "\n",
        "\n",
        "```\n",
        "[IN]: is_distinct([1, 2, 3])\n",
        "[OUT]: True\n",
        "\n",
        "\n",
        "[IN]: is_distinct([1, 2, 3, 3])\n",
        "[OUT]: False\n",
        "```\n",
        "\n",
        "Note! You only need to define the function.\n",
        "\n",
        "***solution:***\n",
        "\n"
      ],
      "metadata": {
        "id": "A-N8qDmyhBFO"
      }
    },
    {
      "cell_type": "code",
      "source": [],
      "metadata": {
        "id": "H75cgoswhKHP"
      },
      "execution_count": null,
      "outputs": []
    },
    {
      "cell_type": "markdown",
      "source": [
        "---\n",
        "### Exercise 135\n",
        "The following function is defined:\n",
        "\n",
        "\n",
        "```\n",
        "def function(idx, l=[]):\n",
        "    for i in range(idx):\n",
        "        l.append(i ** 3)\n",
        "    print(l)\n",
        "```\n",
        "\n",
        "Call the function three times as follows:\n",
        "\n",
        "\n",
        "```\n",
        "function(3)\n",
        "function(5, ['a', 'b', 'c'])\n",
        "function(6)\n",
        "```\n",
        "\n",
        "Analyze the results!\n",
        "\n",
        "\n",
        "\n",
        "Expected result:\n",
        "\n",
        "\n",
        "```\n",
        "[0, 1, 8]\n",
        "['a', 'b', 'c', 0, 1, 8, 27, 64]\n",
        "[0, 1, 8, 0, 1, 8, 27, 64, 125]\n",
        "```\n",
        "***solution:***"
      ],
      "metadata": {
        "id": "rd_GS0inhKWE"
      }
    },
    {
      "cell_type": "code",
      "source": [],
      "metadata": {
        "id": "4DrTH8vrhVhi"
      },
      "execution_count": null,
      "outputs": []
    },
    {
      "cell_type": "markdown",
      "source": [
        "---\n",
        "### Exercise 136\n",
        "The following function is given:\n",
        "\n",
        "\n",
        "```\n",
        "def function(*args, **kwargs):\n",
        "    print(args, kwargs)\n",
        "```\n",
        "\n",
        "Call the function in the order given:\n",
        "\n",
        "\n",
        "```\n",
        "function(3, 4)\n",
        "function(x=3, y=4)\n",
        "function(1, 2, x=3, y=4)\n",
        "```\n",
        "\n",
        "Analyze the result!\n",
        "\n",
        "\n",
        "\n",
        "Expected result:\n",
        "\n",
        "\n",
        "```\n",
        "(3, 4) {}\n",
        "() {'x': 3, 'y': 4}\n",
        "(1, 2) {'x': 3, 'y': 4}\n",
        "```"
      ],
      "metadata": {
        "id": "O8rwnf4fhWDd"
      }
    },
    {
      "cell_type": "code",
      "source": [],
      "metadata": {
        "id": "vdRYNS9OhbSR"
      },
      "execution_count": null,
      "outputs": []
    },
    {
      "cell_type": "markdown",
      "source": [
        "---\n",
        "### Exercise 137\n",
        "Implement the function `is_palindrome()`, which takes as an argument str object and checks if this object is a palindrome (expression that sounds the same from left to right and from right to left).\n",
        "\n",
        "If so, the function should return True, on the contrary False.\n",
        "\n",
        "\n",
        "\n",
        "Example:\n",
        "\n",
        "\n",
        "```\n",
        "[IN]: is_palindrome('level')\n",
        "[OUT]: True\n",
        "\n",
        "\n",
        "[IN]: is_palindrome('python')\n",
        "[OUT]: False\n",
        "```\n",
        "\n",
        "Note! You only need to define the function.\n",
        "\n",
        "***solution:***"
      ],
      "metadata": {
        "id": "BD8mR39ThbjJ"
      }
    },
    {
      "cell_type": "code",
      "source": [],
      "metadata": {
        "id": "uFTxq4athmQF"
      },
      "execution_count": null,
      "outputs": []
    },
    {
      "cell_type": "markdown",
      "source": [
        "---\n",
        "## Lambda expression"
      ],
      "metadata": {
        "id": "XRwb5gBrhmkF"
      }
    },
    {
      "cell_type": "markdown",
      "source": [
        "---\n",
        "## Exercise 138\n",
        "The following list of words is given:\n",
        "\n",
        "\n",
        "```\n",
        "stocks = ['playway', 'boombit', 'cd projekt']\n",
        "```\n",
        "\n",
        "Using the map() function and the lambda expression, transform the given list into a list containing the lengths of each word and print it to the console.\n",
        "\n",
        "\n",
        "\n",
        "Expected result:\n",
        "\n",
        "\n",
        "```\n",
        "[7, 7, 10]\n",
        "```\n",
        "***solution:***\n"
      ],
      "metadata": {
        "id": "5QjUW1xohrGc"
      }
    },
    {
      "cell_type": "code",
      "source": [],
      "metadata": {
        "id": "sguyV9fkh1g3"
      },
      "execution_count": null,
      "outputs": []
    },
    {
      "cell_type": "markdown",
      "source": [
        "---\n",
        "### Exercise 139\n",
        "Implement the `sort_list()` function that sorts a list of two-element tuple objects according to the second element of the tuple.\n",
        "\n",
        "\n",
        "\n",
        "Example:\n",
        "\n",
        "\n",
        "```\n",
        "[IN]: sort_list([(1, 3), (4, 1), (4, 2), (0, 7)])\n",
        "[OUT]: [(4, 1), (4, 2), (1, 3), (0, 7)]\n",
        "\n",
        "\n",
        "[IN]: sort_list([('a', 'b'), ('g', 'a'), ('z', 'd')])\n",
        "[OUT]: [('g', 'a'), ('a', 'b'), ('z', 'd')]\n",
        "```\n",
        "\n",
        "Tip: Use the `sorted()` function.\n",
        "\n",
        "\n",
        "\n",
        "Note! You only need to define the function.\n",
        "\n",
        "***solution:***"
      ],
      "metadata": {
        "id": "wbRUb_nNh11R"
      }
    },
    {
      "cell_type": "code",
      "source": [],
      "metadata": {
        "id": "0YWGsAWAh-3H"
      },
      "execution_count": null,
      "outputs": []
    },
    {
      "cell_type": "markdown",
      "source": [
        "---\n",
        "### Exercise 140\n",
        "The `func_1()` function is defined below:\n",
        "\n",
        "\n",
        "```\n",
        "def func_1(x, y):\n",
        "    return x + y + 2\n",
        "```\n",
        "\n",
        "Using the lambda expression, define an analogous function and assign it to the variable func_2.\n",
        "\n",
        "***solution:***\n"
      ],
      "metadata": {
        "id": "mb0kWnDyh_Ju"
      }
    },
    {
      "cell_type": "code",
      "source": [],
      "metadata": {
        "id": "MvwpnLusiFwH"
      },
      "execution_count": null,
      "outputs": []
    },
    {
      "cell_type": "markdown",
      "source": [
        "---\n",
        "### Exercise 141\n",
        "The following list is given:\n",
        "\n",
        "\n",
        "```\n",
        "items = [(3, 4), (2, 5), (1, 4), (6, 1)]\n",
        "```\n",
        "\n",
        "Sort the list by the growing sum of squares of numbers in each tuple. Use the sort() method and the lambda expression and print sorted list to the console.\n",
        "\n",
        "\n",
        "\n",
        "Expected result:\n",
        "\n",
        "\n",
        "```\n",
        "[(1, 4), (3, 4), (2, 5), (6, 1)]\n",
        "```\n",
        "***solution:***"
      ],
      "metadata": {
        "id": "eljjBNCCiGAI"
      }
    },
    {
      "cell_type": "code",
      "source": [],
      "metadata": {
        "id": "JDj3lk1_iOAO"
      },
      "execution_count": null,
      "outputs": []
    },
    {
      "cell_type": "markdown",
      "source": [
        "---\n",
        "### Exercise 142\n",
        "Sort the given list of dictionaries by price key:\n",
        "\n",
        "\n",
        "```\n",
        "stocks = [\n",
        "    {'index': 'mWIG40', 'name': 'TEN', 'price': 304},\n",
        "    {'index': 'mWIG40', 'name': 'PLW', 'price': 309},\n",
        "    {'index': 'sWIG80', 'name': 'BBT', 'price': 22}\n",
        "]\n",
        "```\n",
        "\n",
        "Print sorted list to the console.\n",
        "\n",
        "***solution:***"
      ],
      "metadata": {
        "id": "RlcIe07NiQ1n"
      }
    },
    {
      "cell_type": "code",
      "source": [],
      "metadata": {
        "id": "OzyM9frmiV5Z"
      },
      "execution_count": null,
      "outputs": []
    },
    {
      "cell_type": "markdown",
      "source": [
        "---\n",
        "### Exercise 143\n",
        "The following list is given:\n",
        "\n",
        "\n",
        "```\n",
        "stocks = [\n",
        "    {'index': 'mWIG40', 'name': 'TEN', 'price': 304},\n",
        "    {'index': 'mWIG40', 'name': 'PLW', 'price': 309},\n",
        "    {'index': 'sWIG80', 'name': 'BBT', 'price': 22}\n",
        "]\n",
        "```\n",
        "\n",
        "Extract companies from the `'mWIG40'` index and print the result to the console.\n",
        "\n",
        "\n",
        "\n",
        "Formatted result:\n",
        "\n",
        "\n",
        "```\n",
        "[{'index': 'mWIG40', 'name': 'TEN', 'price': 304},\n",
        " {'index': 'mWIG40', 'name': 'PLW', 'price': 309}]\n",
        "```\n",
        "\n",
        "Expected result:\n",
        "\n",
        "\n",
        "```\n",
        "[{'index': 'mWIG40', 'name': 'TEN', 'price': 304}, {'index': 'mWIG40', 'name': 'PLW', 'price': 309}]\n",
        "```\n",
        "***solution:***\n"
      ],
      "metadata": {
        "id": "2EYYhH8MiWUo"
      }
    },
    {
      "cell_type": "code",
      "source": [],
      "metadata": {
        "id": "ujOPAzBVih6Q"
      },
      "execution_count": null,
      "outputs": []
    },
    {
      "cell_type": "markdown",
      "source": [
        "---\n",
        "### Exercise 144\n",
        "The following list is given:\n",
        "\n",
        "\n",
        "```\n",
        "stocks = [\n",
        "    {'index': 'mWIG40', 'name': 'TEN', 'price': 304},\n",
        "    {'index': 'mWIG40', 'name': 'PLW', 'price': 309},\n",
        "    {'index': 'sWIG80', 'name': 'BBT', 'price': 22}\n",
        "]\n",
        "```\n",
        "\n",
        "Convert the list to a list of boolean values (True, False). True if the company belongs to the `'mWIG40'` index, False on the contrary and print the result to the console.\n",
        "\n",
        "\n",
        "\n",
        "Tip: Use the `map()` function.\n",
        "\n",
        "\n",
        "\n",
        "Expected result:\n",
        "\n",
        "\n",
        "```\n",
        "[True, True, False]\n",
        "```\n",
        "***solution:***\n"
      ],
      "metadata": {
        "id": "5AXcXW5fiiSv"
      }
    },
    {
      "cell_type": "code",
      "source": [],
      "metadata": {
        "id": "evumlC1NirQW"
      },
      "execution_count": null,
      "outputs": []
    },
    {
      "cell_type": "markdown",
      "source": [
        "---\n",
        "### Exercise 145\n",
        "The following list is given:\n",
        "\n",
        "\n",
        "```\n",
        "items = ['P-1', 'R-2', 'D-4', 'F-6']\n",
        "```\n",
        "\n",
        "Using the `map() `function and the lambda expression, get rid of the `'-'` (dash) from each element and print items list on the console.\n",
        "\n",
        "\n",
        "\n",
        "Expected result:\n",
        "\n",
        "\n",
        "```\n",
        "['P1', 'R2', 'D4', 'F6']\n",
        "```\n",
        "***solution:***"
      ],
      "metadata": {
        "id": "65O35oPwirfk"
      }
    },
    {
      "cell_type": "code",
      "source": [],
      "metadata": {
        "id": "fnGNhqpCi3RZ"
      },
      "execution_count": null,
      "outputs": []
    },
    {
      "cell_type": "markdown",
      "source": [
        "---\n",
        "### Exercise 146\n",
        "Two lists are given:\n",
        "\n",
        "\n",
        "```\n",
        "num1 = [4, 2, 6, 2, 11]\n",
        "num2 = [5, 2, 3, 3, 9]\n",
        "```\n",
        "\n",
        "Using the `map()` function and lambda expression, create a list containing the remainders of dividing the first list by the second (elementwise).\n",
        "\n",
        "\n",
        "\n",
        "\n",
        "\n",
        "Expected result:\n",
        "\n",
        "\n",
        "```\n",
        "[4, 0, 0, 2, 2]\n",
        "```\n",
        "***solution:***"
      ],
      "metadata": {
        "id": "_6DpevASi3gS"
      }
    },
    {
      "cell_type": "code",
      "source": [],
      "metadata": {
        "id": "qd9vulwbjAuO"
      },
      "execution_count": null,
      "outputs": []
    },
    {
      "cell_type": "markdown",
      "source": [
        "---\n",
        "## Generators"
      ],
      "metadata": {
        "id": "ddEEhteajBBK"
      }
    },
    {
      "cell_type": "markdown",
      "source": [
        "--- \n",
        "### Exercise 147\n",
        "Implement a generator named `file_gen()`, which selects only those names of files with the `'.txt'` extension from the list.\n",
        "\n",
        "\n",
        "\n",
        "Example:\n",
        "\n",
        "\n",
        "```\n",
        "[IN]: fnames = ['data1.txt', 'data2.txt', 'data3.txt', 'view.jpg']\n",
        "[IN]: list(file_gen(fnames))\n",
        "[OUT]: ['data1.txt', 'data2.txt', 'data3.txt']\n",
        "```\n",
        "\n",
        "Note! All you have to do is define a generator. \n",
        "\n",
        "***solution:***"
      ],
      "metadata": {
        "id": "-dF3xrVxjGel"
      }
    },
    {
      "cell_type": "code",
      "source": [],
      "metadata": {
        "id": "xd_7TjhIjOZX"
      },
      "execution_count": null,
      "outputs": []
    },
    {
      "cell_type": "markdown",
      "source": [
        "---\n",
        "### Exercise 148\n",
        "Implement a generator called `enum()` that works just like the `enumerate()` built-in function.\n",
        "\n",
        "For simplicity, the function gets an iterable object and returns a tuple (index, element).\n",
        "\n",
        "\n",
        "\n",
        "Example:\n",
        "\n",
        "\n",
        "```\n",
        "[IN]: list(enum(['TEN', 'CDR', 'BBT']))\n",
        "[OUT]: [(0, 'TEN'), (1, 'CDR'), (2, 'BBT')]\n",
        "```\n",
        "\n",
        "Note! All you have to do is define a generator.\n",
        "\n",
        "***solution:***"
      ],
      "metadata": {
        "id": "fy5p2CPtjOk9"
      }
    },
    {
      "cell_type": "code",
      "source": [],
      "metadata": {
        "id": "ieLFMY7DjYBh"
      },
      "execution_count": null,
      "outputs": []
    },
    {
      "cell_type": "markdown",
      "source": [
        "---\n",
        "### Exercise 149\n",
        "Implement a generator named `dayname()` that accepts the index of the element from the following list:\n",
        "\n",
        "\n",
        "```\n",
        "days = ['Mon', 'Tue', 'Wed', 'Thu', 'Fri', 'Sat', 'Sun']\n",
        "```\n",
        "\n",
        "and allows us to iterate over 3 days (previous day, present day, next day).\n",
        "\n",
        "\n",
        "\n",
        "Example:\n",
        "\n",
        "\n",
        "```\n",
        "[IN]:\n",
        "\n",
        "for pair in dayname(0):\n",
        "    print(pair)\n",
        "\n",
        "\n",
        "[OUT]:\n",
        "\n",
        "Sun\n",
        "Mon\n",
        "Tue\n",
        "```\n",
        "\n",
        "Note! All you have to do is define a generator. \n",
        "\n",
        "***solution:***\n",
        "\n"
      ],
      "metadata": {
        "id": "BMtXkk3rjYSi"
      }
    },
    {
      "cell_type": "code",
      "source": [],
      "metadata": {
        "id": "Br0K26qwjhXD"
      },
      "execution_count": null,
      "outputs": []
    }
  ]
}