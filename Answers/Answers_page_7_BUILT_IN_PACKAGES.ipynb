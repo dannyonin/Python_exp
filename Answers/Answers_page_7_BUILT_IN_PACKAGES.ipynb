{
  "nbformat": 4,
  "nbformat_minor": 0,
  "metadata": {
    "colab": {
      "provenance": [],
      "collapsed_sections": [],
      "authorship_tag": "ABX9TyOnE8K9m1cNjsFWFf7X5vuS"
    },
    "kernelspec": {
      "name": "python3",
      "display_name": "Python 3"
    },
    "language_info": {
      "name": "python"
    }
  },
  "cells": [
    {
      "cell_type": "markdown",
      "source": [
        "# Intro\n",
        "## Welcome to the BUILT-IN PACKAGES section!"
      ],
      "metadata": {
        "id": "gxFg98wVXyLh"
      }
    },
    {
      "cell_type": "markdown",
      "source": [
        "---\n",
        "##Built-in packages\n"
      ],
      "metadata": {
        "id": "Vp43lHjMX_If"
      }
    },
    {
      "cell_type": "markdown",
      "source": [
        "---\n",
        "###Exercise 170\n",
        "Print the calendar for 2023 to the console using the calendar built-in module.\n",
        "\n",
        "\n",
        "\n",
        "Expected result:\n",
        "```\n",
        "                                  2023\n",
        " \n",
        "      January                   February                   March\n",
        "Mo Tu We Th Fr Sa Su      Mo Tu We Th Fr Sa Su      Mo Tu We Th Fr Sa Su\n",
        "                   1             1  2  3  4  5             1  2  3  4  5\n",
        " 2  3  4  5  6  7  8       6  7  8  9 10 11 12       6  7  8  9 10 11 12\n",
        " 9 10 11 12 13 14 15      13 14 15 16 17 18 19      13 14 15 16 17 18 19\n",
        "16 17 18 19 20 21 22      20 21 22 23 24 25 26      20 21 22 23 24 25 26\n",
        "23 24 25 26 27 28 29      27 28                     27 28 29 30 31\n",
        "30 31\n",
        " \n",
        "       April                      May                       June\n",
        "Mo Tu We Th Fr Sa Su      Mo Tu We Th Fr Sa Su      Mo Tu We Th Fr Sa Su\n",
        "                1  2       1  2  3  4  5  6  7                1  2  3  4\n",
        " 3  4  5  6  7  8  9       8  9 10 11 12 13 14       5  6  7  8  9 10 11\n",
        "10 11 12 13 14 15 16      15 16 17 18 19 20 21      12 13 14 15 16 17 18\n",
        "17 18 19 20 21 22 23      22 23 24 25 26 27 28      19 20 21 22 23 24 25\n",
        "24 25 26 27 28 29 30      29 30 31                  26 27 28 29 30\n",
        " \n",
        "        July                     August                  September\n",
        "Mo Tu We Th Fr Sa Su      Mo Tu We Th Fr Sa Su      Mo Tu We Th Fr Sa Su\n",
        "                1  2          1  2  3  4  5  6                   1  2  3\n",
        " 3  4  5  6  7  8  9       7  8  9 10 11 12 13       4  5  6  7  8  9 10\n",
        "10 11 12 13 14 15 16      14 15 16 17 18 19 20      11 12 13 14 15 16 17\n",
        "17 18 19 20 21 22 23      21 22 23 24 25 26 27      18 19 20 21 22 23 24\n",
        "24 25 26 27 28 29 30      28 29 30 31               25 26 27 28 29 30\n",
        "31\n",
        " \n",
        "      October                   November                  December\n",
        "Mo Tu We Th Fr Sa Su      Mo Tu We Th Fr Sa Su      Mo Tu We Th Fr Sa Su\n",
        "                   1             1  2  3  4  5                   1  2  3\n",
        " 2  3  4  5  6  7  8       6  7  8  9 10 11 12       4  5  6  7  8  9 10\n",
        " 9 10 11 12 13 14 15      13 14 15 16 17 18 19      11 12 13 14 15 16 17\n",
        "16 17 18 19 20 21 22      20 21 22 23 24 25 26      18 19 20 21 22 23 24\n",
        "23 24 25 26 27 28 29      27 28 29 30               25 26 27 28 29 30 31\n",
        "30 31\n",
        "```\n",
        "***solution:***"
      ],
      "metadata": {
        "id": "v-k3xt0SYMIB"
      }
    },
    {
      "cell_type": "code",
      "source": [],
      "metadata": {
        "id": "evIK5u-sYUtc"
      },
      "execution_count": null,
      "outputs": []
    },
    {
      "cell_type": "markdown",
      "source": [
        "--- \n",
        "### Exercise 171\n",
        "Using the calendar built-in module, print a calendar for June 2023 to the console.\n",
        "\n",
        "\n",
        "\n",
        "Expected result:\n",
        "\n",
        "\n",
        "```\n",
        "     June 2023\n",
        "Mo Tu We Th Fr Sa Su\n",
        "          1  2  3  4\n",
        " 5  6  7  8  9 10 11\n",
        "12 13 14 15 16 17 18\n",
        "19 20 21 22 23 24 25\n",
        "26 27 28 29 30\n",
        "```\n",
        "***solution:***"
      ],
      "metadata": {
        "id": "7gr6XRCgYU_k"
      }
    },
    {
      "cell_type": "code",
      "source": [],
      "metadata": {
        "id": "85sxXlYFYgbt"
      },
      "execution_count": null,
      "outputs": []
    },
    {
      "cell_type": "markdown",
      "source": [
        "---\n",
        "### Exercise 172\n",
        "Using the datetime built-in module, calculate the difference for dates (date 2 - date 1):\n",
        "\n",
        "\n",
        "\n",
        "- date 1: 2020-06-01\n",
        "\n",
        "- date 2: 2020-07-18\n",
        "\n",
        "\n",
        "\n",
        "Print the result to the console as shown below.\n",
        "\n",
        "\n",
        "\n",
        "Expected result:\n",
        "\n",
        "\n",
        "```\n",
        "47 days, 0:00:00\n",
        "```\n",
        "\n",
        "***solution:***"
      ],
      "metadata": {
        "id": "uSMI8UVoYgox"
      }
    },
    {
      "cell_type": "code",
      "source": [],
      "metadata": {
        "id": "INccUkN5YuL_"
      },
      "execution_count": null,
      "outputs": []
    },
    {
      "cell_type": "markdown",
      "source": [
        "---\n",
        "### Exercise 173\n",
        "Using the built-in module for regular expressions, find all digits in the following text:\n",
        "\n",
        "\n",
        "```\n",
        "string = 'Python 3.8'\n",
        "```\n",
        "\n",
        "Print the result to the console.\n",
        "\n",
        "\n",
        "\n",
        "Tip: Use the `findall()` function and the regular expression `'\\d'`\n",
        "\n",
        "\n",
        "\n",
        "Expected result:\n",
        "\n",
        "\n",
        "```\n",
        "['3', '8']\n",
        "```\n",
        "***solution:***"
      ],
      "metadata": {
        "id": "uiGoafyNYueU"
      }
    },
    {
      "cell_type": "code",
      "source": [],
      "metadata": {
        "id": "UD8dz4NqYzrv"
      },
      "execution_count": null,
      "outputs": []
    },
    {
      "cell_type": "markdown",
      "source": [
        "---\n",
        "### Exercise 174\n",
        "Using the built-in module for regular expressions, find all alphanumeric characters in the following text:\n",
        "\n",
        "\n",
        "```\n",
        "string = '!@#$%^&45wc'\n",
        "```\n",
        "\n",
        "Print the result to the console.\n",
        "\n",
        "\n",
        "\n",
        "Tip: Use the `findall()` function and the regular expression `'\\w'`\n",
        "\n",
        "\n",
        "\n",
        "Expected result:\n",
        "\n",
        "\n",
        "```\n",
        "['4', '5', 'w', 'c']\n",
        "```\n",
        "***solution:***"
      ],
      "metadata": {
        "id": "fVzdI_icYz9Z"
      }
    },
    {
      "cell_type": "markdown",
      "source": [
        "---\n",
        "### Exercise 175\n",
        "Using the built-in module for regular expressions, find all email addresses in the following text:\n",
        "\n",
        "\n",
        "```\n",
        "raw_text = \"Send an email to info@template.com or sales-info@template.it\"\n",
        "```\n",
        "\n",
        "Print the result to the console.\n",
        "\n",
        "\n",
        "\n",
        "Tip: Use the `findall() `function and the regular expression `'[\\w\\.-]+@[\\w\\.-]+'`\n",
        "\n",
        "\n",
        "\n",
        "Expected result:\n",
        "\n",
        "\n",
        "```\n",
        "['info@template.com', 'sales-info@template.it']\n",
        "```\n",
        "***solution:***\n"
      ],
      "metadata": {
        "id": "3UcjHJc2ZHxw"
      }
    },
    {
      "cell_type": "code",
      "source": [],
      "metadata": {
        "id": "Ii93zIlJZRsq"
      },
      "execution_count": null,
      "outputs": []
    },
    {
      "cell_type": "markdown",
      "source": [
        "---\n",
        "### Exercise 176\n",
        "Using the built-in module for regular expressions, split the following text by whitespace (spaces):\n",
        "\n",
        "\n",
        "```\n",
        "text = 'Programming in Python - from A to Z'\n",
        "```\n",
        "\n",
        "Print the result to the console.\n",
        "\n",
        "\n",
        "\n",
        "Tip: Use the `re.split()` function and the regular expression `'\\s+'`.\n",
        "\n",
        "\n",
        "\n",
        "Expected result:\n",
        "\n",
        "\n",
        "```\n",
        "['Programming', 'in', 'Python', '-', 'from', 'A', 'to', 'Z']\n",
        "```\n",
        "***solution:***\n"
      ],
      "metadata": {
        "id": "I9FB52lHZR_h"
      }
    },
    {
      "cell_type": "code",
      "source": [],
      "metadata": {
        "id": "n6zP_P2ZZZ9J"
      },
      "execution_count": null,
      "outputs": []
    },
    {
      "cell_type": "markdown",
      "source": [
        "---\n",
        "### Exercise 177\n",
        "Using the string built-in module, print a string of lowercase and uppercase letters to the console.\n",
        "\n",
        "\n",
        "\n",
        "Expected result:\n",
        "\n",
        "\n",
        "```\n",
        "abcdefghijklmnopqrstuvwxyzABCDEFGHIJKLMNOPQRSTUVWXYZ\n",
        "```\n",
        "***solution:***"
      ],
      "metadata": {
        "id": "nRpfbSMQZaM0"
      }
    },
    {
      "cell_type": "code",
      "source": [],
      "metadata": {
        "id": "UNurjQUqZeZJ"
      },
      "execution_count": null,
      "outputs": []
    },
    {
      "cell_type": "markdown",
      "source": [
        "---\n",
        "###Exercise 178\n",
        "Using the collections built-in package, create a Counter class object that counts the frequency of items in the following list:\n",
        "\n",
        "\n",
        "```\n",
        "items = ['YES', 'NO', 'NO', 'YES', 'EMPTY', 'YES', 'NO']\n",
        "```\n",
        "\n",
        "Print the result to the console.\n",
        "\n",
        "\n",
        "\n",
        "Expected result:\n",
        "\n",
        "\n",
        "```\n",
        "Counter({'YES': 3, 'NO': 3, 'EMPTY': 1})\n",
        "```\n",
        "***solution:***\n"
      ],
      "metadata": {
        "id": "W9SGvLV6Ze4w"
      }
    },
    {
      "cell_type": "code",
      "source": [],
      "metadata": {
        "id": "on2rD9t3Zlkt"
      },
      "execution_count": null,
      "outputs": []
    },
    {
      "cell_type": "markdown",
      "source": [
        "---\n",
        "### Exercise 179\n",
        "Using the math built-in module, implement the function called `sigmoid()` expressed by the formula:\n",
        "![image.png](data:image/png;base64,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)\n",
        "\n",
        "\n",
        "\n",
        "\n",
        "Note: All you have to do is implement the function.\n",
        "\n",
        "***solution:***"
      ],
      "metadata": {
        "id": "gd7K3Gx3Zlzt"
      }
    },
    {
      "cell_type": "code",
      "source": [],
      "metadata": {
        "id": "X70YVY6bZxWT"
      },
      "execution_count": null,
      "outputs": []
    },
    {
      "cell_type": "markdown",
      "source": [
        "---\n",
        "### Exercise 180\n",
        "Using the random built-in module set the random seed as follows:\n",
        "\n",
        "\n",
        "```\n",
        "random.seed(12)\n",
        "```\n",
        "\n",
        "And select randomly (pseudo-randomly) an item from the list below:\n",
        "\n",
        "\n",
        "```\n",
        "items = ['python', 'java', 'sql', 'c++', 'c']\n",
        "```\n",
        "\n",
        "Print the result to the console.\n",
        "\n",
        "***solution:***"
      ],
      "metadata": {
        "id": "aHjEnyRDZxiP"
      }
    },
    {
      "cell_type": "code",
      "source": [],
      "metadata": {
        "id": "kLMxI1XPZ35c"
      },
      "execution_count": null,
      "outputs": []
    },
    {
      "cell_type": "markdown",
      "source": [
        "---\n",
        "### Exercise 181\n",
        "Using the random built-in module set the random seed as follows:\n",
        "\n",
        "\n",
        "```\n",
        "random.seed(15)\n",
        "```\n",
        "\n",
        "And shuffle (pseudo-randomly) items in the following list:\n",
        "\n",
        "\n",
        "```\n",
        "items = ['python', 'java', 'sql', 'c++', 'c']\n",
        "```\n",
        "In response, print the list to the console.\n",
        "\n",
        "\n",
        "\n",
        "Expected result:\n",
        "\n",
        "\n",
        "```\n",
        "['c', 'c++', 'sql', 'python', 'java']\n",
        "```\n",
        "***soltion:***"
      ],
      "metadata": {
        "id": "iBcLH59vZ4KR"
      }
    },
    {
      "cell_type": "code",
      "source": [],
      "metadata": {
        "id": "jUv5CrTOaAGp"
      },
      "execution_count": null,
      "outputs": []
    },
    {
      "cell_type": "markdown",
      "source": [
        "--- \n",
        "### Exercise 182\n",
        "Using the pickle built-in module, save the following list to the data.pickle file.\n",
        "\n",
        "\n",
        "```\n",
        "ids = ['001', '003', '011']\n",
        "```\n",
        "***solution:*** "
      ],
      "metadata": {
        "id": "NEgy5MH-aBkL"
      }
    },
    {
      "cell_type": "code",
      "source": [],
      "metadata": {
        "id": "Hwgmo6lkaGmo"
      },
      "execution_count": null,
      "outputs": []
    },
    {
      "cell_type": "markdown",
      "source": [
        "---\n",
        "### Exercise 183\n",
        "Using the json package, dump the following dictionary:\n",
        "\n",
        "\n",
        "```\n",
        "stocks = {'PLW': 360.0, 'TEN': 320.0, 'CDR': 329.0}\n",
        "```\n",
        "\n",
        "to the string, sorted by keys with indent 4. Print the result to the console.\n",
        "\n",
        "\n",
        "\n",
        "Expected result:\n",
        "\n",
        "\n",
        "```\n",
        "{\n",
        "    \"CDR\": 329.0,\n",
        "    \"PLW\": 360.0,\n",
        "    \"TEN\": 320.0\n",
        "}\n",
        "```\n",
        "***solution***"
      ],
      "metadata": {
        "id": "_VGGSaYzaHPN"
      }
    },
    {
      "cell_type": "markdown",
      "source": [
        "---\n",
        "## Summary"
      ],
      "metadata": {
        "id": "dTn6Xac2aRC7"
      }
    },
    {
      "cell_type": "markdown",
      "source": [
        "---\n",
        "### Exercise 184\n",
        "Consider the problem of binary classification in machine learning. We have the following y_true list with classes from the test set and the following y_pred list with classes provided by the model:\n",
        "\n",
        "\n",
        "```\n",
        "y_true = [0, 0, 1, 1, 0, 1, 0]\n",
        "y_pred = [0, 0, 1, 0, 0, 1, 0]\n",
        "```\n",
        "\n",
        "Our task is to implement a function called `accuracy()`, which takes two arguments y_true, y_pred and calculates the accuracy of our model. The result is rounded to four decimal places.\n",
        "\n",
        "In response, call the function on our data and print the result to the console.\n",
        "\n",
        "\n",
        "\n",
        "Expected result:\n",
        "\n",
        "\n",
        "```\n",
        "0.8571\n",
        "```\n",
        "***solution:***"
      ],
      "metadata": {
        "id": "8BBGf7OeaZUl"
      }
    },
    {
      "cell_type": "code",
      "source": [],
      "metadata": {
        "id": "f77Fns-1afiO"
      },
      "execution_count": null,
      "outputs": []
    },
    {
      "cell_type": "markdown",
      "source": [
        "--- \n",
        "### Exercise 185\n",
        "MAE - Mean Absolute Error is a function that allows you to check the accuracy of the machine learning model. MAE is popular in regression models.\n",
        "\n",
        "For any:\n",
        "\n",
        "![image.png](data:image/png;base64,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)\n",
        "\n",
        "\n",
        "MAE can be calculated by the following formula:\n",
        "\n",
        "![image.png](data:image/png;base64,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)\n",
        "\n",
        "Example:\n",
        "\n",
        "\n",
        "```\n",
        "[IN]: y_true = [10, 10.5, 11.2, 10.4]\n",
        "[IN]: y_pred = [10.2, 10.4, 10.8, 11.0]\n",
        "[IN]: mae(y_true, y_pred)\n",
        "[OUT]: 0.325\n",
        "```\n",
        "\n",
        "Implement a function called `mae()`. Round the result to three decimal places.\n",
        "\n",
        "\n",
        "\n",
        "Note: You only need to implement this function.\n",
        "\n",
        "***solution:***"
      ],
      "metadata": {
        "id": "HIVgIXCqapXr"
      }
    },
    {
      "cell_type": "code",
      "source": [],
      "metadata": {
        "id": "tG2XA6Mfa2qu"
      },
      "execution_count": null,
      "outputs": []
    },
    {
      "cell_type": "markdown",
      "source": [
        "---\n",
        "### Exercise 186\n",
        "MSE - Mean Squared Error is a function that allows you to check the accuracy of the machine learning model. MSE is popular in regression models.\n",
        "\n",
        "For any:\n",
        "\n",
        "![image.png](data:image/png;base64,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)\n",
        "\n",
        "\n",
        "MSE can be calculated by the following formula:\n",
        "\n",
        "![image.png](data:image/png;base64,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)\n",
        "\n",
        "Example:\n",
        "\n",
        "\n",
        "```\n",
        "[IN]: y_true = [10, 10.5, 11.2, 10.4]\n",
        "[IN]: y_pred = [10.2, 10.4, 10.8, 11.0]\n",
        "[IN]: mse(y_true, y_pred)   \n",
        "[OUT]: 0.142\n",
        "```\n",
        "\n",
        "Implement a function called `mse()`. Round the result to three decimal places.\n",
        "\n",
        "\n",
        "\n",
        "Note: You only need to implement this function.\n",
        "\n",
        "***solution:***"
      ],
      "metadata": {
        "id": "Xyb7aklMa5XC"
      }
    },
    {
      "cell_type": "code",
      "source": [],
      "metadata": {
        "id": "6hw8TugdbEF8"
      },
      "execution_count": null,
      "outputs": []
    },
    {
      "cell_type": "markdown",
      "source": [
        "---\n",
        "### Exercise 187\n",
        "Implement a function called `relu()` (ReLU - Rectified Linear Unit). This function is used in neural networks and is given by the following formula:\n",
        "\n",
        "![image.png](data:image/png;base64,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)\n",
        "\n",
        "![image.png](data:image/png;base64,iVBORw0KGgoAAAANSUhEUgAAAOoAAAAuCAIAAACpjxK7AAAgAElEQVR4nO18eXRUVbb3ubfmKVWVeR7JHDJjxIiyCEOYRRsiYhQVlbZxnlvEZTcOvXDZtt1o00ZtiNAKKMsGxShLiBJMQgYSDAlkIIHKWEklNdetO5z3x351+n6ERJPnt76PZ/YfWbfuPfecffb5nX32dENhjNEMzdC1SfT/awZmaIamTzPwnaFrmGbgO0PXMM3Ad4auYZqB7wxdwzQD3xm6hmkGvjN0DdOU4QtxYrvdzrIs+en1enmehwbkAhoAMQwDF9BSEISpjut2u+HCarXChcvlmkY/v0KCFREEgcgQlgakB09hgcgy/SLk9XpJhwQncEeMAafTiUTrC/ywLCteXEEQOI6Da9ISTQO+MLxOp5PJZDA2wzByuVwikTgcDoQQTdOAMJlMNjw8zHEcxlihUBw4cGDr1q3QkqanPG5nZ+eWLVvOnz+v1+sRQgMDA2q1ehr9/AoJoEPTtEKhgDsSiYTjOJqmz50799RTT507d06hULjdbtLgFyG5XK5QKEBhURTF8zzccTgcgIHR0VGEkEajYVlWpVI5nU6e57/55puXXnrJ6XTSNM0wDKCZpmmpVEqYJ0NMefmVSiXHcTabzW63I4S0Wi3GWBAEr9crk8mAUb1e73K5nE5nYGCgVCp1u93vv//+m2++uXnzZthVREP/fEpKSkpJSXnyySfb29sRQqGhoYIgAA8zNAlhjCmKIgjGGGOMaZqmKGpgYOD3v/99aGhoeHi42+1WqVT/N04zQRAAcETLer1eeGQ0GhFCHMfJZDKn06nRaGiaTk1NpWl648aNDodDoVCIWQKkyWSy/6SK8dSJYRiMscfjcTgcGOPq6up77703Ozv7zjvv/OqrrzDGbreb53mMMcdxHMcdPHgwMzPz+PHj8LrL5ZrGoBhjq9W6adOmDRs2DA4OYoxZlp1eP78qgtMP/mLf2mGMzWbz+vXrN27c6HQ64Y7H4/llxxUEYaKndrvdZrPxPM9xHMuyXq8XYwyYwRj39/evWrXq6aefHhkZEc+C53loSWjK8AWeHA4HXOzatSsqKuqRRx4pLy/Py8vLz88/f/486FeO43ieb2pqysvLe+WVV+AtwBwR4pTIarVeunTpuuuue/HFF8fGxqbRw6+QQOBk+eHC4XC8/PLLSUlJ7e3t2KdQprcoE5F4MxDMdXR0bN++fePGjampqQsWLNi2bVtDQwPG2O12Axs8zwPDNTU1SUlJZWVlgGnC2xVMTtl4gNNfo9FQFFVTU3P48OGAgIDs7Oz9+/eDKePxeCiKgmOC47hdu3apVKqVK1cihCiKAgsGGkyV/Pz8wsPD77jjjvLy8vPnz/M8P2M8TJXgHK+vr3/vvfeeeeaZiIgIsPrAgRF7Rf9DksvlCCGWZVmWBTeppqbmpZde+uKLL9auXVtVVbVnzx6ZTLZu3brnn39eLpe7XC6VSgX2LsY4JSVlwYIFe/bsaW1tRQhBDwihK7ydKcNXLpcTH3BwcLC1tVWj0aSmpgYEBKjV6oULF2ZmZiKEOI7TarUnTpyoqKhYuHBhWloaQgj2vZibn0/gDmKMly5dGhERsXPnTo/Ho9PpptrPr43Ga4r+/v79+/dHREQsWbIEISSXy6VSqUKhAAD9guOCUQt+Tn9//65du06cOPHKK68sW7bMaDRGREQ8/PDD8+fP//LLLysqKtRqNQlTUBTl5+d322239fX1ffrpp2NjYxRFgREM8CUG8XQCZ3K5nOd5p9N54cIFq9UaFRWVmJj44Ycfnj179rXXXoOgjEwm83q9hw4dkkgky5cvp2na4/FoNBqtVmuz2aYhDr1eLwgCRVHR0dGZmZmnT59uaGj4ZQM9/ysJ4IsxRr5VN5lMFRUV8+fPpygK8MowDMuyxLX/pQhcNJqm3W73yZMnjx8/XlBQkJ2dDcy43W69Xl9UVDQ2NvbOO+8MDQ1RFAUOnNfrZVm2oKAgIyPj6NGjZrMZIQRKE6YzffgCWxKJRCqVVlVV6XS6uLg4tVoNvTudTtCsLMu2tbU1NjZmZGSEhYXxPK9UKsGy8fPz43ne5XIhnzcK3Hg8HugfjBCEkMvlgqMEfrIsK5FIlErlnDlzLBZLTU0N8amvyiQ8goGIt/tzCDxOMBknaQYnCbQH5sWHr9jyIyzBTCFmAuzBboc24pbkGnwgsQMuHpeMRa6JQQXMgLqSSCSCIEilUo7jjh49ijHOyMgAxx/4kclkoJWukBWYpHANF6T/ycNHHMep1WpgQBCEffv2yWSy2NhYtVoNc1GpVC6XKy4uzmAwNDc3Nzc3y+VyjUaDMaYoCgBWWFhoNpu//fZbhJBcLge7lGEYstOmDF+KosCs6ejo6O/vl0gk0dHRKpUKkKTRaEDcEomkra3NbrcnJCQYjUYYj0R8aZqGfa/RaGw2G8xQqVSCUIxGo91udzgcarVaoVDAhuN5npgcKSkpgYGBra2tZrN5IjNaLpfDI4hlAs+TaGt4BBFAqVQqlUonN9DBOoKVBokjhGBSIyMjHMdRPoKhYdY0TTscDoqiwOwB3HAcB20wxhD7BIZ5nud5HkRH0zQIFiGk1WoBmhRFeTwet9sNTgVsIegZLAFoBt4PSN5ms509e1alUqWmphJTgQhWIpF4PB65XA42K1lup9PJsizAUafTORwOnuclEglB9ngi0VmapsfGxkAmWq1WoVCQRyqVSqfTqdVqmUzW2dkJvQF2ASHx8fEURXV3d8NExp8PU4ZvT0/PyZMna2trKysr7XY7zA3utLW1wRrQNC2RSOrr6y0WS3JyMkwbVgtUDgSxEUJ1dXXbtm2Ljo4uKCh4/vnnh4aGvF7vCy+8UFRUlJub+9JLL9lsNo/H43K5KIqCsCVCKDU1NTIysrm5ube396pMAg4AkRKJxOl0wsJPEpYnKJFIJKByHA7HJOcprK7H4yktLZ0zZ84tt9xy5MgRhJDdbq+oqFi+fHlycnJqaurixYtBLA6H4+DBg6tWrbr++uuTkpIeeughk8kEXGGMQb9KJBKNRiORSMbGxsrKyoqLixMSEh588MFDhw61t7efOXPGYrEARlUqlcVigbPogw8+KCoq8vf337Rp06FDhxBCx48fBwZKSkpqamoYhgH0I4RMJlNra2tkZGRERARZBalUSoISSqXSbDZ/8MEHN998c1hY2Jo1a44fP67RaE6ePDlv3rxZs2YtXrz41KlTAEGysuMJbF8Q6cDAwODgIHj8AAOyNxQKhVQqFQTh/PnzRLkQ/ywxMVGtVre0tAwPD8Ppga6w5qcaEPnoo49mzZoVEhKSkpKSkJBgMBjS0tKioqJmz579hz/8gcR0zWbz2rVrZ8+eXVFRQUInoE5IVwcPHszKyvroo4/sdnt5eXlOTs7y5cvvuOOOTZs2tbe3l5eXZ2Vlvfnmm+LwoSAIDMNwHHfPPffExMT8+9//Hs8hQEF8MTo6Co8miQ1B7EbcZpKwJZDFYtm6devzzz9fXV2dm5ubkZGxb9++1atXb968+fTp0729vbt3746Pj9+wYcOZM2fuvvvu+++/v66uzmq1vvXWWwkJCUVFRSaTiQxHRHfgwIG1a9fOnTv3+++/Zxjms88+KywszMzMTE1NffLJJyERBbwNDg7ef//9paWlp06dMpvN995776xZsx5//PHCwsIjR440NDTcd999K1as6OzsxBhzHOd2u48cORIbG3vfffdB5JHMkWEYuB4aGlqzZs2zzz574cKFlpaWRx99ND4+fsuWLXPnzj148GBPT88dd9xxyy23NDQ0XBGCHU+kwdGjRyMiIuLj49944w3Arsfjgd3S3t5eWFgYFRW1YcMGq9VK3oWnfX19RUVF6enp9fX1JHQtHnfK8CUpicceeyw8PLykpGRoaAiLkggQju7s7LzxxhuDgoIgsCdOMUBU+NixY0VFRY2NjWAFsix76623JicnL1myZHBwsKKiIisrKyQkZOvWrU6nE0LrIF+GYRiGefbZZ+Pi4nbt2kUwKu4fUA7dfv/998XFxeHh4aGhofHx8VETUGpqanBwcGBgYGZmZmJiIk3TixYtamxsnEQU7e3tN910048//tjb27tmzZqsrKzY2Nj333+fALGlpaWgoCA9PT0uLm7Hjh2QuMcYd3d3z58/Pzk5+dChQ2QxYBbgVEVHR9fX14PQXC7Xu+++O3v27MDAwM8++wzusCzL8/zvfve7hx9+mPBz4MABo9GYmZn55z//mef5Z599NjIyUqvV1tXVQec8z7/77rvx8fFPPPHEVRMBTqfzueee2759e09PD9zZs2dPREREenp6WVmZy+W68847w8PDZ82aVV1djX9qh5NBDxw4EB0dnZSU9Nprr4kfgQznzZsXGxt766232mw28i7kMkZHR0tLSyMjIysqKgB1RIZAU3Y2lUoly7J2u723t9fPzy8mJkYqlcJgoNvB9mIYRqlUpqWlgUVLHEaapiEJ/vXXX69cuTImJkar1SKEuru7R0ZGvF5vfn6+TqezWCw2m81oNMbExKjVajIluVwul8sZhvHz85PJZP39/djnupEzBS7AmpRKpXPnzi0rK5PJZOA7ijPmYsIYq1QqhmE8Hg+kJWmahvqKq9Lo6GhVVVV2dnZaWlpdXd2PP/5oNpsffPDBu+66C/t8MrlcrlarOzo6Nm7c+Nvf/hYYc7lcgJiuri5/f3+wfQVBkMvlLS0tn3zySU9Pz5YtW9LT00GwKpXKYDCYzWa5XB4VFeVwOCBRf/LkycuXL2/bto1lWTCyQWJGo7G4uLi7u7u2tlYqld59991RUVGwHDRNd3d30zRtMBhADmKn0OVy1dXVVVVVlZWVRUdHu1wu8MjBnsnLy/N4PGazWafTXXfddeHh4UiUEL6qPMVBD7lcjn15NeAWiYxJ5MsneL1esnDg7hsMBoTQyMgI6U084pThyzCMQqHAGPf397MsGxMTYzQaYZIIIbfbDeajzWYzmUyQ3QDUAovwLs/zFovltttuA+fXbrfzPA9W3aJFi5RK5cqVK4OCgqKiopKSksiUiIcBbjLHcXa7HaJpcP+qzhZFUREREWKxTjQv2BviWDJM9qrtjUbj2bNn582bZ7Va29rapFJpenr6+vXrXS6Xn58fMNnV1dXV1RUbG1tcXAwRUIlEAoC2Wq3FxcWQ0/d6vWBEfvnll6dOnaJpet68eTAXeOvSpUsIoYULF0ZHR2u1WrApe3t7MzIy8vLybDYbBHPOnj0Lk9XpdBEREfv37z9//nxcXFxwcDApKwNHWalUAnClUilZGq/X6/F45s+fHx8fjxCCEMG5c+fcbndOTg7El3bv3n3x4sWYmJiwsDCO4ybxDQhAJRIJLBxEDAjiQSUhn+kv9pUB4gAkeH10dBRiA2I9iKYBX4VCwbJsR0dHb2+vTCYLCAhAPr8Hyj6Qb087HI6QkBDigCOfSa5QKGiafu+998B+53lep9OdOHGiq6srNTU1KCiIoiiNRlNUVIQQIl45SATCk+DDQRxqvPYFAmFJJBKGYVQqFUBnEonDioLShcIjiUQyiavHcdwbb7wB/F+6dMlqtSYmJiYlJalUKo/Ho1QqvV5ve3u7IAigriCxBPrszJkzZrM5LS0tOzubpmnAbldX1xdffMHzfE5OTnJyMqgriC309/dzHJeamgplfXBerVmz5vbbb0c+/2lwcNBkMo2NjRUUFERERLAsazAYCgsLkUjjgKtE0zTLshAGEcsN2i9evBhjDILq6uoCu/n666+Hg0itVl9//fXE4SOaZSIChQWqFBrDoIBdmqZlMhkAV6lUymQyciZApA8cSgjXIBFqeZ7/7xDWJGNflTDGMpnswoULoHGzs7PhJpTDQRuIVIeGhpKDGImCVnBQIoTg3ARZXLhwQaFQxMfHw34gAVSCTjjjJBIJ2QnQMwRZxldOQmUmEpULYl/waCJBA8Rhs8G7k0SLQZGwLGu1WltaWgIDA2fPng2PwF7yer2NjY16vT4jIwP2DGAIIVRbW6tWqwsLC2F7wChtbW0//vgjTdNJSUnQA4SfBwYGTp8+HRYWplarAwICyPYDzY0xlkqlLperp6enoaFBr9dnZ2dDtSFwiHxaA3AABi5JhiGEIFkAeWM4Qklu32QyNTc3+/v7JyQkgMrX6XSgmJDvvIJOSABRHJoUBAEm6O/vb7FYQkNDyVNSzgsAoCgKihMh7AOBVFgC4AQ0NKyO2AKcZrn60NCQRCKJiYkhsUPQ9qSZv78/bDsSTlcoFDKZjGwsj8cDQU2Kovr6+s6cOePv75+UlBQSEoIQUqlUHMcxDAPZO+QLfMIQEHyQyWRwKgGgr9C+cCgLgqBWqyE5AhwKExDpDZIyYMxMrlqg7PDSpUsNDQ0DAwMZGRkgDa/X63K5RkZGOjs7zWYzhA4h50JRVFVVVV9fn9FozM3NZVkWHBGEkNlsNhgMLMvm5eWpVCpQE1KpdHh4uKOjY3h4ePXq1WAOQpIM+cpLPB6PWq2GOtK4uDiFQqFWq2EKNE2TRBKsutFohPpaQACAmKAW5gVJE0EQBgYGYETYgU6nE2xQvV4vLnJHvh0C2l0QBKvVCpFvhBDHcQEBAdddd53D4RgZGQHggnKhKArKsBQKRUxMDMGPOEgK+BZbdOJ68SkbDyCvjo4OQRDS0tLgICPmAfIZLnDW2O12mAap2wCeINje1dUVFhYWGRlpNpu7urrkcnl6ejqwS9N0b2/viRMn8vPzMzIyrFarXq8niU2v1wvqWa/XT6RQMcYAvtOnTz/zzDPNzc0ymUytVk+UjICjDRQGy7Jms3n+/Pkvv/xyTk7OVdvDiSyVSk0mk9PpjImJyc/Phw0GNrTJZLp06ZJery8sLCQxS7fbXV1dbbFYEhMT09LSZDLZ7t27c3JyIiMj+/r6YPnj4+MdDgfkn7xe7w8//KBUKiEwYrVa//Wvfy1dujQ+Pt5isXR1dcXHx4OnW1tby/N8aGhoQUEBx3EOh8NgMBw9epTn+eLiYqlUCtaRVquFnQlohlmDWSWXy8fGxs6dOxcUFJSYmOhyuWpqauRyeUJCQnBwMMZYo9GoVKqqqqru7u4777yTYRi1Wg0WI+gpYFsikcDqQ+dSqTQ4ODg1NbWhoQGUq9VqNRqNoEelUilkSbKzs8lpSXAPQQKe5wMDA8FyIFbH9OFrt9vb29u9Xm9cXBxsXOxLRpDwu16v12q1/f39YHSTnBk8bWpq2rJli8VieeSRRx577LFjx44JgmAwGGbPng2mLU3Tra2tn3zyyYoVK2w2G4iDIE8ikVgsFoZhwsLCxqP2vycmlYJuyMvL27t3r5+fn1KpnOT7Ip7nIY2JMTYajV6v1+l0TlISBMeiy+U6c+YMxhhC4OJzraamZnh4uKCgIDo6Gsw4eKWxsVEQhNWrV/v5+dXX15eXl8+ePVsmk4GTajQag4KCtFotGNA2m62pqQng63A42tvbP//881WrVnEc96c//enAgQPBwcHl5eVqtbqtrc1oNIJApFKpwWCwWCx///vfS0pKPB4PaBmMcUREhMfjGRsbczgcer0e4kigCCFC9+GHH0ZHR7/zzjt6vb65uZlhmIyMDEim0jRtMpleffXVdevWYYzB5gahyWQyiqIgSkCsc7DuQJfl5uYeOXLk7Nmzdrs9MDCQiLGlpcXpdGZnZ6enp5OFAG3I8zzDMBaLRaVShYWFEaNZbBFNp+bBbDaDqggODiY6lVRUAOn1enBgL1++jHzmIJDdbq+rq/N4PHa7PSQkxGq11tbWKhQKf39/8Cp4nu/t7X399dfvueceg8EAjjxBDAB0cHCQoigYYjxBG4VCAeZmeHg42FV+fn76CchgMKjV6sDAwICAADAbgoKCxGxfdRSO41pbWyEHizEGDgVBsNvtbW1twcHBc+bMgd2oUCgsFktjY2N1dTXLskVFRW63+/vvv4+JicnJydHpdJGRkWq1Wi6Xj46OEudv586dJ0+etNvtMTExQUFB586dy8/PNxqNPT09TU1NDocjNDRUoVB0dHQ0NDS4XK6EhASoiPJ6vbt27TIYDIsWLQIwMQxDUVRqaiqcDLC3SU4bY2w2mz/++GOHw+Hn56dSqaqrq1tbWymKioyM9Hq9cKAfOnTIaDSuX78evlpzu91ut/vxxx/Py8tbtmxZU1MTQkir1cKnkCSrR1HU0qVLi4uLa2pqjh07BqUvDMNcvnz5q6++0ul0mzdvDgkJEStBhBAkdIeGhoKDg0NCQki5gThGMR34dnZ2OhyO4OBgsieQz8QWH81JSUkYY5PJBD9hJnCCR0ZGDg8Pv/766wsWLNi5c6dCoZg1a1ZHR8eJEydkMll9fX1paemSJUvWrVuHfNFBEiATBGFwcLCvry86Ojo2NvaqHBLBIV9VENhk4lKEKwg0usvlomkaihkmr9cBu9NqtVZXV3Mcd+ONN0IQEJz6wcHBuro6iqKysrK0Wi1Iyd/fPyoqKj09PTIyEiLf33zzzbZt29xuN8MwBQUFmzZtunz58uHDh2ma7urq2rJlS0NDQ2FhIUVR0OFHH31UXFys1WplMplOp8vJydm6devFixe3bt161113cRx36tQph8NhNpt37NjR3Nz83HPPBQUFAcNwLAQGBoaEhJhMJvI9AUII/D+dTpeXl5eWlvbiiy+aTKZ9+/atWrUqPDx87969kFB44YUXvvjii+3bt0NvCoVCpVJdunSpp6dnbGzs4sWLDQ0NYNTpdDoSj4PRg4ODS0tLV69evX379sOHDwuCYDab//KXv1RXV69fv37lypWUr/pKXBjT399vNpvBQLp6xPMq2ZJJyev17tixIzY2dt26dQMDA+MbgF/l9XqPHTuWkZHxwAMPQH7S7XaTXIvFYikvL09JSUlJSXnuuecgZ/Hqq6/OmTMnJCSktLT0hx9+EGfarmDgyJEjKSkpTzzxxFW/OwIDhtTti9PU/MQk5p/8/MnvZ1paWhYuXFhSUtLb2ytu39TUtHLlypKSktraWtIYuK2srFy4cGFsbOzatWt7enrIV1XQZu/evbfffntAQMDixYvLysrcbndPT8/27dtvuOGGrKys/fv3O51OyHq0t7eXlJQkJycvXbr066+/djqdFRUVK1asyMjIyMrKevnll3t7e0FBkpSnIAgWi+Whhx5KTk6urKwkLhpp0NjYWFJSkpOTs2DBgk8++YTn+W+++WbFihWJiYmJiYlvvPGGzWYjWbrh4WGWZfv6+u67776MjIzQ0NDNmzdD7p20gdwnKd+7ePHiW2+9tWjRosDAwISEhA0bNkBSFjKv4+kf//hHTEzMjh07oGoFEl7i9ZoyfJ1O56OPPpqQkPDMM88AtoBXIgLC+sDAQHFx8U033QRfpIiXEP+f5QekJoF8yoJ920B8H4bweDxvv/12ZGRkWVnZ5KySISwWC1xM8nkcII9lWcIhqYKYiCBHD8VZVzAJ+4e05DiOfFIG3yqS+3ANZUniccW9wVzEexUSdeR7MsKq0+kkQhPzL8bHhx9+mJCQAJXZcAc6Ib1B6hGLFuuKghBYIELd3d1NTU07d+58+umnPR4PMEY6F+elQadcoZLEvJFHIJCnnnoqPT398OHDcHP88k1mPMDAcA0lrRzHWSyW3t5eh8Nxww03kMwQ6HyMMfwEu0qv1//mN78ZHBysqqoidb0k0CaOSYHJTw44cAdJ4Jbch4PJ6/V+/fXXSUlJCxYsmIR58RCksHWSLBGYrVKplHA4ueGLEAKjHKorCZPEiBKHRCDZRroVFyjCNRzE4nHFvcFcxJ9CgLNFouCEVQiZifsBEwjeheubb745Nja2trZ2aGgIWhITgvLl20Ea40UBIoUFIgQfEDidTogOQSf/KcmlafGnPuMrUcE0Rwh5PB5S/QwG/XfffZefn5+fn48QgrgTmMUElhPCF8KfMHBfX9+mTZvy8vL++Mc/joyMtLa25ubm5ubmghpHPreAGN3AulKpzMvLMxgMlZWVUMZKarT5qX8o7/V6wQDat2/fhQsXVq5cOZHhO0NigrUQfJWZCKHg4ODly5e3traePHkSIWSz2aRS6djYGGTRpto/+CSdnZ01NTXz58+HWuSJCiEmJ6VSCblG2Gbfffedy+VatmwZMd+Rbwf+dLk67DPYKNXV1adPnx4cHBweHj569KjNZlu2bFlUVBRxp4iMSB0nyCs9Pf2BBx44derUmTNnwPEXZ4+nRMAPVFunpaXdeuutlK+idIZ+krDPK+J5XqPRrF692mAw1NfXd3Z2whliMBjcbvfkaZqrEixBR0cHz/NhYWFQYzQNDiGTB/aYWq3u7Ozcu3fvDTfcsGTJkvHZ/v/gB09APM+DbY4x/vzzz+fOnbto0aLDhw+vXbv2/vvv7+7uJrYdWDbgxhLrhJg4LpfrnnvuKS0tbWlpGW/r/HwC8+uf//xnSEjIqVOnxJblDP0kXfF/Hnier6ysjI2NPXDgAMMww8PDGGOSApwqVVZWFhcX7969G/v8gf8JsSxrs9l27txZUFBw4cIFuEk8B1j3n+u6EZv9b3/7W25ubmFh4VtvvdXU1IRFXjaBL/wk1jdxaDo6OpYsWfLOO+9gjO12+0+6RBNRZWVldnb2xx9/TIYWV4jO0FUJ1oUsinj5//rXv+bl5RGITA+7HMft378f6uixDwzT+E804C/C659++ml8fHxFRYXFYhEEASq8x08KTwJfKKXFGNtsNiIChmGuiBIAiUueSeAJ/kJo5uzZswsXLiTVytOQVHd3d0FBwdtvvw0MiMM9M/RzCI5Hcg3Rgz179tx8880QvcLTWhcIxsE1wca0l0YQhJqamszMzG+//RY4FMdwIHCGRdp3wi91EUJQSIp8/w8QCsRI1QFUCIitWHgKIiDlrfAIim9Ylh0dHQ0NDSV5xZ9Pg4ODISEh4H5Svi+qp9TDr5ZItQBU0JP74GNhjBmG0el0FEVNUt88Cdntdom4EG4AAACjSURBVJ1OB3UpyAeDafDZ19cXHh5OKpLdbrc4aQ9QvqJycEL4EvBhXzwFCIpWxTfHxsYg8kXqfeEplOnATdgx5FPbqWIX+Uo8gXXocwbBP5MIKOEf6ohXk/xnPl70Iff0OgcCKP9kHfB4IkVd4j45jiOlc8jnsYlbTqZ9Z2iG/j+nmf+PO0PXMM3Ad4auYZqB7wxdwzQD3xm6hmkGvjN0DdN/AeThMyCeEwU7AAAAAElFTkSuQmCC)\n",
        "\n",
        "\n",
        "\n",
        "\n",
        "\n",
        "\n",
        "Note: You only need to implement this function.\n",
        "\n",
        "***solution:***"
      ],
      "metadata": {
        "id": "evYeeAwgbI9n"
      }
    },
    {
      "cell_type": "code",
      "source": [],
      "metadata": {
        "id": "o9Se_sTkbSoz"
      },
      "execution_count": null,
      "outputs": []
    },
    {
      "cell_type": "markdown",
      "source": [
        "--- \n",
        "### Exercise 188\n",
        "The following list is given:\n",
        "\n",
        "\n",
        "```\n",
        "items = [\n",
        "    [1, 2, 3],\n",
        "    [4, 5, 6],\n",
        "    [7, 8, 9]\n",
        "]\n",
        "```\n",
        "\n",
        "Implement a function called `flatten()`, which takes the nested list and returns the following:\n",
        "\n",
        "\n",
        "```\n",
        "[1, 2, 3, 4, 5, 6, 7, 8, 9]\n",
        "```\n",
        "Note: You only need to implement this function.\n",
        "\n",
        "***solution:***\n"
      ],
      "metadata": {
        "id": "8jI7i_m1bUnn"
      }
    },
    {
      "cell_type": "code",
      "source": [],
      "metadata": {
        "id": "zSKDZ0w5beBn"
      },
      "execution_count": null,
      "outputs": []
    },
    {
      "cell_type": "markdown",
      "source": [
        "---\n",
        "### Exercise 189\n",
        "Implement a function called `transfer_zeros()` which takes the list as an argument and return list with all zeros at the end.\n",
        "\n",
        "\n",
        "\n",
        "Example:\n",
        "\n",
        "\n",
        "```\n",
        "[IN]: transfer_zeros([3, 4, 0, 2, 0, 5, 1, 6, 2])\n",
        "[OUT]: [3, 4, 2, 5, 1, 6, 2, 0, 0]\n",
        "```\n",
        "\n",
        "Note: You only need to implement this function.\n",
        "\n",
        "***solution:***"
      ],
      "metadata": {
        "id": "AOwfwfqqbfEN"
      }
    },
    {
      "cell_type": "code",
      "source": [],
      "metadata": {
        "id": "tOfoP18gbmB0"
      },
      "execution_count": null,
      "outputs": []
    },
    {
      "cell_type": "markdown",
      "source": [
        "--- \n",
        "### Exercise 190\n",
        "For any:\n",
        "\n",
        "![image.png](data:image/png;base64,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)\n",
        "\n",
        "\n",
        "we define the Euclidean distance by the formula:\n",
        "\n",
        "![image.png](data:image/png;base64,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)\n",
        "\n",
        "\n",
        "Implement a function called `euclidean_distance()` that computes the distance between two points.\n",
        "\n",
        "\n",
        "\n",
        "Example:\n",
        "\n",
        "\n",
        "```\n",
        "[IN]: euclidean_distance([0, 3], [4, 0])\n",
        "[OUT]: 5.0\n",
        "```\n",
        "\n",
        "Note: You only need to implement this function.\n",
        "\n",
        "***solution:***"
      ],
      "metadata": {
        "id": "48Web2vebmPN"
      }
    },
    {
      "cell_type": "code",
      "source": [],
      "metadata": {
        "id": "T46EXfmGbyTZ"
      },
      "execution_count": null,
      "outputs": []
    },
    {
      "cell_type": "markdown",
      "source": [
        "---\n",
        "### Exercise 191\n",
        "Implement a function called `arange()` that takes three parameters: start, stop, step and generates a list consisting of integers greater than or equal to start and less than stop. The step parameter defaults to 1 indicates the size of the step.\n",
        "\n",
        "\n",
        "\n",
        "Example:\n",
        "\n",
        "\n",
        "```\n",
        "[IN]: arange(0, 10)\n",
        "[OUT]: [0, 1, 2, 3, 4, 5, 6, 7, 8, 9]\n",
        "\n",
        "\n",
        "[IN]: arange(0, 10, 2)\n",
        "[OUT]: [0, 2, 4, 6, 8]\n",
        "```\n",
        "\n",
        "Note: You only need to implement this function.\n",
        "\n",
        "***solution:***"
      ],
      "metadata": {
        "id": "-XTjAh5Gb2xA"
      }
    },
    {
      "cell_type": "code",
      "source": [],
      "metadata": {
        "id": "YiKdiHM0b8mj"
      },
      "execution_count": null,
      "outputs": []
    },
    {
      "cell_type": "markdown",
      "source": [
        "--- \n",
        "### \n",
        "Exercise 192\n",
        "Implement a function called `concat()` that accepts two lists in the format given below:\n",
        "\n",
        "\n",
        "```\n",
        "l1 = [[1], [2]]\n",
        "l2 = [[3], [4]]\n",
        "```\n",
        "\n",
        "and returns:\n",
        "\n",
        "\n",
        "```\n",
        "[[1, 3], [2, 4]]\n",
        "```\n",
        "\n",
        "Note: You only need to implement this function.\n",
        "\n",
        "***solution:***"
      ],
      "metadata": {
        "id": "svOMVITAb80w"
      }
    },
    {
      "cell_type": "code",
      "source": [],
      "metadata": {
        "id": "cENUjtoicEOV"
      },
      "execution_count": null,
      "outputs": []
    },
    {
      "cell_type": "markdown",
      "source": [
        "---\n",
        "### Exercise 193\n",
        "Implement a function called` identity()`, which takes a natural number as an argument and return an identity matrix (nested list).\n",
        "\n",
        "\n",
        "\n",
        "Example:\n",
        "\n",
        "\n",
        "```\n",
        "[IN]: identity(2)\n",
        "[OUT]: [[1, 0], [0, 1]]\n",
        "```\n",
        "```\n",
        "[IN]: identity(3)\n",
        "[OUT]: [[1, 0, 0], [0, 1, 0], [0, 0, 1]]\n",
        "```\n",
        "```\n",
        "[IN]: identity(4)\n",
        "[OUT]: [[1, 0, 0, 0], [0, 1, 0, 0], [0, 0, 1, 0], [0, 0, 0, 1]]\n",
        "```\n",
        "\n",
        "Note: You only need to implement this function.\n",
        "\n",
        "***solution:***\n",
        "\n",
        "\n"
      ],
      "metadata": {
        "id": "eTtx3aQscEqK"
      }
    },
    {
      "cell_type": "code",
      "source": [],
      "metadata": {
        "id": "HHpIYsw9cSME"
      },
      "execution_count": null,
      "outputs": []
    },
    {
      "cell_type": "markdown",
      "source": [
        "---\n",
        "### Exercise 194\n",
        "Implement a function called `fill_value()` that returns a two-dimensional array of height x width and fills it with a fixed value.\n",
        "\n",
        "\n",
        "\n",
        "Arguments:\n",
        "\n",
        "- height - natural number, height of the array\n",
        "\n",
        "- width - natural number, width of the array\n",
        "\n",
        "- value - the value to fill the array\n",
        "\n",
        "\n",
        "\n",
        "Example:\n",
        "\n",
        "\n",
        "```\n",
        "[IN]: fill_value(height=2, width=3, value=255)\n",
        "[OUT]: [[255, 255, 255], [255, 255, 255]]\n",
        "```\n",
        "```\n",
        "[IN]: fill_value(4, 2, 'a')\n",
        "[OUT]: [['a', 'a'], ['a', 'a'], ['a', 'a'], ['a', 'a']]\n",
        "```\n",
        "\n",
        "Note: You only need to implement this function.\n",
        "\n",
        "***solution:***"
      ],
      "metadata": {
        "id": "WfUp206-cSh_"
      }
    },
    {
      "cell_type": "code",
      "source": [],
      "metadata": {
        "id": "7f8tXYOMcb3z"
      },
      "execution_count": null,
      "outputs": []
    },
    {
      "cell_type": "markdown",
      "source": [
        "---\n",
        "### Exercise 195\n",
        "Implement a function called `trace()` that returns the trace of the matrix. The matrix must be a square matrix.\n",
        "\n",
        "\n",
        "\n",
        "Argument:\n",
        "\n",
        "- array - nested list (two-dimensional matrix)\n",
        "\n",
        "\n",
        "\n",
        "Example:\n",
        "\n",
        "\n",
        "```\n",
        "[IN]: trace([[1]])\n",
        "[OUT]: 1\n",
        "```\n",
        "```\n",
        "[IN]: trace([[1, 2], [4, 2]])\n",
        "[OUT]: 3\n",
        "```\n",
        "```\n",
        "[IN]: trace([[3, 4, 5], [5, 2, 1], [5, 7, 2]])\n",
        "[OUT]: 7\n",
        "```\n",
        "\n",
        "Note: You only need to implement this function.\n",
        "\n",
        "***solution:***"
      ],
      "metadata": {
        "id": "3vnaoFnqccJl"
      }
    },
    {
      "cell_type": "code",
      "source": [],
      "metadata": {
        "id": "1LkM30_hclyy"
      },
      "execution_count": null,
      "outputs": []
    },
    {
      "cell_type": "markdown",
      "source": [
        "---\n",
        "### Exercise 196\n",
        "Implement a function called `transpose()` that transposes the two-dimensional matrix (nested list).\n",
        "\n",
        "\n",
        "\n",
        "Argument:\n",
        "\n",
        "- array - nested list (two-dimensional matrix)\n",
        "\n",
        "\n",
        "\n",
        "Example:\n",
        "\n",
        "\n",
        "```\n",
        "[IN]: transpose([[1, 2, 3], [4, 5, 6]])\n",
        "[OUT]: [[1, 4], [2, 5], [3, 6]]\n",
        "[IN]: transpose([[1, 2], [3, 4], [5, 6]])\n",
        "[OUT]: [[1, 3, 5], [2, 4, 6]]\n",
        "[IN]: transpose([[1, 2, 3, 4], [5, 6, 7, 8]])\n",
        "[OUT]: [[1, 5], [2, 6], [3, 7], [4, 8]]\n",
        "```\n",
        "\n",
        "Note: You only need to implement this function.\n",
        "\n",
        "***solution:***"
      ],
      "metadata": {
        "id": "gUqmBA2ZcnN-"
      }
    },
    {
      "cell_type": "code",
      "source": [],
      "metadata": {
        "id": "GnQKRBSnczFi"
      },
      "execution_count": null,
      "outputs": []
    },
    {
      "cell_type": "markdown",
      "source": [
        "---\n",
        "### Exercise 197\n",
        "Implement a function called `max_prob()` that returns the highest probability value for a given row in a two-dimensional matrix. We assume that the user passes the matrix as a nested list with non-negative elements and sum of each row equal to 1.\n",
        "\n",
        "\n",
        "\n",
        "Arguments:\n",
        "\n",
        " - array - nested list (two-dimensional matrix, row adds up to one)\n",
        "\n",
        "\n",
        "\n",
        "Example:\n",
        "\n",
        "\n",
        "```\n",
        "[IN]: max_prob([[0.3, 0.4, 0.3], [0.0, 0.1, 0.9]]) \n",
        "[OUT]: [[0.4], [0.9]]\n",
        "```\n",
        "```\n",
        "[IN]: max_prob([[0.3, 0.4, 0.2, 0.1], [0.0, 0.1, 0.7, 0.2]])   \n",
        "[OUT]: [[0.4], [0.7]]\n",
        "```\n",
        "```\n",
        "[IN]: max_prob([[0.3, 0.4, 0.2, 0.1], [0.0, 0.1, 0.7, 0.2], [0.0, 0.4, 0.3, 0.3]]) \n",
        "[OUT]: [[0.4], [0.7], [0.4]]\n",
        "```\n",
        "\n",
        "Note: You only need to implement this function.\n",
        "\n",
        "***solution:*** "
      ],
      "metadata": {
        "id": "Y_zVZVPuczSP"
      }
    },
    {
      "cell_type": "code",
      "source": [],
      "metadata": {
        "id": "Ohg4QmeBc9Ap"
      },
      "execution_count": null,
      "outputs": []
    },
    {
      "cell_type": "markdown",
      "source": [
        "---\n",
        "### Exercise 198\n",
        "Using the previous exercise, implement a function called `detect_class()`, which in the place of the highest probability value in the row puts 1 and beyond 0 (see below).\n",
        "\n",
        "We assume that the user passes the matrix as a nested list with non-negative elements and sum in each row equal to 1.\n",
        "\n",
        "\n",
        "\n",
        "Argument:\n",
        "\n",
        "- array - nested list (two-dimensional matrix, row adds up to one)\n",
        "\n",
        "\n",
        "\n",
        "Example:\n",
        "\n",
        "\n",
        "```\n",
        "[IN]: detect_class([[0.3, 0.4, 0.2, 0.1], [0.0, 0.1, 0.7, 0.2]]) \n",
        "[OUT]: [[0, 1, 0, 0], [0, 0, 1, 0]]\n",
        "```\n",
        "```\n",
        "[IN]: detect_class([[0.3, 0.4, 0.2, 0.1], [0.0, 0.1, 0.7, 0.2], [0.0, 0.3, 0.3, 0.4]]) \n",
        "[OUT]: [[0, 1, 0, 0], [0, 0, 1, 0], [0, 0, 0, 1]]\n",
        "```\n",
        "\n",
        "Note: You only need to implement this function.\n",
        "\n",
        "***solution:***"
      ],
      "metadata": {
        "id": "3NYNFFA6c9QA"
      }
    },
    {
      "cell_type": "code",
      "source": [],
      "metadata": {
        "id": "G64z4Zc-dHNR"
      },
      "execution_count": null,
      "outputs": []
    },
    {
      "cell_type": "markdown",
      "source": [
        "---\n",
        "### Exercise 199\n",
        "Dot product of vectors v, w:\n",
        "\n",
        "![image.png](data:image/png;base64,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)\n",
        "\n",
        "we define as:\n",
        "\n",
        "![image.png](data:image/png;base64,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)\n",
        "\n",
        "Implement a function called `dot_product()` that takes two lists of the same length (vectors) and calculate the dot product. We assume that user gives a correctly defined vector.\n",
        "\n",
        "\n",
        "\n",
        "Example:\n",
        "\n",
        "\n",
        "```\n",
        "[IN]: dot_product([1, 2], [5, 2])\n",
        "[OUT]: 9\n",
        "```\n",
        "\n",
        "Note: You only need to implement this function.\n",
        "\n",
        "***solution:***"
      ],
      "metadata": {
        "id": "k0EA1iFVdHdq"
      }
    },
    {
      "cell_type": "code",
      "source": [],
      "metadata": {
        "id": "L7L5lLhBdSaf"
      },
      "execution_count": null,
      "outputs": []
    },
    {
      "cell_type": "markdown",
      "source": [
        "---\n",
        "### Exercise 200\n",
        "Implement a function called `count_none()` that counts all missing values in the list.\n",
        "\n",
        "\n",
        "\n",
        "Example:\n",
        "\n",
        "\n",
        "```\n",
        "[IN]: count_none([1, None, None, 5, None, 2])\n",
        "[OUT]: 3\n",
        "```\n",
        "\n",
        "Note: You only need to implement this function.\n",
        "\n",
        "***solution:***\n"
      ],
      "metadata": {
        "id": "3d13GWbidS6_"
      }
    },
    {
      "cell_type": "code",
      "source": [],
      "metadata": {
        "id": "oNf2UF1Adcf0"
      },
      "execution_count": null,
      "outputs": []
    },
    {
      "cell_type": "markdown",
      "source": [
        "---\n",
        "### Exercise 201\n",
        "Implement a function top_n() which extracts top n largest values from the given list.\n",
        "\n",
        "\n",
        "\n",
        "Arguments:\n",
        "\n",
        "- items - list of values\n",
        "\n",
        "- n - top n elements to extract\n",
        "\n",
        "\n",
        "\n",
        "Example:\n",
        "\n",
        "\n",
        "```\n",
        "[IN]: top_n([4, 5, 2, 9, 5, 2, 8, 2, 8, 10], 3)\n",
        "[OUT]: [10, 9, 8]\n",
        "```\n",
        "\n",
        "Note: You only need to implement this function.\n",
        "\n",
        "***solution:***"
      ],
      "metadata": {
        "id": "mToIQQqIdcyi"
      }
    },
    {
      "cell_type": "code",
      "source": [],
      "metadata": {
        "id": "AyIELukVdmOz"
      },
      "execution_count": null,
      "outputs": []
    }
  ]
}