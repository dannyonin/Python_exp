{
  "nbformat": 4,
  "nbformat_minor": 0,
  "metadata": {
    "colab": {
      "provenance": [],
      "authorship_tag": "ABX9TyNJ6FMDzFSO8BMr56AXfX/4"
    },
    "kernelspec": {
      "name": "python3",
      "display_name": "Python 3"
    },
    "language_info": {
      "name": "python"
    }
  },
  "cells": [
    {
      "cell_type": "markdown",
      "source": [
        "#Intro 📓 📃 #5\n",
        "##Welcome to the FUNCTIONS section! 🛸 🥠"
      ],
      "metadata": {
        "id": "tL8LkuB3q6Ba"
      }
    },
    {
      "cell_type": "markdown",
      "source": [
        "---\n",
        "## Built-in functions"
      ],
      "metadata": {
        "id": "Q4pA2sIArISu"
      }
    },
    {
      "cell_type": "markdown",
      "source": [
        "---\n",
        "###Exercise 118\n",
        "The variable x:\n",
        "\n",
        "\n",
        "```\n",
        "x = -1.5\n",
        "```\n",
        "\n",
        "and the following expression are given:\n",
        "\n",
        "\n",
        "```\n",
        "expression = 'x**2 + x'\n",
        "```\n",
        "\n",
        "Using the appropriate function, calculate the value of this expression and print the result to the console.\n",
        "\n",
        "\n",
        "\n",
        "Tip: Use the `eval()` function.\n",
        "\n",
        "\n",
        "\n",
        "Expected result:\n",
        "\n",
        "\n",
        "```\n",
        "0.75\n",
        "```\n",
        "***solution:***"
      ],
      "metadata": {
        "id": "cekYjH6yrOQ9"
      }
    },
    {
      "cell_type": "code",
      "execution_count": null,
      "metadata": {
        "id": "7ePagARRqx6p"
      },
      "outputs": [],
      "source": []
    },
    {
      "cell_type": "markdown",
      "source": [
        "---\n",
        "### Exercise 119\n",
        "The following variables are given:\n",
        "\n",
        "\n",
        "```\n",
        "var1 = 'Python'\n",
        "var2 = ('Python')\n",
        "var3 = ('Python',)\n",
        "var4 = ['Python']\n",
        "var5 = {'Python'}\n",
        "```\n",
        "\n",
        "Using the appropriate function, check if the variables are instances of tuple class. Print the result to the console as shown below.\n",
        "\n",
        "\n",
        "\n",
        "Tip: Use the `isinstance()` built-in function.\n",
        "\n",
        "\n",
        "\n",
        "Expected result:\n",
        "\n",
        "\n",
        "```\n",
        "False\n",
        "False\n",
        "True\n",
        "False\n",
        "False\n",
        "```\n",
        "\n",
        "***solution:***"
      ],
      "metadata": {
        "id": "igXGVmxbraf0"
      }
    },
    {
      "cell_type": "code",
      "source": [],
      "metadata": {
        "id": "TQiH3Y6KrYk2"
      },
      "execution_count": null,
      "outputs": []
    },
    {
      "cell_type": "markdown",
      "source": [],
      "metadata": {
        "id": "DAVJGiAprZBq"
      }
    }
  ]
}