{
  "nbformat": 4,
  "nbformat_minor": 0,
  "metadata": {
    "colab": {
      "provenance": [],
      "authorship_tag": "ABX9TyOhLQ/gxNuzj3QJF+o6diF2"
    },
    "kernelspec": {
      "name": "python3",
      "display_name": "Python 3"
    },
    "language_info": {
      "name": "python"
    }
  },
  "cells": [
    {
      "cell_type": "markdown",
      "source": [
        "Using the `print()` function, print string: `'Learn Python!'` to the console."
      ],
      "metadata": {
        "id": "MLVM4XEHsfqa"
      }
    },
    {
      "cell_type": "code",
      "source": [
        "print('Learn Python!')"
      ],
      "metadata": {
        "id": "Pqb9n4MdsiLh"
      },
      "execution_count": null,
      "outputs": []
    },
    {
      "cell_type": "markdown",
      "source": [
        "Assign to the variable age number 20. Using the age variable and the `print()` function print to the console the following text:\n",
        "\n",
        "\n",
        "\n",
        "`I am 20 years old.`\n"
      ],
      "metadata": {
        "id": "x1pl1lEbsjpo"
      }
    },
    {
      "cell_type": "code",
      "source": [
        "age = 20\n",
        "print(\"I am {} years old.\".format(age))"
      ],
      "metadata": {
        "id": "QXUxCBmTs8_d"
      },
      "execution_count": null,
      "outputs": []
    }
  ]
}