{
  "nbformat": 4,
  "nbformat_minor": 0,
  "metadata": {
    "colab": {
      "provenance": [],
      "collapsed_sections": [],
      "authorship_tag": "ABX9TyP0FHbe3GPqxPPV8fdInQuj"
    },
    "kernelspec": {
      "name": "python3",
      "display_name": "Python 3"
    },
    "language_info": {
      "name": "python"
    }
  },
  "cells": [
    {
      "cell_type": "markdown",
      "source": [
        "#Intro 📚 😎\n",
        "\n",
        "##Welcome to the BASICS section!\n",
        "\n",
        "\n",
        "\n",
        "We'll start with simple exercises to warm up a bit 💪 🔽"
      ],
      "metadata": {
        "id": "mbyFwboswVRl"
      }
    },
    {
      "cell_type": "markdown",
      "source": [
        "####Exercise 0\n",
        "Print the Python version to the console.\n",
        "\n",
        "\n",
        "\n",
        "**Expected result:**\n",
        "\n",
        "\n",
        "\n",
        "`3.8.10`"
      ],
      "metadata": {
        "id": "GjCxxWu6xc4h"
      }
    },
    {
      "cell_type": "code",
      "source": [
        "import sys\n",
        "\n",
        "print(sys.version.split()[0])"
      ],
      "metadata": {
        "id": "1fsYRQijxm0e"
      },
      "execution_count": null,
      "outputs": []
    },
    {
      "cell_type": "markdown",
      "source": [
        "#### Exercise 1\n",
        "Using the `print()` function, print string: `'Learn Python!'` to the console."
      ],
      "metadata": {
        "id": "MLVM4XEHsfqa"
      }
    },
    {
      "cell_type": "code",
      "source": [
        "print('Learn Python!')"
      ],
      "metadata": {
        "id": "Pqb9n4MdsiLh"
      },
      "execution_count": null,
      "outputs": []
    },
    {
      "cell_type": "markdown",
      "source": [
        "#### Exercise 2\n",
        "Assign to the variable age number 20. Using the age variable and the `print()` function print to the console the following text:\n",
        "\n",
        "\n",
        "\n",
        "`I am 20 years old.`\n"
      ],
      "metadata": {
        "id": "x1pl1lEbsjpo"
      }
    },
    {
      "cell_type": "code",
      "source": [
        "age = 20\n",
        "print(\"I am {} years old.\".format(age))"
      ],
      "metadata": {
        "id": "QXUxCBmTs8_d"
      },
      "execution_count": null,
      "outputs": []
    },
    {
      "cell_type": "markdown",
      "source": [
        "#### Exercise 3\n",
        "Create two variables (you can freely choose the names) and assign to them following values:\n",
        "\n",
        "*  'Python'\n",
        "*  '3.8'\n",
        "\n",
        "Using these variables and the print() function, print to the console the following text:\n",
        "\n",
        "\n",
        "`I am learning Python version 3.8`\n",
        "\n"
      ],
      "metadata": {
        "id": "orJ0Qzdbuw7Z"
      }
    },
    {
      "cell_type": "code",
      "source": [
        "b = 3.8\n",
        "a = \"Python\"\n",
        "\n",
        "print(\"I am learning {} version {}\".format(a, b))"
      ],
      "metadata": {
        "id": "hn6nWtnYvYyK"
      },
      "execution_count": null,
      "outputs": []
    },
    {
      "cell_type": "markdown",
      "source": [
        "#### Exercise 4\n",
        "Assign 199.99 to the price variable and check the solution.\n",
        "\n",
        "\n",
        "\n",
        "Expected result:\n",
        "\n",
        "\n",
        "\n",
        "`This costs 199.99`\n"
      ],
      "metadata": {
        "id": "i6js3JqCv6-A"
      }
    },
    {
      "cell_type": "code",
      "source": [
        "price = 199.99\n",
        "print('This costs', price)"
      ],
      "metadata": {
        "id": "BFedZFrIwDCB"
      },
      "execution_count": null,
      "outputs": []
    },
    {
      "cell_type": "markdown",
      "source": [
        "####Exercise 5\n",
        "Assign 69.99 to the price variable and check the solution.\n",
        "\n",
        "\n",
        "\n",
        "Expected result:\n",
        "\n",
        "\n",
        "\n",
        "This costs 69.99\n"
      ],
      "metadata": {
        "id": "1VLz-zBowI_-"
      }
    },
    {
      "cell_type": "code",
      "source": [],
      "metadata": {
        "id": "P4q2UVe9wIXE"
      },
      "execution_count": null,
      "outputs": []
    }
  ]
}