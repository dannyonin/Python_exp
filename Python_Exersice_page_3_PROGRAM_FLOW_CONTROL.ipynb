{
  "nbformat": 4,
  "nbformat_minor": 0,
  "metadata": {
    "colab": {
      "provenance": [],
      "authorship_tag": "ABX9TyNgs+fFUIxlMwSP8EQyR1Jh"
    },
    "kernelspec": {
      "name": "python3",
      "display_name": "Python 3"
    },
    "language_info": {
      "name": "python"
    }
  },
  "cells": [
    {
      "cell_type": "markdown",
      "source": [
        "# Intro 📃 #3\n",
        "\n",
        "\n",
        "\n",
        "## 🚧 🚧 🚧 🚧\n",
        "\n",
        "## Welcome to the PROGRAM FLOW CONTROL section! 🎛 \n",
        "## ✏ 📔"
      ],
      "metadata": {
        "id": "7cOui1R1n447"
      }
    },
    {
      "cell_type": "markdown",
      "source": [
        "---\n",
        "## if statement"
      ],
      "metadata": {
        "id": "EYUoJ2Y4oxpA"
      }
    },
    {
      "cell_type": "markdown",
      "source": [
        "---\n",
        "###Exercise 78\n",
        "The following filename is given:\n",
        "\n",
        "\n",
        "`filename = '01012020_sales.xlsx'`\n",
        "\n",
        "\n",
        "Check if the file has the` 'xlsx'` extension. Print to the console `'YES'` if true, `'NO'` if false.\n",
        "\n",
        "Expected result:\n",
        "\n",
        "`YES`\n",
        "***solution:***"
      ],
      "metadata": {
        "id": "E1aR72ylo7hc"
      }
    },
    {
      "cell_type": "code",
      "execution_count": null,
      "metadata": {
        "id": "htuvXCXOnojI"
      },
      "outputs": [],
      "source": []
    },
    {
      "cell_type": "markdown",
      "source": [
        "---\n",
        "###Exercise 79\n",
        "The following code is given:\n",
        "\n",
        "\n",
        "```\n",
        "code = 'DSVNDOICSN'\n",
        "```\n",
        "\n",
        "Check if the code variable has only uppercase letters. If so, print `'YES'` to the console.\n",
        "\n",
        "\n",
        "\n",
        "Expected result:\n",
        "\n",
        "\n",
        "```\n",
        "YES\n",
        "```\n",
        "***solution:***"
      ],
      "metadata": {
        "id": "zclM__dapM1T"
      }
    },
    {
      "cell_type": "code",
      "source": [],
      "metadata": {
        "id": "vJ_AqS2IpfL4"
      },
      "execution_count": null,
      "outputs": []
    },
    {
      "cell_type": "markdown",
      "source": [
        "---\n",
        "### Exercise 80\n",
        "The following variable is given:\n",
        "\n",
        "\n",
        "```\n",
        "number = 1.0\n",
        "```\n",
        "\n",
        "Test whether the variable is an instance of the built-in class int. Print `'YES'` if true, `'NO'` if false.\n",
        "\n",
        "\n",
        "Expected result:\n",
        "\n",
        "\n",
        "`NO`\n",
        "\n",
        "***solution:***"
      ],
      "metadata": {
        "id": "WfaSRmfHpfda"
      }
    },
    {
      "cell_type": "markdown",
      "source": [
        "---\n",
        "###Exercise 81\n",
        "The following password is given:\n",
        "\n",
        "\n",
        "```\n",
        "password = 'cskdnjcasa#!'\n",
        "```\n",
        "\n",
        "Check if the password is at least 11 characters long. If so, print `'Password correct'`, otherwise `'Password too short'`.\n",
        "\n",
        "\n",
        "\n",
        "Expected result:\n",
        "\n",
        "\n",
        "```\n",
        "Password correct\n",
        "```\n",
        "\n",
        "***solution:***"
      ],
      "metadata": {
        "id": "wsWQS0eSp1_D"
      }
    },
    {
      "cell_type": "code",
      "source": [],
      "metadata": {
        "id": "Zp9AZKDlp1eW"
      },
      "execution_count": null,
      "outputs": []
    },
    {
      "cell_type": "markdown",
      "source": [
        "---\n",
        "###Exercise 82\n",
        "The following password is given:\n",
        "\n",
        "\n",
        "\n",
        "`password = 'cskdnjcasa#!'`\n",
        "\n",
        "\n",
        "Check if the password has at least 11 characters and contains the special character `'!'`.\n",
        "\n",
        "If so, print `'Password correct'`, otherwise `'Password incorrect'`.\n",
        "\n",
        "\n",
        "\n",
        "Expected result:\n",
        "\n",
        "`Password correct`\n",
        "\n",
        "***solution:***"
      ],
      "metadata": {
        "id": "ajFxV0IOqFW9"
      }
    },
    {
      "cell_type": "code",
      "source": [],
      "metadata": {
        "id": "YD_M7nTcqU-B"
      },
      "execution_count": null,
      "outputs": []
    },
    {
      "cell_type": "markdown",
      "source": [
        "---\n",
        "###Exercise 83\n",
        "The following list is given:\n",
        "\n",
        "\n",
        "```\n",
        "project_ids = ['02134', '24253']\n",
        "\n",
        "```\n",
        "Check if the following project id:\n",
        "\n",
        "\n",
        "```\n",
        "project_id = '02135'\n",
        "```\n",
        "\n",
        "is in the project_ids list. If not, add this project_id to the list and print this list to the console.\n",
        "\n",
        "***solution:***"
      ],
      "metadata": {
        "id": "xaqV4HX1qVRv"
      }
    },
    {
      "cell_type": "code",
      "source": [],
      "metadata": {
        "id": "0fwkvhmKqZ7v"
      },
      "execution_count": null,
      "outputs": []
    },
    {
      "cell_type": "markdown",
      "source": [
        "---\n",
        "### Exercise 84\n",
        "The following dictionary is given:\n",
        "\n",
        "\n",
        "```\n",
        "project_ids = {\n",
        "    '01': 'open', \n",
        "    '02': 'new',\n",
        "    '03': 'in progress',\n",
        "    '04': 'completed'\n",
        "}\n",
        "```\n",
        "\n",
        "Using the conditional statement, check if the project status with `id = '02'` is set to `'new'`. If so, change its status to `'open'` and print the dictionary to the console.\n",
        "\n",
        "\n",
        "\n",
        "Expected result:\n",
        "\n",
        "\n",
        "```\n",
        "{'01': 'open', '02': 'open', '03': 'in progress', '04': 'completed'}\n",
        "```\n",
        "***solution:***"
      ],
      "metadata": {
        "id": "2J9KnbcfqfLz"
      }
    },
    {
      "cell_type": "code",
      "source": [],
      "metadata": {
        "id": "0zwRjA_rqqdR"
      },
      "execution_count": null,
      "outputs": []
    },
    {
      "cell_type": "markdown",
      "source": [
        "---\n",
        "###Exercise 85\n",
        "Write a program that checks if the given item:\n",
        "\n",
        "\n",
        "```\n",
        "item = '001'\n",
        "```\n",
        "\n",
        "is in the list:\n",
        "\n",
        "\n",
        "```\n",
        "items = ['001', '000', '003', '005', '006']\n",
        "```\n",
        "\n",
        "If so, remove this item from the list and print this list to the console.\n",
        "\n",
        "\n",
        "\n",
        "Expected result:\n",
        "\n",
        "\n",
        "```\n",
        "['000', '003', '005', '006']\n",
        "```\n",
        "\n",
        "***solution:***"
      ],
      "metadata": {
        "id": "-DdhWx29qrdr"
      }
    },
    {
      "cell_type": "code",
      "source": [],
      "metadata": {
        "id": "BgVqEMGqq3bT"
      },
      "execution_count": null,
      "outputs": []
    }
  ]
}
